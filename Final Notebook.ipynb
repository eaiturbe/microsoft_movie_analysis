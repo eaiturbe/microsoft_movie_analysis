{
 "cells": [
  {
   "cell_type": "markdown",
   "metadata": {},
   "source": [
<<<<<<< HEAD
    "# Microsoft Movie Analysis"
=======
    "# Overview"
>>>>>>> bf882aca1132534758e61afc9db54c6c372effe0
   ]
  },
  {
   "cell_type": "markdown",
   "metadata": {},
   "source": [
<<<<<<< HEAD
    "## Importing libraries"
=======
    "### This project aims to discover how to make the most profitable movie possible in order to make business recommendations to Microsoft. Descriptive analyses of a variety of data on previously released movies reveal that the most profitable movie Microsoft could make is an adventure movie with an NR rating, directed by Jean Negulsesco, with a runtime between 100 minutes and 131 minutes, at Buena Vistas studios."
   ]
  },
  {
   "cell_type": "markdown",
   "metadata": {},
   "source": [
    "# Business Problem"
   ]
  },
  {
   "cell_type": "markdown",
   "metadata": {},
   "source": [
    "### Microsoft wants to open a movie studio that can compete with other successful movie studios. However, they lack knowledge about filmmaking. To help them in this area, we will find out how a variety of factors affect the popularity of movies and offer recommendations."
   ]
  },
  {
   "cell_type": "markdown",
   "metadata": {},
   "source": [
    "# Data"
   ]
  },
  {
   "cell_type": "markdown",
   "metadata": {},
   "source": [
    "### We examined data on gross, genre, studio, director, release date, MPR rating, Rotten Tomatoes score, and run time. Variables like gross and Rotten Tomatoes score served as measures of the success of movies. The relationship between the rest of the variables and those two measures of success demonstrate what factors can be relied upon to make a profitable movie."
   ]
  },
  {
   "cell_type": "markdown",
   "metadata": {},
   "source": [
    "# Methods"
   ]
  },
  {
   "cell_type": "markdown",
   "metadata": {},
   "source": [
    "### Our process started with organizing our data by dropping irrelevant columns, creating new ones, sorting by specific values, and merging dataframes. While modeling our data, we used descriptive statistics to create helpful visuals that displayed our findings. Overall, our descriptive analysis is absolutely essential for anyone looking to succeed in the movie industry."
   ]
  },
  {
   "cell_type": "markdown",
   "metadata": {},
   "source": [
    "## Importing libraries\n",
    "\n"
>>>>>>> bf882aca1132534758e61afc9db54c6c372effe0
   ]
  },
  {
   "cell_type": "markdown",
   "metadata": {},
   "source": [
    "We imported the Pandas, Numpy, Seaborn, and Matplotlib libraries so we could use them to manipulate the dataset and create visualizations for it."
   ]
  },
  {
   "cell_type": "code",
   "execution_count": 1,
   "metadata": {},
   "outputs": [],
   "source": [
    "import pandas as pd\n",
    "import numpy as np\n",
    "import matplotlib.pyplot as plt\n",
    "%matplotlib inline\n",
    "import seaborn as sns\n",
    "from matplotlib.lines import Line2D"
   ]
  },
  {
   "cell_type": "markdown",
   "metadata": {},
   "source": [
    "## Importing tn.movie_budgets.csv.gz and imdb.title.basics.csv.gz CSV Files and Merging them"
   ]
  },
  {
   "cell_type": "code",
   "execution_count": 2,
   "metadata": {},
   "outputs": [
    {
     "data": {
      "text/html": [
       "<div>\n",
       "<style scoped>\n",
       "    .dataframe tbody tr th:only-of-type {\n",
       "        vertical-align: middle;\n",
       "    }\n",
       "\n",
       "    .dataframe tbody tr th {\n",
       "        vertical-align: top;\n",
       "    }\n",
       "\n",
       "    .dataframe thead th {\n",
       "        text-align: right;\n",
       "    }\n",
       "</style>\n",
       "<table border=\"1\" class=\"dataframe\">\n",
       "  <thead>\n",
       "    <tr style=\"text-align: right;\">\n",
       "      <th></th>\n",
       "      <th>id</th>\n",
       "      <th>release_date</th>\n",
       "      <th>movie</th>\n",
       "      <th>production_budget</th>\n",
       "      <th>domestic_gross</th>\n",
       "      <th>worldwide_gross</th>\n",
       "      <th>tconst</th>\n",
       "      <th>primary_title</th>\n",
       "      <th>original_title</th>\n",
       "      <th>start_year</th>\n",
       "      <th>runtime_minutes</th>\n",
       "      <th>genres</th>\n",
       "    </tr>\n",
       "  </thead>\n",
       "  <tbody>\n",
       "    <tr>\n",
       "      <th>0</th>\n",
       "      <td>1</td>\n",
       "      <td>Dec 18, 2009</td>\n",
       "      <td>Avatar</td>\n",
       "      <td>$425,000,000</td>\n",
       "      <td>$760,507,625</td>\n",
       "      <td>$2,776,345,279</td>\n",
       "      <td>tt1775309</td>\n",
       "      <td>Avatar</td>\n",
       "      <td>Abatâ</td>\n",
       "      <td>2011</td>\n",
       "      <td>93.0</td>\n",
       "      <td>Horror</td>\n",
       "    </tr>\n",
       "    <tr>\n",
       "      <th>1</th>\n",
       "      <td>2</td>\n",
       "      <td>May 20, 2011</td>\n",
       "      <td>Pirates of the Caribbean: On Stranger Tides</td>\n",
       "      <td>$410,600,000</td>\n",
       "      <td>$241,063,875</td>\n",
       "      <td>$1,045,663,875</td>\n",
       "      <td>tt1298650</td>\n",
       "      <td>Pirates of the Caribbean: On Stranger Tides</td>\n",
       "      <td>Pirates of the Caribbean: On Stranger Tides</td>\n",
       "      <td>2011</td>\n",
       "      <td>136.0</td>\n",
       "      <td>Action,Adventure,Fantasy</td>\n",
       "    </tr>\n",
       "    <tr>\n",
       "      <th>2</th>\n",
       "      <td>3</td>\n",
       "      <td>Jun 7, 2019</td>\n",
       "      <td>Dark Phoenix</td>\n",
       "      <td>$350,000,000</td>\n",
       "      <td>$42,762,350</td>\n",
       "      <td>$149,762,350</td>\n",
       "      <td>tt6565702</td>\n",
       "      <td>Dark Phoenix</td>\n",
       "      <td>Dark Phoenix</td>\n",
       "      <td>2019</td>\n",
       "      <td>113.0</td>\n",
       "      <td>Action,Adventure,Sci-Fi</td>\n",
       "    </tr>\n",
       "    <tr>\n",
       "      <th>3</th>\n",
       "      <td>4</td>\n",
       "      <td>May 1, 2015</td>\n",
       "      <td>Avengers: Age of Ultron</td>\n",
       "      <td>$330,600,000</td>\n",
       "      <td>$459,005,868</td>\n",
       "      <td>$1,403,013,963</td>\n",
       "      <td>tt2395427</td>\n",
       "      <td>Avengers: Age of Ultron</td>\n",
       "      <td>Avengers: Age of Ultron</td>\n",
       "      <td>2015</td>\n",
       "      <td>141.0</td>\n",
       "      <td>Action,Adventure,Sci-Fi</td>\n",
       "    </tr>\n",
       "    <tr>\n",
       "      <th>4</th>\n",
       "      <td>7</td>\n",
       "      <td>Apr 27, 2018</td>\n",
       "      <td>Avengers: Infinity War</td>\n",
       "      <td>$300,000,000</td>\n",
       "      <td>$678,815,482</td>\n",
       "      <td>$2,048,134,200</td>\n",
       "      <td>tt4154756</td>\n",
       "      <td>Avengers: Infinity War</td>\n",
       "      <td>Avengers: Infinity War</td>\n",
       "      <td>2018</td>\n",
       "      <td>149.0</td>\n",
       "      <td>Action,Adventure,Sci-Fi</td>\n",
       "    </tr>\n",
       "  </tbody>\n",
       "</table>\n",
       "</div>"
      ],
      "text/plain": [
       "   id  release_date                                        movie  \\\n",
       "0   1  Dec 18, 2009                                       Avatar   \n",
       "1   2  May 20, 2011  Pirates of the Caribbean: On Stranger Tides   \n",
       "2   3   Jun 7, 2019                                 Dark Phoenix   \n",
       "3   4   May 1, 2015                      Avengers: Age of Ultron   \n",
       "4   7  Apr 27, 2018                       Avengers: Infinity War   \n",
       "\n",
       "  production_budget domestic_gross worldwide_gross     tconst  \\\n",
       "0      $425,000,000   $760,507,625  $2,776,345,279  tt1775309   \n",
       "1      $410,600,000   $241,063,875  $1,045,663,875  tt1298650   \n",
       "2      $350,000,000    $42,762,350    $149,762,350  tt6565702   \n",
       "3      $330,600,000   $459,005,868  $1,403,013,963  tt2395427   \n",
       "4      $300,000,000   $678,815,482  $2,048,134,200  tt4154756   \n",
       "\n",
       "                                 primary_title  \\\n",
       "0                                       Avatar   \n",
       "1  Pirates of the Caribbean: On Stranger Tides   \n",
       "2                                 Dark Phoenix   \n",
       "3                      Avengers: Age of Ultron   \n",
       "4                       Avengers: Infinity War   \n",
       "\n",
       "                                original_title  start_year  runtime_minutes  \\\n",
       "0                                        Abatâ        2011             93.0   \n",
       "1  Pirates of the Caribbean: On Stranger Tides        2011            136.0   \n",
       "2                                 Dark Phoenix        2019            113.0   \n",
       "3                      Avengers: Age of Ultron        2015            141.0   \n",
       "4                       Avengers: Infinity War        2018            149.0   \n",
       "\n",
       "                     genres  \n",
       "0                    Horror  \n",
       "1  Action,Adventure,Fantasy  \n",
       "2   Action,Adventure,Sci-Fi  \n",
       "3   Action,Adventure,Sci-Fi  \n",
       "4   Action,Adventure,Sci-Fi  "
      ]
     },
     "execution_count": 2,
     "metadata": {},
     "output_type": "execute_result"
    }
   ],
   "source": [
    "df = pd.read_csv('data/zippedData/tn.movie_budgets.csv.gz')\n",
    "df_2 = pd.read_csv('data/zippedData/imdb.title.basics.csv.gz')\n",
    "df_meg = pd.merge(df, df_2, how='inner', left_on='movie', right_on='primary_title')\n",
    "df_meg.head()"
   ]
  },
  {
   "cell_type": "markdown",
   "metadata": {},
   "source": [
    "## Checking to see how much of the Column is missing based off Percentage"
   ]
  },
  {
   "cell_type": "code",
   "execution_count": 3,
   "metadata": {},
   "outputs": [
    {
     "name": "stdout",
     "output_type": "stream",
     "text": [
      "id - 0.0%\n",
      "release_date - 0.0%\n",
      "movie - 0.0%\n",
      "production_budget - 0.0%\n",
      "domestic_gross - 0.0%\n",
      "worldwide_gross - 0.0%\n",
      "tconst - 0.0%\n",
      "primary_title - 0.0%\n",
      "original_title - 0.0%\n",
      "start_year - 0.0%\n",
      "runtime_minutes - 13.0%\n",
      "genres - 2.0%\n"
     ]
    }
   ],
   "source": [
    "for col in df_meg.columns:\n",
    "    pct_missing = np.mean(df_meg[col].isnull())\n",
    "    print('{} - {}%'.format(col, round(pct_missing*100)))"
   ]
  },
  {
   "cell_type": "markdown",
   "metadata": {},
   "source": [
    "## Dropping as well as Splitting and Replacing Columns"
   ]
  },
  {
   "cell_type": "code",
   "execution_count": 4,
   "metadata": {},
   "outputs": [
    {
     "data": {
      "text/html": [
       "<div>\n",
       "<style scoped>\n",
       "    .dataframe tbody tr th:only-of-type {\n",
       "        vertical-align: middle;\n",
       "    }\n",
       "\n",
       "    .dataframe tbody tr th {\n",
       "        vertical-align: top;\n",
       "    }\n",
       "\n",
       "    .dataframe thead th {\n",
       "        text-align: right;\n",
       "    }\n",
       "</style>\n",
       "<table border=\"1\" class=\"dataframe\">\n",
       "  <thead>\n",
       "    <tr style=\"text-align: right;\">\n",
       "      <th></th>\n",
       "      <th>movie</th>\n",
       "      <th>domestic_gross</th>\n",
       "      <th>worldwide_gross</th>\n",
       "      <th>genres</th>\n",
       "    </tr>\n",
       "  </thead>\n",
       "  <tbody>\n",
       "    <tr>\n",
       "      <th>0</th>\n",
       "      <td>Avatar</td>\n",
       "      <td>760507625</td>\n",
       "      <td>2776345279</td>\n",
       "      <td>[Horror]</td>\n",
       "    </tr>\n",
       "    <tr>\n",
       "      <th>1</th>\n",
       "      <td>Pirates of the Caribbean: On Stranger Tides</td>\n",
       "      <td>241063875</td>\n",
       "      <td>1045663875</td>\n",
       "      <td>[Action, Adventure, Fantasy]</td>\n",
       "    </tr>\n",
       "    <tr>\n",
       "      <th>2</th>\n",
       "      <td>Dark Phoenix</td>\n",
       "      <td>42762350</td>\n",
       "      <td>149762350</td>\n",
       "      <td>[Action, Adventure, Sci-Fi]</td>\n",
       "    </tr>\n",
       "    <tr>\n",
       "      <th>3</th>\n",
       "      <td>Avengers: Age of Ultron</td>\n",
       "      <td>459005868</td>\n",
       "      <td>1403013963</td>\n",
       "      <td>[Action, Adventure, Sci-Fi]</td>\n",
       "    </tr>\n",
       "    <tr>\n",
       "      <th>4</th>\n",
       "      <td>Avengers: Infinity War</td>\n",
       "      <td>620181382</td>\n",
       "      <td>1316721747</td>\n",
       "      <td>[Action, Adventure, Sci-Fi]</td>\n",
       "    </tr>\n",
       "  </tbody>\n",
       "</table>\n",
       "</div>"
      ],
      "text/plain": [
       "                                         movie  domestic_gross  \\\n",
       "0                                       Avatar       760507625   \n",
       "1  Pirates of the Caribbean: On Stranger Tides       241063875   \n",
       "2                                 Dark Phoenix        42762350   \n",
       "3                      Avengers: Age of Ultron       459005868   \n",
       "4                       Avengers: Infinity War       620181382   \n",
       "\n",
       "   worldwide_gross                        genres  \n",
       "0       2776345279                      [Horror]  \n",
       "1       1045663875  [Action, Adventure, Fantasy]  \n",
       "2        149762350   [Action, Adventure, Sci-Fi]  \n",
       "3       1403013963   [Action, Adventure, Sci-Fi]  \n",
       "4       1316721747   [Action, Adventure, Sci-Fi]  "
      ]
     },
     "execution_count": 4,
     "metadata": {},
     "output_type": "execute_result"
    }
   ],
   "source": [
    "cols_to_drop = ['runtime_minutes','start_year','original_title','id' ,'production_budget', 'release_date','tconst','primary_title']\n",
    "df_mod_2 = df_meg.drop(cols_to_drop, axis=1)\n",
    "df_mod_2[\"genres\"] = df_mod_2[\"genres\"].apply(lambda x: x.split(\",\") if type(x) == str else x)\n",
    "df_mod_2[\"domestic_gross\"] = df[\"domestic_gross\"].str.replace(\",\",\"\").str.replace(\"$\",\"\").astype(int)\n",
    "df_mod_2[\"worldwide_gross\"] = df[\"worldwide_gross\"].str.replace(\",\",\"\").str.replace(\"$\",\"\").astype(int)\n",
    "df_mod_2.head()"
   ]
  },
  {
   "cell_type": "markdown",
   "metadata": {},
   "source": [
    "## Exploding the Genres Column as well as changing the Zeros to Nan then Dropping Nan's"
   ]
  },
  {
   "cell_type": "code",
   "execution_count": 5,
   "metadata": {},
   "outputs": [
    {
     "name": "stdout",
     "output_type": "stream",
     "text": [
      "id                   0\n",
      "release_date         0\n",
      "movie                0\n",
      "production_budget    0\n",
      "domestic_gross       0\n",
      "worldwide_gross      0\n",
      "dtype: int64\n"
     ]
    }
   ],
   "source": [
    "df_explode = df_mod_2.explode('genres')\n",
    "df_explode.replace(0, np.nan, inplace=True)\n",
    "df_explode[df_explode.isna().any(axis=1)]\n",
    "df_explode = df_explode.dropna()\n",
    "print(df.isnull().sum())"
   ]
  },
  {
   "cell_type": "markdown",
   "metadata": {},
   "source": [
    "## Grouping by Genres means and sourting it by worldwide_gross as well as setting index to Movies"
   ]
  },
  {
   "cell_type": "code",
   "execution_count": 6,
   "metadata": {},
   "outputs": [],
   "source": [
    "df_explode.groupby('genres').mean()\n",
    "df_explode= df_explode.sort_values(\"worldwide_gross\", ascending=False).set_index('movie')\n",
    "df_top_50 = df_explode"
   ]
  },
  {
   "cell_type": "markdown",
   "metadata": {},
   "source": [
    "## Plotting the data in a Bar Plot"
   ]
  },
  {
   "cell_type": "code",
   "execution_count": 7,
   "metadata": {},
   "outputs": [
    {
     "data": {
      "image/png": "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\n",
      "text/plain": [
       "<Figure size 720x576 with 1 Axes>"
      ]
     },
     "metadata": {
      "needs_background": "light"
     },
     "output_type": "display_data"
    }
   ],
   "source": [
    "plt.figure(figsize=(10, 8))\n",
    "sns.barplot(x='genres', \n",
    "            y='worldwide_gross',\n",
    "            order=[\"Adventure\",\"Animation\",\"Fantasy\",\"Musical\",'Sci-Fi','Action', 'Family',\"Western\",\"History\",'Documentary', 'Sport',\"Comedy\",'Thriller',\"Reality-TV\",'News','Biography','Drama', 'War','Crime','Mystery', 'Romance','Horror',\"Music\"],\n",
    "            data=df_top_50,)\n",
    "plt.ylabel(\"Worldwide Gross in Hundreds of Millions\", size=14)\n",
    "plt.xlabel(\"Genres\", size=14)\n",
    "plt.title(\" Movies Worldwide Gross per Genre\", size=18)\n",
    "plt.tick_params(axis='x', labelrotation=90)\n",
    "plt.savefig(\"images/grouped_barplot_Seaborn_barplot_Python_corrected.png\")"
   ]
  },
  {
   "cell_type": "markdown",
   "metadata": {},
   "source": [
    "### This renders the data of what genre of movie Microsoft should make based off the highest Worldwide Gross"
   ]
  },
  {
   "cell_type": "markdown",
   "metadata": {},
   "source": [
    "## Work on tmdb_movies_data.csv.zip CSV"
   ]
  },
  {
   "cell_type": "markdown",
   "metadata": {},
   "source": [
    "## Importing CSV and Dropping Columns"
   ]
  },
  {
   "cell_type": "code",
   "execution_count": 8,
   "metadata": {},
   "outputs": [
    {
     "data": {
      "text/html": [
       "<div>\n",
       "<style scoped>\n",
       "    .dataframe tbody tr th:only-of-type {\n",
       "        vertical-align: middle;\n",
       "    }\n",
       "\n",
       "    .dataframe tbody tr th {\n",
       "        vertical-align: top;\n",
       "    }\n",
       "\n",
       "    .dataframe thead th {\n",
       "        text-align: right;\n",
       "    }\n",
       "</style>\n",
       "<table border=\"1\" class=\"dataframe\">\n",
       "  <thead>\n",
       "    <tr style=\"text-align: right;\">\n",
       "      <th></th>\n",
       "      <th>budget</th>\n",
       "      <th>revenue</th>\n",
       "      <th>original_title</th>\n",
       "      <th>runtime</th>\n",
       "    </tr>\n",
       "  </thead>\n",
       "  <tbody>\n",
       "    <tr>\n",
       "      <th>0</th>\n",
       "      <td>150000000</td>\n",
       "      <td>1513528810</td>\n",
       "      <td>Jurassic World</td>\n",
       "      <td>124</td>\n",
       "    </tr>\n",
       "    <tr>\n",
       "      <th>1</th>\n",
       "      <td>150000000</td>\n",
       "      <td>378436354</td>\n",
       "      <td>Mad Max: Fury Road</td>\n",
       "      <td>120</td>\n",
       "    </tr>\n",
       "    <tr>\n",
       "      <th>2</th>\n",
       "      <td>110000000</td>\n",
       "      <td>295238201</td>\n",
       "      <td>Insurgent</td>\n",
       "      <td>119</td>\n",
       "    </tr>\n",
       "    <tr>\n",
       "      <th>3</th>\n",
       "      <td>200000000</td>\n",
       "      <td>2068178225</td>\n",
       "      <td>Star Wars: The Force Awakens</td>\n",
       "      <td>136</td>\n",
       "    </tr>\n",
       "    <tr>\n",
       "      <th>4</th>\n",
       "      <td>190000000</td>\n",
       "      <td>1506249360</td>\n",
       "      <td>Furious 7</td>\n",
       "      <td>137</td>\n",
       "    </tr>\n",
       "  </tbody>\n",
       "</table>\n",
       "</div>"
      ],
      "text/plain": [
       "      budget     revenue                original_title  runtime\n",
       "0  150000000  1513528810                Jurassic World      124\n",
       "1  150000000   378436354            Mad Max: Fury Road      120\n",
       "2  110000000   295238201                     Insurgent      119\n",
       "3  200000000  2068178225  Star Wars: The Force Awakens      136\n",
       "4  190000000  1506249360                     Furious 7      137"
      ]
     },
     "execution_count": 8,
     "metadata": {},
     "output_type": "execute_result"
    }
   ],
   "source": [
    "df3 = pd.read_csv('data/zippedData/tmdb_movies_data.csv.zip')\n",
    "cols_to_drop = ['id', 'imdb_id','cast', 'homepage', 'director','tagline', 'overview', 'production_companies','keywords' ,'vote_count','genres','release_date','release_year','vote_average','budget_adj','popularity','revenue_adj']\n",
    "df_mod = df3.drop(cols_to_drop, axis=1)\n",
    "df_mod.head()"
   ]
  },
  {
   "cell_type": "markdown",
   "metadata": {},
   "source": [
    "## Replacing zeros with nan and dropping the nan's"
   ]
  },
  {
   "cell_type": "code",
   "execution_count": 9,
   "metadata": {},
   "outputs": [
    {
     "name": "stdout",
     "output_type": "stream",
     "text": [
      "budget            0\n",
      "revenue           0\n",
      "original_title    0\n",
      "runtime           0\n",
      "dtype: int64\n"
     ]
    }
   ],
   "source": [
    "df_mod.replace(0, np.nan, inplace=True)\n",
    "df_mod[df_mod.isna().any(axis=1)]\n",
    "df_mod = df_mod.dropna()\n",
    "print(df_mod.isnull().sum())"
   ]
  },
  {
   "cell_type": "markdown",
   "metadata": {},
   "source": [
    "## Sorting Values in ascending order for Revenue"
   ]
  },
  {
   "cell_type": "code",
   "execution_count": 10,
   "metadata": {},
   "outputs": [
    {
     "data": {
      "text/html": [
       "<div>\n",
       "<style scoped>\n",
       "    .dataframe tbody tr th:only-of-type {\n",
       "        vertical-align: middle;\n",
       "    }\n",
       "\n",
       "    .dataframe tbody tr th {\n",
       "        vertical-align: top;\n",
       "    }\n",
       "\n",
       "    .dataframe thead th {\n",
       "        text-align: right;\n",
       "    }\n",
       "</style>\n",
       "<table border=\"1\" class=\"dataframe\">\n",
       "  <thead>\n",
       "    <tr style=\"text-align: right;\">\n",
       "      <th></th>\n",
       "      <th>budget</th>\n",
       "      <th>revenue</th>\n",
       "      <th>runtime</th>\n",
       "    </tr>\n",
       "  </thead>\n",
       "  <tbody>\n",
       "    <tr>\n",
       "      <th>count</th>\n",
       "      <td>3.855000e+03</td>\n",
       "      <td>3.855000e+03</td>\n",
       "      <td>3855.000000</td>\n",
       "    </tr>\n",
       "    <tr>\n",
       "      <th>mean</th>\n",
       "      <td>3.720183e+07</td>\n",
       "      <td>1.076589e+08</td>\n",
       "      <td>109.215824</td>\n",
       "    </tr>\n",
       "    <tr>\n",
       "      <th>std</th>\n",
       "      <td>4.220291e+07</td>\n",
       "      <td>1.765248e+08</td>\n",
       "      <td>19.922166</td>\n",
       "    </tr>\n",
       "    <tr>\n",
       "      <th>min</th>\n",
       "      <td>1.000000e+00</td>\n",
       "      <td>2.000000e+00</td>\n",
       "      <td>15.000000</td>\n",
       "    </tr>\n",
       "    <tr>\n",
       "      <th>25%</th>\n",
       "      <td>1.000000e+07</td>\n",
       "      <td>1.357645e+07</td>\n",
       "      <td>95.000000</td>\n",
       "    </tr>\n",
       "    <tr>\n",
       "      <th>50%</th>\n",
       "      <td>2.400000e+07</td>\n",
       "      <td>4.479322e+07</td>\n",
       "      <td>106.000000</td>\n",
       "    </tr>\n",
       "    <tr>\n",
       "      <th>75%</th>\n",
       "      <td>5.000000e+07</td>\n",
       "      <td>1.241530e+08</td>\n",
       "      <td>119.000000</td>\n",
       "    </tr>\n",
       "    <tr>\n",
       "      <th>max</th>\n",
       "      <td>4.250000e+08</td>\n",
       "      <td>2.781506e+09</td>\n",
       "      <td>338.000000</td>\n",
       "    </tr>\n",
       "  </tbody>\n",
       "</table>\n",
       "</div>"
      ],
      "text/plain": [
       "             budget       revenue      runtime\n",
       "count  3.855000e+03  3.855000e+03  3855.000000\n",
       "mean   3.720183e+07  1.076589e+08   109.215824\n",
       "std    4.220291e+07  1.765248e+08    19.922166\n",
       "min    1.000000e+00  2.000000e+00    15.000000\n",
       "25%    1.000000e+07  1.357645e+07    95.000000\n",
       "50%    2.400000e+07  4.479322e+07   106.000000\n",
       "75%    5.000000e+07  1.241530e+08   119.000000\n",
       "max    4.250000e+08  2.781506e+09   338.000000"
      ]
     },
     "execution_count": 10,
     "metadata": {},
     "output_type": "execute_result"
    }
   ],
   "source": [
    "df_mod= df_mod.sort_values(\"revenue\", ascending=False)\n",
    "df_mod.describe()"
   ]
  },
  {
   "cell_type": "markdown",
   "metadata": {},
   "source": [
    "## Setting parameters based of a film has to be 40 min to be considered a movie and removing the outliers that skew the Data"
   ]
  },
  {
   "cell_type": "code",
   "execution_count": 11,
   "metadata": {},
   "outputs": [
    {
     "data": {
      "text/html": [
       "<div>\n",
       "<style scoped>\n",
       "    .dataframe tbody tr th:only-of-type {\n",
       "        vertical-align: middle;\n",
       "    }\n",
       "\n",
       "    .dataframe tbody tr th {\n",
       "        vertical-align: top;\n",
       "    }\n",
       "\n",
       "    .dataframe thead th {\n",
       "        text-align: right;\n",
       "    }\n",
       "</style>\n",
       "<table border=\"1\" class=\"dataframe\">\n",
       "  <thead>\n",
       "    <tr style=\"text-align: right;\">\n",
       "      <th></th>\n",
       "      <th>budget</th>\n",
       "      <th>revenue</th>\n",
       "      <th>original_title</th>\n",
       "      <th>runtime</th>\n",
       "    </tr>\n",
       "  </thead>\n",
       "  <tbody>\n",
       "    <tr>\n",
       "      <th>4361</th>\n",
       "      <td>220000000.0</td>\n",
       "      <td>1.519558e+09</td>\n",
       "      <td>The Avengers</td>\n",
       "      <td>143.0</td>\n",
       "    </tr>\n",
       "    <tr>\n",
       "      <th>0</th>\n",
       "      <td>150000000.0</td>\n",
       "      <td>1.513529e+09</td>\n",
       "      <td>Jurassic World</td>\n",
       "      <td>124.0</td>\n",
       "    </tr>\n",
       "    <tr>\n",
       "      <th>4</th>\n",
       "      <td>190000000.0</td>\n",
       "      <td>1.506249e+09</td>\n",
       "      <td>Furious 7</td>\n",
       "      <td>137.0</td>\n",
       "    </tr>\n",
       "    <tr>\n",
       "      <th>14</th>\n",
       "      <td>280000000.0</td>\n",
       "      <td>1.405036e+09</td>\n",
       "      <td>Avengers: Age of Ultron</td>\n",
       "      <td>141.0</td>\n",
       "    </tr>\n",
       "    <tr>\n",
       "      <th>3374</th>\n",
       "      <td>125000000.0</td>\n",
       "      <td>1.327818e+09</td>\n",
       "      <td>Harry Potter and the Deathly Hallows: Part 2</td>\n",
       "      <td>130.0</td>\n",
       "    </tr>\n",
       "  </tbody>\n",
       "</table>\n",
       "</div>"
      ],
      "text/plain": [
       "           budget       revenue                                original_title  \\\n",
       "4361  220000000.0  1.519558e+09                                  The Avengers   \n",
       "0     150000000.0  1.513529e+09                                Jurassic World   \n",
       "4     190000000.0  1.506249e+09                                     Furious 7   \n",
       "14    280000000.0  1.405036e+09                       Avengers: Age of Ultron   \n",
       "3374  125000000.0  1.327818e+09  Harry Potter and the Deathly Hallows: Part 2   \n",
       "\n",
       "      runtime  \n",
       "4361    143.0  \n",
       "0       124.0  \n",
       "4       137.0  \n",
       "14      141.0  \n",
       "3374    130.0  "
      ]
     },
     "execution_count": 11,
     "metadata": {},
     "output_type": "execute_result"
    }
   ],
   "source": [
    "df_mod2 = df_mod.loc[(df_mod['runtime'] >= 40) & (df_mod['runtime'] <= 190) & (df_mod['revenue'] > 226830568) & (df_mod['revenue'] < 2068178225)]\n",
    "df_mod2.head()"
   ]
  },
  {
   "cell_type": "markdown",
   "metadata": {},
   "source": [
    "## Creating  variables for insertion into Graph"
   ]
  },
  {
   "cell_type": "code",
   "execution_count": 12,
   "metadata": {},
   "outputs": [],
   "source": [
    "runtime_25_percentile = df_mod2['runtime'].quantile(.25)\n",
    "runtime_75_percentile = df_mod2['runtime'].quantile(.75)"
   ]
  },
  {
   "cell_type": "markdown",
   "metadata": {},
   "source": [
    "## Plotting Data in a Scatter Plot"
   ]
  },
  {
   "cell_type": "code",
   "execution_count": 13,
   "metadata": {},
   "outputs": [
    {
     "data": {
      "image/png": "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\n",
      "text/plain": [
       "<Figure size 1008x504 with 1 Axes>"
      ]
     },
     "metadata": {
      "needs_background": "light"
     },
     "output_type": "display_data"
    }
   ],
   "source": [
    "fig, ax = plt.subplots(figsize=(14,7))\n",
    "data = df_mod2[['runtime', 'revenue']]\n",
    "x = data['runtime']\n",
    "y = data['revenue']\n",
    "plt.scatter(x, y)\n",
    "z = np.polyfit(x, y, 0)\n",
    "p = np.poly1d(z)\n",
    "plt.plot(x,p(x),\"r-\")\n",
    "plt.title('Runtime Comparison to Revenue', fontsize=35)\n",
    "plt.xlabel('Movie Time - min -', fontsize=20)\n",
    "plt.ylabel('Revenue in hundereds million', fontsize= 20)\n",
    "plt.fill_between([runtime_25_percentile, runtime_75_percentile], max(y), facecolor='orange', alpha=.2)\n",
    "plt.savefig(\"images/Runtime_Comparison_line_added.png\")\n",
    "plt.show()"
   ]
  },
  {
   "cell_type": "markdown",
   "metadata": {},
   "source": [
    "### This comparison of Runtime to Revenue tells that there is no true Monetary value of creating a movie outside the shaded area"
   ]
  },
  {
   "cell_type": "markdown",
   "metadata": {},
   "source": [
    "# Working on Rotten Tomatoes Movies CSV"
   ]
  },
  {
   "cell_type": "markdown",
   "metadata": {},
   "source": [
    "## Calling the CSV"
   ]
  },
  {
   "cell_type": "code",
   "execution_count": 14,
   "metadata": {},
   "outputs": [
    {
     "data": {
      "text/html": [
       "<div>\n",
       "<style scoped>\n",
       "    .dataframe tbody tr th:only-of-type {\n",
       "        vertical-align: middle;\n",
       "    }\n",
       "\n",
       "    .dataframe tbody tr th {\n",
       "        vertical-align: top;\n",
       "    }\n",
       "\n",
       "    .dataframe thead th {\n",
       "        text-align: right;\n",
       "    }\n",
       "</style>\n",
       "<table border=\"1\" class=\"dataframe\">\n",
       "  <thead>\n",
       "    <tr style=\"text-align: right;\">\n",
       "      <th></th>\n",
       "      <th>rotten_tomatoes_link</th>\n",
       "      <th>movie_title</th>\n",
       "      <th>movie_info</th>\n",
       "      <th>critics_consensus</th>\n",
       "      <th>content_rating</th>\n",
       "      <th>genres</th>\n",
       "      <th>directors</th>\n",
       "      <th>authors</th>\n",
       "      <th>actors</th>\n",
       "      <th>original_release_date</th>\n",
       "      <th>...</th>\n",
       "      <th>production_company</th>\n",
       "      <th>tomatometer_status</th>\n",
       "      <th>tomatometer_rating</th>\n",
       "      <th>tomatometer_count</th>\n",
       "      <th>audience_status</th>\n",
       "      <th>audience_rating</th>\n",
       "      <th>audience_count</th>\n",
       "      <th>tomatometer_top_critics_count</th>\n",
       "      <th>tomatometer_fresh_critics_count</th>\n",
       "      <th>tomatometer_rotten_critics_count</th>\n",
       "    </tr>\n",
       "  </thead>\n",
       "  <tbody>\n",
       "    <tr>\n",
       "      <th>0</th>\n",
       "      <td>m/0814255</td>\n",
       "      <td>Percy Jackson &amp; the Olympians: The Lightning T...</td>\n",
       "      <td>Always trouble-prone, the life of teenager Per...</td>\n",
       "      <td>Though it may seem like just another Harry Pot...</td>\n",
       "      <td>PG</td>\n",
       "      <td>Action &amp; Adventure, Comedy, Drama, Science Fic...</td>\n",
       "      <td>Chris Columbus</td>\n",
       "      <td>Craig Titley, Chris Columbus, Rick Riordan</td>\n",
       "      <td>Logan Lerman, Brandon T. Jackson, Alexandra Da...</td>\n",
       "      <td>2010-02-12</td>\n",
       "      <td>...</td>\n",
       "      <td>20th Century Fox</td>\n",
       "      <td>Rotten</td>\n",
       "      <td>49.0</td>\n",
       "      <td>149.0</td>\n",
       "      <td>Spilled</td>\n",
       "      <td>53.0</td>\n",
       "      <td>254421.0</td>\n",
       "      <td>43</td>\n",
       "      <td>73</td>\n",
       "      <td>76</td>\n",
       "    </tr>\n",
       "    <tr>\n",
       "      <th>1</th>\n",
       "      <td>m/0878835</td>\n",
       "      <td>Please Give</td>\n",
       "      <td>Kate (Catherine Keener) and her husband Alex (...</td>\n",
       "      <td>Nicole Holofcener's newest might seem slight i...</td>\n",
       "      <td>R</td>\n",
       "      <td>Comedy</td>\n",
       "      <td>Nicole Holofcener</td>\n",
       "      <td>Nicole Holofcener</td>\n",
       "      <td>Catherine Keener, Amanda Peet, Oliver Platt, R...</td>\n",
       "      <td>2010-04-30</td>\n",
       "      <td>...</td>\n",
       "      <td>Sony Pictures Classics</td>\n",
       "      <td>Certified-Fresh</td>\n",
       "      <td>87.0</td>\n",
       "      <td>142.0</td>\n",
       "      <td>Upright</td>\n",
       "      <td>64.0</td>\n",
       "      <td>11574.0</td>\n",
       "      <td>44</td>\n",
       "      <td>123</td>\n",
       "      <td>19</td>\n",
       "    </tr>\n",
       "  </tbody>\n",
       "</table>\n",
       "<p>2 rows × 22 columns</p>\n",
       "</div>"
      ],
      "text/plain": [
       "  rotten_tomatoes_link                                        movie_title  \\\n",
       "0            m/0814255  Percy Jackson & the Olympians: The Lightning T...   \n",
       "1            m/0878835                                        Please Give   \n",
       "\n",
       "                                          movie_info  \\\n",
       "0  Always trouble-prone, the life of teenager Per...   \n",
       "1  Kate (Catherine Keener) and her husband Alex (...   \n",
       "\n",
       "                                   critics_consensus content_rating  \\\n",
       "0  Though it may seem like just another Harry Pot...             PG   \n",
       "1  Nicole Holofcener's newest might seem slight i...              R   \n",
       "\n",
       "                                              genres          directors  \\\n",
       "0  Action & Adventure, Comedy, Drama, Science Fic...     Chris Columbus   \n",
       "1                                             Comedy  Nicole Holofcener   \n",
       "\n",
       "                                      authors  \\\n",
       "0  Craig Titley, Chris Columbus, Rick Riordan   \n",
       "1                           Nicole Holofcener   \n",
       "\n",
       "                                              actors original_release_date  \\\n",
       "0  Logan Lerman, Brandon T. Jackson, Alexandra Da...            2010-02-12   \n",
       "1  Catherine Keener, Amanda Peet, Oliver Platt, R...            2010-04-30   \n",
       "\n",
       "   ...      production_company  tomatometer_status tomatometer_rating  \\\n",
       "0  ...        20th Century Fox              Rotten               49.0   \n",
       "1  ...  Sony Pictures Classics     Certified-Fresh               87.0   \n",
       "\n",
       "  tomatometer_count  audience_status  audience_rating audience_count  \\\n",
       "0             149.0          Spilled             53.0       254421.0   \n",
       "1             142.0          Upright             64.0        11574.0   \n",
       "\n",
       "   tomatometer_top_critics_count  tomatometer_fresh_critics_count  \\\n",
       "0                             43                               73   \n",
       "1                             44                              123   \n",
       "\n",
       "   tomatometer_rotten_critics_count  \n",
       "0                                76  \n",
       "1                                19  \n",
       "\n",
       "[2 rows x 22 columns]"
      ]
     },
     "execution_count": 14,
     "metadata": {},
     "output_type": "execute_result"
    }
   ],
   "source": [
    "df_4 = pd.read_csv('data/zippedData/rotten_tomatoes_movies.csv.gz')\n",
    "df_4.head(2)"
   ]
  },
  {
   "cell_type": "markdown",
   "metadata": {},
   "source": [
    "## Dropping columns and Null values"
   ]
  },
  {
   "cell_type": "code",
   "execution_count": 15,
   "metadata": {},
   "outputs": [
    {
     "name": "stdout",
     "output_type": "stream",
     "text": [
      "movie_title           0\n",
      "content_rating        0\n",
      "genres                0\n",
      "tomatometer_status    0\n",
      "dtype: int64\n"
     ]
    }
   ],
   "source": [
    "cols_to_drop = ['critics_consensus', 'movie_info','directors', 'authors', 'actors', 'streaming_release_date','runtime', 'production_company', 'tomatometer_count', \n",
    "                'audience_status', 'tomatometer_rating', 'audience_count', 'tomatometer_top_critics_count','audience_rating','original_release_date', 'rotten_tomatoes_link' ,'tomatometer_fresh_critics_count', 'tomatometer_rotten_critics_count']\n",
    "df_dropped_colums = df_4.drop(cols_to_drop, axis=1)\n",
    "df_dropped_colums.replace(0, np.nan, inplace=True)\n",
    "df_dropped_colums[df_dropped_colums.isna().any(axis=1)]\n",
    "df_dropped_colums = df_dropped_colums.dropna()\n",
    "print(df_dropped_colums.isnull().sum())"
   ]
  },
  {
   "cell_type": "markdown",
   "metadata": {},
   "source": [
    "## Splitting the Genres Column on the \",\"  and Exploding and isolating the Adventure Genres"
   ]
  },
  {
   "cell_type": "code",
   "execution_count": 16,
   "metadata": {},
   "outputs": [
    {
     "data": {
      "text/html": [
       "<div>\n",
       "<style scoped>\n",
       "    .dataframe tbody tr th:only-of-type {\n",
       "        vertical-align: middle;\n",
       "    }\n",
       "\n",
       "    .dataframe tbody tr th {\n",
       "        vertical-align: top;\n",
       "    }\n",
       "\n",
       "    .dataframe thead th {\n",
       "        text-align: right;\n",
       "    }\n",
       "</style>\n",
       "<table border=\"1\" class=\"dataframe\">\n",
       "  <thead>\n",
       "    <tr style=\"text-align: right;\">\n",
       "      <th></th>\n",
       "      <th>movie_title</th>\n",
       "      <th>content_rating</th>\n",
       "      <th>genres</th>\n",
       "      <th>tomatometer_status</th>\n",
       "    </tr>\n",
       "  </thead>\n",
       "  <tbody>\n",
       "    <tr>\n",
       "      <th>0</th>\n",
       "      <td>Percy Jackson &amp; the Olympians: The Lightning T...</td>\n",
       "      <td>PG</td>\n",
       "      <td>Action &amp; Adventure</td>\n",
       "      <td>Rotten</td>\n",
       "    </tr>\n",
       "    <tr>\n",
       "      <th>4</th>\n",
       "      <td>20,000 Leagues Under The Sea</td>\n",
       "      <td>G</td>\n",
       "      <td>Action &amp; Adventure</td>\n",
       "      <td>Fresh</td>\n",
       "    </tr>\n",
       "    <tr>\n",
       "      <th>5</th>\n",
       "      <td>10,000 B.C.</td>\n",
       "      <td>PG-13</td>\n",
       "      <td>Action &amp; Adventure</td>\n",
       "      <td>Rotten</td>\n",
       "    </tr>\n",
       "    <tr>\n",
       "      <th>6</th>\n",
       "      <td>The 39 Steps</td>\n",
       "      <td>NR</td>\n",
       "      <td>Action &amp; Adventure</td>\n",
       "      <td>Certified-Fresh</td>\n",
       "    </tr>\n",
       "    <tr>\n",
       "      <th>18</th>\n",
       "      <td>The Adventures of Mark Twain</td>\n",
       "      <td>G</td>\n",
       "      <td>Action &amp; Adventure</td>\n",
       "      <td>Fresh</td>\n",
       "    </tr>\n",
       "    <tr>\n",
       "      <th>...</th>\n",
       "      <td>...</td>\n",
       "      <td>...</td>\n",
       "      <td>...</td>\n",
       "      <td>...</td>\n",
       "    </tr>\n",
       "    <tr>\n",
       "      <th>17702</th>\n",
       "      <td>Zoo</td>\n",
       "      <td>PG</td>\n",
       "      <td>Action &amp; Adventure</td>\n",
       "      <td>Fresh</td>\n",
       "    </tr>\n",
       "    <tr>\n",
       "      <th>17706</th>\n",
       "      <td>Zoom</td>\n",
       "      <td>PG</td>\n",
       "      <td>Action &amp; Adventure</td>\n",
       "      <td>Rotten</td>\n",
       "    </tr>\n",
       "    <tr>\n",
       "      <th>17708</th>\n",
       "      <td>Zootopia</td>\n",
       "      <td>PG</td>\n",
       "      <td>Action &amp; Adventure</td>\n",
       "      <td>Certified-Fresh</td>\n",
       "    </tr>\n",
       "    <tr>\n",
       "      <th>17709</th>\n",
       "      <td>Zorba the Greek</td>\n",
       "      <td>NR</td>\n",
       "      <td>Action &amp; Adventure</td>\n",
       "      <td>Fresh</td>\n",
       "    </tr>\n",
       "    <tr>\n",
       "      <th>17711</th>\n",
       "      <td>Zulu Dawn</td>\n",
       "      <td>PG</td>\n",
       "      <td>Action &amp; Adventure</td>\n",
       "      <td>Rotten</td>\n",
       "    </tr>\n",
       "  </tbody>\n",
       "</table>\n",
       "<p>3542 rows × 4 columns</p>\n",
       "</div>"
      ],
      "text/plain": [
       "                                             movie_title content_rating  \\\n",
       "0      Percy Jackson & the Olympians: The Lightning T...             PG   \n",
       "4                           20,000 Leagues Under The Sea              G   \n",
       "5                                            10,000 B.C.          PG-13   \n",
       "6                                           The 39 Steps             NR   \n",
       "18                          The Adventures of Mark Twain              G   \n",
       "...                                                  ...            ...   \n",
       "17702                                                Zoo             PG   \n",
       "17706                                               Zoom             PG   \n",
       "17708                                           Zootopia             PG   \n",
       "17709                                    Zorba the Greek             NR   \n",
       "17711                                          Zulu Dawn             PG   \n",
       "\n",
       "                   genres tomatometer_status  \n",
       "0      Action & Adventure             Rotten  \n",
       "4      Action & Adventure              Fresh  \n",
       "5      Action & Adventure             Rotten  \n",
       "6      Action & Adventure    Certified-Fresh  \n",
       "18     Action & Adventure              Fresh  \n",
       "...                   ...                ...  \n",
       "17702  Action & Adventure              Fresh  \n",
       "17706  Action & Adventure             Rotten  \n",
       "17708  Action & Adventure    Certified-Fresh  \n",
       "17709  Action & Adventure              Fresh  \n",
       "17711  Action & Adventure             Rotten  \n",
       "\n",
       "[3542 rows x 4 columns]"
      ]
     },
     "execution_count": 16,
     "metadata": {},
     "output_type": "execute_result"
    }
   ],
   "source": [
    "df_dropped_colums[\"genres\"] = df_dropped_colums[\"genres\"].apply(lambda x: x.split(\",\") if type(x) == str else x)\n",
    "\n",
    "df_explode_2 = df_dropped_colums.explode('genres')\n",
    "\n",
    "new_df = df_explode_2[df_explode_2['genres'].str.contains('Action & Adventure')]\n",
    "new_df"
   ]
  },
  {
   "cell_type": "markdown",
   "metadata": {},
   "source": [
    "## Setting Index replacing the Ratings with values and setting those values to 1 then Grouping by content_rating, tomatometer_status"
   ]
  },
  {
   "cell_type": "code",
   "execution_count": 17,
   "metadata": {},
   "outputs": [
    {
     "name": "stderr",
     "output_type": "stream",
     "text": [
      "<ipython-input-17-2da686128ab3>:3: SettingWithCopyWarning: \n",
      "A value is trying to be set on a copy of a slice from a DataFrame.\n",
      "Try using .loc[row_indexer,col_indexer] = value instead\n",
      "\n",
      "See the caveats in the documentation: https://pandas.pydata.org/pandas-docs/stable/user_guide/indexing.html#returning-a-view-versus-a-copy\n",
      "  new_df['movie_count'] = 1\n"
     ]
    },
    {
     "data": {
      "text/html": [
       "<div>\n",
       "<style scoped>\n",
       "    .dataframe tbody tr th:only-of-type {\n",
       "        vertical-align: middle;\n",
       "    }\n",
       "\n",
       "    .dataframe tbody tr th {\n",
       "        vertical-align: top;\n",
       "    }\n",
       "\n",
       "    .dataframe thead th {\n",
       "        text-align: right;\n",
       "    }\n",
       "</style>\n",
       "<table border=\"1\" class=\"dataframe\">\n",
       "  <thead>\n",
       "    <tr style=\"text-align: right;\">\n",
       "      <th></th>\n",
       "      <th></th>\n",
       "      <th>movie_title</th>\n",
       "      <th>genres</th>\n",
       "      <th>movie_count</th>\n",
       "    </tr>\n",
       "    <tr>\n",
       "      <th>content_rating</th>\n",
       "      <th>tomatometer_status</th>\n",
       "      <th></th>\n",
       "      <th></th>\n",
       "      <th></th>\n",
       "    </tr>\n",
       "  </thead>\n",
       "  <tbody>\n",
       "    <tr>\n",
       "      <th rowspan=\"3\" valign=\"top\">G</th>\n",
       "      <th>Certified-Fresh</th>\n",
       "      <td>24</td>\n",
       "      <td>24</td>\n",
       "      <td>24</td>\n",
       "    </tr>\n",
       "    <tr>\n",
       "      <th>Fresh</th>\n",
       "      <td>94</td>\n",
       "      <td>94</td>\n",
       "      <td>94</td>\n",
       "    </tr>\n",
       "    <tr>\n",
       "      <th>Rotten</th>\n",
       "      <td>68</td>\n",
       "      <td>68</td>\n",
       "      <td>68</td>\n",
       "    </tr>\n",
       "    <tr>\n",
       "      <th>NC17</th>\n",
       "      <th>Fresh</th>\n",
       "      <td>1</td>\n",
       "      <td>1</td>\n",
       "      <td>1</td>\n",
       "    </tr>\n",
       "    <tr>\n",
       "      <th rowspan=\"3\" valign=\"top\">NR</th>\n",
       "      <th>Certified-Fresh</th>\n",
       "      <td>41</td>\n",
       "      <td>41</td>\n",
       "      <td>41</td>\n",
       "    </tr>\n",
       "    <tr>\n",
       "      <th>Fresh</th>\n",
       "      <td>354</td>\n",
       "      <td>354</td>\n",
       "      <td>354</td>\n",
       "    </tr>\n",
       "    <tr>\n",
       "      <th>Rotten</th>\n",
       "      <td>191</td>\n",
       "      <td>191</td>\n",
       "      <td>191</td>\n",
       "    </tr>\n",
       "    <tr>\n",
       "      <th rowspan=\"3\" valign=\"top\">PG</th>\n",
       "      <th>Certified-Fresh</th>\n",
       "      <td>112</td>\n",
       "      <td>112</td>\n",
       "      <td>112</td>\n",
       "    </tr>\n",
       "    <tr>\n",
       "      <th>Fresh</th>\n",
       "      <td>189</td>\n",
       "      <td>189</td>\n",
       "      <td>189</td>\n",
       "    </tr>\n",
       "    <tr>\n",
       "      <th>Rotten</th>\n",
       "      <td>304</td>\n",
       "      <td>304</td>\n",
       "      <td>304</td>\n",
       "    </tr>\n",
       "    <tr>\n",
       "      <th rowspan=\"3\" valign=\"top\">PG-13</th>\n",
       "      <th>Certified-Fresh</th>\n",
       "      <td>160</td>\n",
       "      <td>160</td>\n",
       "      <td>160</td>\n",
       "    </tr>\n",
       "    <tr>\n",
       "      <th>Fresh</th>\n",
       "      <td>138</td>\n",
       "      <td>138</td>\n",
       "      <td>138</td>\n",
       "    </tr>\n",
       "    <tr>\n",
       "      <th>Rotten</th>\n",
       "      <td>504</td>\n",
       "      <td>504</td>\n",
       "      <td>504</td>\n",
       "    </tr>\n",
       "    <tr>\n",
       "      <th rowspan=\"3\" valign=\"top\">R</th>\n",
       "      <th>Certified-Fresh</th>\n",
       "      <td>210</td>\n",
       "      <td>210</td>\n",
       "      <td>210</td>\n",
       "    </tr>\n",
       "    <tr>\n",
       "      <th>Fresh</th>\n",
       "      <td>341</td>\n",
       "      <td>341</td>\n",
       "      <td>341</td>\n",
       "    </tr>\n",
       "    <tr>\n",
       "      <th>Rotten</th>\n",
       "      <td>811</td>\n",
       "      <td>811</td>\n",
       "      <td>811</td>\n",
       "    </tr>\n",
       "  </tbody>\n",
       "</table>\n",
       "</div>"
      ],
      "text/plain": [
       "                                   movie_title  genres  movie_count\n",
       "content_rating tomatometer_status                                  \n",
       "G              Certified-Fresh              24      24           24\n",
       "               Fresh                        94      94           94\n",
       "               Rotten                       68      68           68\n",
       "NC17           Fresh                         1       1            1\n",
       "NR             Certified-Fresh              41      41           41\n",
       "               Fresh                       354     354          354\n",
       "               Rotten                      191     191          191\n",
       "PG             Certified-Fresh             112     112          112\n",
       "               Fresh                       189     189          189\n",
       "               Rotten                      304     304          304\n",
       "PG-13          Certified-Fresh             160     160          160\n",
       "               Fresh                       138     138          138\n",
       "               Rotten                      504     504          504\n",
       "R              Certified-Fresh             210     210          210\n",
       "               Fresh                       341     341          341\n",
       "               Rotten                      811     811          811"
      ]
     },
     "execution_count": 17,
     "metadata": {},
     "output_type": "execute_result"
    }
   ],
   "source": [
    "new_df.set_index('genres')\n",
    "new_df.replace({'G': 0, 'PG': 1, 'PG-13': 2, 'NC17': 3, 'NR': 4, 'R': 5})\n",
    "new_df['movie_count'] = 1\n",
    "df_cor = new_df.groupby(['content_rating', 'tomatometer_status']).count()\n",
    "df_cor"
   ]
  },
  {
   "cell_type": "markdown",
   "metadata": {},
   "source": [
    "## Resetting Index and Dropping the Generes column to keep the Genre Column"
   ]
  },
  {
   "cell_type": "code",
   "execution_count": 18,
   "metadata": {},
   "outputs": [
    {
     "data": {
      "text/html": [
       "<div>\n",
       "<style scoped>\n",
       "    .dataframe tbody tr th:only-of-type {\n",
       "        vertical-align: middle;\n",
       "    }\n",
       "\n",
       "    .dataframe tbody tr th {\n",
       "        vertical-align: top;\n",
       "    }\n",
       "\n",
       "    .dataframe thead th {\n",
       "        text-align: right;\n",
       "    }\n",
       "</style>\n",
       "<table border=\"1\" class=\"dataframe\">\n",
       "  <thead>\n",
       "    <tr style=\"text-align: right;\">\n",
       "      <th></th>\n",
       "      <th>content_rating</th>\n",
       "      <th>tomatometer_status</th>\n",
       "      <th>movie_title</th>\n",
       "      <th>movie_count</th>\n",
       "    </tr>\n",
       "  </thead>\n",
       "  <tbody>\n",
       "    <tr>\n",
       "      <th>0</th>\n",
       "      <td>G</td>\n",
       "      <td>Certified-Fresh</td>\n",
       "      <td>24</td>\n",
       "      <td>24</td>\n",
       "    </tr>\n",
       "    <tr>\n",
       "      <th>1</th>\n",
       "      <td>G</td>\n",
       "      <td>Fresh</td>\n",
       "      <td>94</td>\n",
       "      <td>94</td>\n",
       "    </tr>\n",
       "    <tr>\n",
       "      <th>2</th>\n",
       "      <td>G</td>\n",
       "      <td>Rotten</td>\n",
       "      <td>68</td>\n",
       "      <td>68</td>\n",
       "    </tr>\n",
       "    <tr>\n",
       "      <th>3</th>\n",
       "      <td>NC17</td>\n",
       "      <td>Fresh</td>\n",
       "      <td>1</td>\n",
       "      <td>1</td>\n",
       "    </tr>\n",
       "    <tr>\n",
       "      <th>4</th>\n",
       "      <td>NR</td>\n",
       "      <td>Certified-Fresh</td>\n",
       "      <td>41</td>\n",
       "      <td>41</td>\n",
       "    </tr>\n",
       "  </tbody>\n",
       "</table>\n",
       "</div>"
      ],
      "text/plain": [
       "  content_rating tomatometer_status  movie_title  movie_count\n",
       "0              G    Certified-Fresh           24           24\n",
       "1              G              Fresh           94           94\n",
       "2              G             Rotten           68           68\n",
       "3           NC17              Fresh            1            1\n",
       "4             NR    Certified-Fresh           41           41"
      ]
     },
     "execution_count": 18,
     "metadata": {},
     "output_type": "execute_result"
    }
   ],
   "source": [
    "df_cor = df_cor.reset_index()\n",
    "cols_to_drop = ['genres']\n",
    "df_drop = df_cor.drop(cols_to_drop, axis=1)\n",
    "df_drop.head()"
   ]
  },
  {
   "cell_type": "markdown",
   "metadata": {},
   "source": [
    "## Ploting the data in a Bar Graph"
   ]
  },
  {
   "cell_type": "markdown",
   "metadata": {},
   "source": []
  },
  {
   "cell_type": "code",
   "execution_count": 19,
   "metadata": {},
   "outputs": [
    {
     "data": {
      "text/plain": [
       "<matplotlib.legend.Legend at 0x7f9898d1d340>"
      ]
     },
     "execution_count": 19,
     "metadata": {},
     "output_type": "execute_result"
    },
    {
     "data": {
      "image/png": "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\n",
      "text/plain": [
       "<Figure size 720x576 with 1 Axes>"
      ]
     },
     "metadata": {
      "needs_background": "light"
     },
     "output_type": "display_data"
    }
   ],
   "source": [
    "plt.figure(figsize=(10, 8))\n",
    "sns.barplot(x='content_rating', \n",
    "            y='movie_count', \n",
    "            hue='tomatometer_status',\n",
    "            order=[\"NC17\",\"G\",\"PG\",\"PG-13\",'NR', 'R'],\n",
    "            data=df_cor, palette=['green', 'blue', 'red'])\n",
    "plt.ylabel(\"Count Total\", size=14)\n",
    "plt.xlabel(\"Movie Rating\", size=14)\n",
    "plt.title(\"Rotten Tomatos Generated Ratings for Adventure Movies\", size=18)\n",
    "plt.savefig(\"images/Rotten_tomatose_Ratings.png\")\n",
    "plt.legend()"
   ]
  },
  {
   "cell_type": "markdown",
   "metadata": {},
   "source": [
    "### This visual represents the MPA rating for the movie Microsoft should make. NR should be chosen based off the fresh rating compared to the rotten score. NR is a movie that has just not been submitted for rating by the Motion Picture Association."
   ]
  },
  {
   "cell_type": "markdown",
   "metadata": {},
   "source": [
    "## Used Pandas to read the dataset, which contains information about which studios made which movies, what year each movie was made, and how much money each movie made."
   ]
  },
  {
   "cell_type": "code",
   "execution_count": 20,
   "metadata": {},
   "outputs": [
    {
     "data": {
      "text/html": [
       "<div>\n",
       "<style scoped>\n",
       "    .dataframe tbody tr th:only-of-type {\n",
       "        vertical-align: middle;\n",
       "    }\n",
       "\n",
       "    .dataframe tbody tr th {\n",
       "        vertical-align: top;\n",
       "    }\n",
       "\n",
       "    .dataframe thead th {\n",
       "        text-align: right;\n",
       "    }\n",
       "</style>\n",
       "<table border=\"1\" class=\"dataframe\">\n",
       "  <thead>\n",
       "    <tr style=\"text-align: right;\">\n",
       "      <th></th>\n",
       "      <th>title</th>\n",
       "      <th>studio</th>\n",
       "      <th>domestic_gross</th>\n",
       "      <th>foreign_gross</th>\n",
       "      <th>year</th>\n",
       "    </tr>\n",
       "  </thead>\n",
       "  <tbody>\n",
       "    <tr>\n",
       "      <th>0</th>\n",
       "      <td>Toy Story 3</td>\n",
       "      <td>BV</td>\n",
       "      <td>415000000.0</td>\n",
       "      <td>652000000</td>\n",
       "      <td>2010</td>\n",
       "    </tr>\n",
       "    <tr>\n",
       "      <th>1</th>\n",
       "      <td>Alice in Wonderland (2010)</td>\n",
       "      <td>BV</td>\n",
       "      <td>334200000.0</td>\n",
       "      <td>691300000</td>\n",
       "      <td>2010</td>\n",
       "    </tr>\n",
       "    <tr>\n",
       "      <th>2</th>\n",
       "      <td>Harry Potter and the Deathly Hallows Part 1</td>\n",
       "      <td>WB</td>\n",
       "      <td>296000000.0</td>\n",
       "      <td>664300000</td>\n",
       "      <td>2010</td>\n",
       "    </tr>\n",
       "    <tr>\n",
       "      <th>3</th>\n",
       "      <td>Inception</td>\n",
       "      <td>WB</td>\n",
       "      <td>292600000.0</td>\n",
       "      <td>535700000</td>\n",
       "      <td>2010</td>\n",
       "    </tr>\n",
       "    <tr>\n",
       "      <th>4</th>\n",
       "      <td>Shrek Forever After</td>\n",
       "      <td>P/DW</td>\n",
       "      <td>238700000.0</td>\n",
       "      <td>513900000</td>\n",
       "      <td>2010</td>\n",
       "    </tr>\n",
       "    <tr>\n",
       "      <th>...</th>\n",
       "      <td>...</td>\n",
       "      <td>...</td>\n",
       "      <td>...</td>\n",
       "      <td>...</td>\n",
       "      <td>...</td>\n",
       "    </tr>\n",
       "    <tr>\n",
       "      <th>3382</th>\n",
       "      <td>The Quake</td>\n",
       "      <td>Magn.</td>\n",
       "      <td>6200.0</td>\n",
       "      <td>NaN</td>\n",
       "      <td>2018</td>\n",
       "    </tr>\n",
       "    <tr>\n",
       "      <th>3383</th>\n",
       "      <td>Edward II (2018 re-release)</td>\n",
       "      <td>FM</td>\n",
       "      <td>4800.0</td>\n",
       "      <td>NaN</td>\n",
       "      <td>2018</td>\n",
       "    </tr>\n",
       "    <tr>\n",
       "      <th>3384</th>\n",
       "      <td>El Pacto</td>\n",
       "      <td>Sony</td>\n",
       "      <td>2500.0</td>\n",
       "      <td>NaN</td>\n",
       "      <td>2018</td>\n",
       "    </tr>\n",
       "    <tr>\n",
       "      <th>3385</th>\n",
       "      <td>The Swan</td>\n",
       "      <td>Synergetic</td>\n",
       "      <td>2400.0</td>\n",
       "      <td>NaN</td>\n",
       "      <td>2018</td>\n",
       "    </tr>\n",
       "    <tr>\n",
       "      <th>3386</th>\n",
       "      <td>An Actor Prepares</td>\n",
       "      <td>Grav.</td>\n",
       "      <td>1700.0</td>\n",
       "      <td>NaN</td>\n",
       "      <td>2018</td>\n",
       "    </tr>\n",
       "  </tbody>\n",
       "</table>\n",
       "<p>3387 rows × 5 columns</p>\n",
       "</div>"
      ],
      "text/plain": [
       "                                            title      studio  domestic_gross  \\\n",
       "0                                     Toy Story 3          BV     415000000.0   \n",
       "1                      Alice in Wonderland (2010)          BV     334200000.0   \n",
       "2     Harry Potter and the Deathly Hallows Part 1          WB     296000000.0   \n",
       "3                                       Inception          WB     292600000.0   \n",
       "4                             Shrek Forever After        P/DW     238700000.0   \n",
       "...                                           ...         ...             ...   \n",
       "3382                                    The Quake       Magn.          6200.0   \n",
       "3383                  Edward II (2018 re-release)          FM          4800.0   \n",
       "3384                                     El Pacto        Sony          2500.0   \n",
       "3385                                     The Swan  Synergetic          2400.0   \n",
       "3386                            An Actor Prepares       Grav.          1700.0   \n",
       "\n",
       "     foreign_gross  year  \n",
       "0        652000000  2010  \n",
       "1        691300000  2010  \n",
       "2        664300000  2010  \n",
       "3        535700000  2010  \n",
       "4        513900000  2010  \n",
       "...            ...   ...  \n",
       "3382           NaN  2018  \n",
       "3383           NaN  2018  \n",
       "3384           NaN  2018  \n",
       "3385           NaN  2018  \n",
       "3386           NaN  2018  \n",
       "\n",
       "[3387 rows x 5 columns]"
      ]
     },
     "execution_count": 20,
     "metadata": {},
     "output_type": "execute_result"
    }
   ],
   "source": [
    "bommovie = pd.read_csv(\"./data/zippedData/bom.movie_gross.csv.gz\")\n",
    "bommovie"
   ]
  },
  {
   "cell_type": "markdown",
   "metadata": {},
   "source": [
    "## Using the sort values function, we reorganized the dataset from the movie with the highest domestic gross to the movie with the lowest domestic gross"
   ]
  },
  {
   "cell_type": "code",
   "execution_count": 21,
   "metadata": {},
   "outputs": [
    {
     "data": {
      "text/html": [
       "<div>\n",
       "<style scoped>\n",
       "    .dataframe tbody tr th:only-of-type {\n",
       "        vertical-align: middle;\n",
       "    }\n",
       "\n",
       "    .dataframe tbody tr th {\n",
       "        vertical-align: top;\n",
       "    }\n",
       "\n",
       "    .dataframe thead th {\n",
       "        text-align: right;\n",
       "    }\n",
       "</style>\n",
       "<table border=\"1\" class=\"dataframe\">\n",
       "  <thead>\n",
       "    <tr style=\"text-align: right;\">\n",
       "      <th></th>\n",
       "      <th>title</th>\n",
       "      <th>studio</th>\n",
       "      <th>domestic_gross</th>\n",
       "      <th>foreign_gross</th>\n",
       "      <th>year</th>\n",
       "    </tr>\n",
       "  </thead>\n",
       "  <tbody>\n",
       "    <tr>\n",
       "      <th>1872</th>\n",
       "      <td>Star Wars: The Force Awakens</td>\n",
       "      <td>BV</td>\n",
       "      <td>936700000.0</td>\n",
       "      <td>1,131.6</td>\n",
       "      <td>2015</td>\n",
       "    </tr>\n",
       "    <tr>\n",
       "      <th>3080</th>\n",
       "      <td>Black Panther</td>\n",
       "      <td>BV</td>\n",
       "      <td>700100000.0</td>\n",
       "      <td>646900000</td>\n",
       "      <td>2018</td>\n",
       "    </tr>\n",
       "    <tr>\n",
       "      <th>3079</th>\n",
       "      <td>Avengers: Infinity War</td>\n",
       "      <td>BV</td>\n",
       "      <td>678800000.0</td>\n",
       "      <td>1,369.5</td>\n",
       "      <td>2018</td>\n",
       "    </tr>\n",
       "    <tr>\n",
       "      <th>1873</th>\n",
       "      <td>Jurassic World</td>\n",
       "      <td>Uni.</td>\n",
       "      <td>652300000.0</td>\n",
       "      <td>1,019.4</td>\n",
       "      <td>2015</td>\n",
       "    </tr>\n",
       "    <tr>\n",
       "      <th>727</th>\n",
       "      <td>Marvel's The Avengers</td>\n",
       "      <td>BV</td>\n",
       "      <td>623400000.0</td>\n",
       "      <td>895500000</td>\n",
       "      <td>2012</td>\n",
       "    </tr>\n",
       "    <tr>\n",
       "      <th>...</th>\n",
       "      <td>...</td>\n",
       "      <td>...</td>\n",
       "      <td>...</td>\n",
       "      <td>...</td>\n",
       "      <td>...</td>\n",
       "    </tr>\n",
       "    <tr>\n",
       "      <th>1975</th>\n",
       "      <td>Surprise - Journey To The West</td>\n",
       "      <td>AR</td>\n",
       "      <td>NaN</td>\n",
       "      <td>49600000</td>\n",
       "      <td>2015</td>\n",
       "    </tr>\n",
       "    <tr>\n",
       "      <th>2392</th>\n",
       "      <td>Finding Mr. Right 2</td>\n",
       "      <td>CL</td>\n",
       "      <td>NaN</td>\n",
       "      <td>114700000</td>\n",
       "      <td>2016</td>\n",
       "    </tr>\n",
       "    <tr>\n",
       "      <th>2468</th>\n",
       "      <td>Solace</td>\n",
       "      <td>LGP</td>\n",
       "      <td>NaN</td>\n",
       "      <td>22400000</td>\n",
       "      <td>2016</td>\n",
       "    </tr>\n",
       "    <tr>\n",
       "      <th>2595</th>\n",
       "      <td>Viral</td>\n",
       "      <td>W/Dim.</td>\n",
       "      <td>NaN</td>\n",
       "      <td>552000</td>\n",
       "      <td>2016</td>\n",
       "    </tr>\n",
       "    <tr>\n",
       "      <th>2825</th>\n",
       "      <td>Secret Superstar</td>\n",
       "      <td>NaN</td>\n",
       "      <td>NaN</td>\n",
       "      <td>122000000</td>\n",
       "      <td>2017</td>\n",
       "    </tr>\n",
       "  </tbody>\n",
       "</table>\n",
       "<p>3387 rows × 5 columns</p>\n",
       "</div>"
      ],
      "text/plain": [
       "                               title  studio  domestic_gross foreign_gross  \\\n",
       "1872    Star Wars: The Force Awakens      BV     936700000.0       1,131.6   \n",
       "3080                   Black Panther      BV     700100000.0     646900000   \n",
       "3079          Avengers: Infinity War      BV     678800000.0       1,369.5   \n",
       "1873                  Jurassic World    Uni.     652300000.0       1,019.4   \n",
       "727            Marvel's The Avengers      BV     623400000.0     895500000   \n",
       "...                              ...     ...             ...           ...   \n",
       "1975  Surprise - Journey To The West      AR             NaN      49600000   \n",
       "2392             Finding Mr. Right 2      CL             NaN     114700000   \n",
       "2468                          Solace     LGP             NaN      22400000   \n",
       "2595                           Viral  W/Dim.             NaN        552000   \n",
       "2825                Secret Superstar     NaN             NaN     122000000   \n",
       "\n",
       "      year  \n",
       "1872  2015  \n",
       "3080  2018  \n",
       "3079  2018  \n",
       "1873  2015  \n",
       "727   2012  \n",
       "...    ...  \n",
       "1975  2015  \n",
       "2392  2016  \n",
       "2468  2016  \n",
       "2595  2016  \n",
       "2825  2017  \n",
       "\n",
       "[3387 rows x 5 columns]"
      ]
     },
     "execution_count": 21,
     "metadata": {},
     "output_type": "execute_result"
    }
   ],
   "source": [
    "bommovie = bommovie.sort_values(\"domestic_gross\", ascending = False)\n",
    "bommovie"
   ]
  },
  {
   "cell_type": "markdown",
   "metadata": {},
   "source": [
    "## Next, we figured out what percentage of information about movies was missing."
   ]
  },
  {
   "cell_type": "code",
   "execution_count": 22,
   "metadata": {},
   "outputs": [
    {
     "name": "stdout",
     "output_type": "stream",
     "text": [
      "foreign_gross - 40.0%\n",
      "domestic_gross - 1.0%\n",
      "studio - 0.0%\n",
      "year - 0.0%\n",
      "title - 0.0%\n"
     ]
    }
   ],
   "source": [
    "pct_missing = np.mean(bommovie[\"foreign_gross\"].isnull())\n",
    "print('{} - {}%'.format(\"foreign_gross\", round(pct_missing*100)))\n",
    "\n",
    "pct_missing = np.mean(bommovie[\"domestic_gross\"].isnull())\n",
    "print('{} - {}%'.format(\"domestic_gross\", round(pct_missing*100)))\n",
    "\n",
    "pct_missing = np.mean(bommovie[\"studio\"].isnull())\n",
    "print('{} - {}%'.format(\"studio\", round(pct_missing*100)))\n",
    "\n",
    "pct_missing = np.mean(bommovie[\"year\"].isnull())\n",
    "print('{} - {}%'.format(\"year\", round(pct_missing*100)))\n",
    "\n",
    "pct_missing = np.mean(bommovie[\"title\"].isnull())\n",
    "print('{} - {}%'.format(\"title\", round(pct_missing*100)))"
   ]
  },
  {
   "cell_type": "markdown",
   "metadata": {},
   "source": [
    "## 40% of values were missing in the foreign gross column and 1% of values were missing in the domestic gross column. We dropped all of these null values to ensure the accuracy of our analyses. Due to the significant amount of data dropped from the foreign gross column, we chose to tighten our focus to domestic gross and use that as the primary indicator of movie success."
   ]
  },
  {
   "cell_type": "code",
   "execution_count": 23,
   "metadata": {},
   "outputs": [],
   "source": [
    "bommovie = bommovie.dropna(subset=['foreign_gross'])"
   ]
  },
  {
   "cell_type": "code",
   "execution_count": 24,
   "metadata": {},
   "outputs": [],
   "source": [
    "bommovie = bommovie.dropna(subset=['domestic_gross'])"
   ]
  },
  {
   "cell_type": "markdown",
   "metadata": {},
   "source": [
    "## Then, we checked that all null values were gone."
   ]
  },
  {
   "cell_type": "code",
   "execution_count": 25,
   "metadata": {},
   "outputs": [
    {
     "name": "stdout",
     "output_type": "stream",
     "text": [
      "foreign_gross - 0.0%\n",
      "domestic_gross - 0.0%\n"
     ]
    }
   ],
   "source": [
    "pct_missing = np.mean(bommovie[\"foreign_gross\"].isnull())\n",
    "print('{} - {}%'.format(\"foreign_gross\", round(pct_missing*100)))\n",
    "pct_missing = np.mean(bommovie[\"domestic_gross\"].isnull())\n",
    "print('{} - {}%'.format(\"domestic_gross\", round(pct_missing*100)))"
   ]
  },
  {
   "cell_type": "markdown",
   "metadata": {},
   "source": [
    "## Then, we made another dataframe from the first 20 rows of the previous dataframe. Because we sorted the last dataframe by highest domestic gross, this new dataframe represents the top 20 highest grossing movies."
   ]
  },
  {
   "cell_type": "code",
   "execution_count": 26,
   "metadata": {},
   "outputs": [
    {
     "data": {
      "text/html": [
       "<div>\n",
       "<style scoped>\n",
       "    .dataframe tbody tr th:only-of-type {\n",
       "        vertical-align: middle;\n",
       "    }\n",
       "\n",
       "    .dataframe tbody tr th {\n",
       "        vertical-align: top;\n",
       "    }\n",
       "\n",
       "    .dataframe thead th {\n",
       "        text-align: right;\n",
       "    }\n",
       "</style>\n",
       "<table border=\"1\" class=\"dataframe\">\n",
       "  <thead>\n",
       "    <tr style=\"text-align: right;\">\n",
       "      <th></th>\n",
       "      <th>title</th>\n",
       "      <th>studio</th>\n",
       "      <th>domestic_gross</th>\n",
       "      <th>foreign_gross</th>\n",
       "      <th>year</th>\n",
       "    </tr>\n",
       "  </thead>\n",
       "  <tbody>\n",
       "    <tr>\n",
       "      <th>1872</th>\n",
       "      <td>Star Wars: The Force Awakens</td>\n",
       "      <td>BV</td>\n",
       "      <td>936700000.0</td>\n",
       "      <td>1,131.6</td>\n",
       "      <td>2015</td>\n",
       "    </tr>\n",
       "    <tr>\n",
       "      <th>3080</th>\n",
       "      <td>Black Panther</td>\n",
       "      <td>BV</td>\n",
       "      <td>700100000.0</td>\n",
       "      <td>646900000</td>\n",
       "      <td>2018</td>\n",
       "    </tr>\n",
       "    <tr>\n",
       "      <th>3079</th>\n",
       "      <td>Avengers: Infinity War</td>\n",
       "      <td>BV</td>\n",
       "      <td>678800000.0</td>\n",
       "      <td>1,369.5</td>\n",
       "      <td>2018</td>\n",
       "    </tr>\n",
       "    <tr>\n",
       "      <th>1873</th>\n",
       "      <td>Jurassic World</td>\n",
       "      <td>Uni.</td>\n",
       "      <td>652300000.0</td>\n",
       "      <td>1,019.4</td>\n",
       "      <td>2015</td>\n",
       "    </tr>\n",
       "    <tr>\n",
       "      <th>727</th>\n",
       "      <td>Marvel's The Avengers</td>\n",
       "      <td>BV</td>\n",
       "      <td>623400000.0</td>\n",
       "      <td>895500000</td>\n",
       "      <td>2012</td>\n",
       "    </tr>\n",
       "    <tr>\n",
       "      <th>2758</th>\n",
       "      <td>Star Wars: The Last Jedi</td>\n",
       "      <td>BV</td>\n",
       "      <td>620200000.0</td>\n",
       "      <td>712400000</td>\n",
       "      <td>2017</td>\n",
       "    </tr>\n",
       "    <tr>\n",
       "      <th>3082</th>\n",
       "      <td>Incredibles 2</td>\n",
       "      <td>BV</td>\n",
       "      <td>608600000.0</td>\n",
       "      <td>634200000</td>\n",
       "      <td>2018</td>\n",
       "    </tr>\n",
       "    <tr>\n",
       "      <th>2323</th>\n",
       "      <td>Rogue One: A Star Wars Story</td>\n",
       "      <td>BV</td>\n",
       "      <td>532200000.0</td>\n",
       "      <td>523900000</td>\n",
       "      <td>2016</td>\n",
       "    </tr>\n",
       "    <tr>\n",
       "      <th>2759</th>\n",
       "      <td>Beauty and the Beast (2017)</td>\n",
       "      <td>BV</td>\n",
       "      <td>504000000.0</td>\n",
       "      <td>759500000</td>\n",
       "      <td>2017</td>\n",
       "    </tr>\n",
       "    <tr>\n",
       "      <th>2324</th>\n",
       "      <td>Finding Dory</td>\n",
       "      <td>BV</td>\n",
       "      <td>486300000.0</td>\n",
       "      <td>542300000</td>\n",
       "      <td>2016</td>\n",
       "    </tr>\n",
       "    <tr>\n",
       "      <th>1875</th>\n",
       "      <td>Avengers: Age of Ultron</td>\n",
       "      <td>BV</td>\n",
       "      <td>459000000.0</td>\n",
       "      <td>946400000</td>\n",
       "      <td>2015</td>\n",
       "    </tr>\n",
       "    <tr>\n",
       "      <th>729</th>\n",
       "      <td>The Dark Knight Rises</td>\n",
       "      <td>WB</td>\n",
       "      <td>448100000.0</td>\n",
       "      <td>636800000</td>\n",
       "      <td>2012</td>\n",
       "    </tr>\n",
       "    <tr>\n",
       "      <th>1131</th>\n",
       "      <td>The Hunger Games: Catching Fire</td>\n",
       "      <td>LGF</td>\n",
       "      <td>424700000.0</td>\n",
       "      <td>440300000</td>\n",
       "      <td>2013</td>\n",
       "    </tr>\n",
       "    <tr>\n",
       "      <th>3081</th>\n",
       "      <td>Jurassic World: Fallen Kingdom</td>\n",
       "      <td>Uni.</td>\n",
       "      <td>417700000.0</td>\n",
       "      <td>891800000</td>\n",
       "      <td>2018</td>\n",
       "    </tr>\n",
       "    <tr>\n",
       "      <th>0</th>\n",
       "      <td>Toy Story 3</td>\n",
       "      <td>BV</td>\n",
       "      <td>415000000.0</td>\n",
       "      <td>652000000</td>\n",
       "      <td>2010</td>\n",
       "    </tr>\n",
       "    <tr>\n",
       "      <th>2767</th>\n",
       "      <td>Wonder Woman</td>\n",
       "      <td>WB</td>\n",
       "      <td>412600000.0</td>\n",
       "      <td>409300000</td>\n",
       "      <td>2017</td>\n",
       "    </tr>\n",
       "    <tr>\n",
       "      <th>1128</th>\n",
       "      <td>Iron Man 3</td>\n",
       "      <td>BV</td>\n",
       "      <td>409000000.0</td>\n",
       "      <td>805800000</td>\n",
       "      <td>2013</td>\n",
       "    </tr>\n",
       "    <tr>\n",
       "      <th>2322</th>\n",
       "      <td>Captain America: Civil War</td>\n",
       "      <td>BV</td>\n",
       "      <td>408100000.0</td>\n",
       "      <td>745200000</td>\n",
       "      <td>2016</td>\n",
       "    </tr>\n",
       "    <tr>\n",
       "      <th>735</th>\n",
       "      <td>The Hunger Games</td>\n",
       "      <td>LGF</td>\n",
       "      <td>408000000.0</td>\n",
       "      <td>286400000</td>\n",
       "      <td>2012</td>\n",
       "    </tr>\n",
       "    <tr>\n",
       "      <th>2762</th>\n",
       "      <td>Jumanji: Welcome to the Jungle</td>\n",
       "      <td>Sony</td>\n",
       "      <td>404500000.0</td>\n",
       "      <td>557600000</td>\n",
       "      <td>2017</td>\n",
       "    </tr>\n",
       "  </tbody>\n",
       "</table>\n",
       "</div>"
      ],
      "text/plain": [
       "                                title studio  domestic_gross foreign_gross  \\\n",
       "1872     Star Wars: The Force Awakens     BV     936700000.0       1,131.6   \n",
       "3080                    Black Panther     BV     700100000.0     646900000   \n",
       "3079           Avengers: Infinity War     BV     678800000.0       1,369.5   \n",
       "1873                   Jurassic World   Uni.     652300000.0       1,019.4   \n",
       "727             Marvel's The Avengers     BV     623400000.0     895500000   \n",
       "2758         Star Wars: The Last Jedi     BV     620200000.0     712400000   \n",
       "3082                    Incredibles 2     BV     608600000.0     634200000   \n",
       "2323     Rogue One: A Star Wars Story     BV     532200000.0     523900000   \n",
       "2759      Beauty and the Beast (2017)     BV     504000000.0     759500000   \n",
       "2324                     Finding Dory     BV     486300000.0     542300000   \n",
       "1875          Avengers: Age of Ultron     BV     459000000.0     946400000   \n",
       "729             The Dark Knight Rises     WB     448100000.0     636800000   \n",
       "1131  The Hunger Games: Catching Fire    LGF     424700000.0     440300000   \n",
       "3081   Jurassic World: Fallen Kingdom   Uni.     417700000.0     891800000   \n",
       "0                         Toy Story 3     BV     415000000.0     652000000   \n",
       "2767                     Wonder Woman     WB     412600000.0     409300000   \n",
       "1128                       Iron Man 3     BV     409000000.0     805800000   \n",
       "2322       Captain America: Civil War     BV     408100000.0     745200000   \n",
       "735                  The Hunger Games    LGF     408000000.0     286400000   \n",
       "2762   Jumanji: Welcome to the Jungle   Sony     404500000.0     557600000   \n",
       "\n",
       "      year  \n",
       "1872  2015  \n",
       "3080  2018  \n",
       "3079  2018  \n",
       "1873  2015  \n",
       "727   2012  \n",
       "2758  2017  \n",
       "3082  2018  \n",
       "2323  2016  \n",
       "2759  2017  \n",
       "2324  2016  \n",
       "1875  2015  \n",
       "729   2012  \n",
       "1131  2013  \n",
       "3081  2018  \n",
       "0     2010  \n",
       "2767  2017  \n",
       "1128  2013  \n",
       "2322  2016  \n",
       "735   2012  \n",
       "2762  2017  "
      ]
     },
     "execution_count": 26,
     "metadata": {},
     "output_type": "execute_result"
    }
   ],
   "source": [
    "top20 = bommovie.head(20)\n",
    "top20"
   ]
  },
  {
   "cell_type": "markdown",
   "metadata": {},
   "source": [
    "## We then determined which studio made the most movies in our top 20"
   ]
  },
  {
   "cell_type": "code",
   "execution_count": 27,
   "metadata": {},
   "outputs": [
    {
     "data": {
      "text/plain": [
       "BV      65.0\n",
       "LGF     10.0\n",
       "Uni.    10.0\n",
       "WB      10.0\n",
       "Sony     5.0\n",
       "Name: studio, dtype: float64"
      ]
     },
     "execution_count": 27,
     "metadata": {},
     "output_type": "execute_result"
    }
   ],
   "source": [
    "top20['studio'].value_counts(normalize=True) * 100"
   ]
  },
  {
   "cell_type": "markdown",
   "metadata": {},
   "source": [
    "## We learned BV is the studio responsible for 65% of the top 20 highest grossing movies."
   ]
  },
  {
   "cell_type": "markdown",
   "metadata": {},
   "source": [
    "## Once we discovered Buena Vista (abbreviated \"BV\") is the movie studio that makes the majority of highest grossing movies, we made a bar chart to communicate this valuable information.\n",
    "\n",
    "## First, we created a color palette so each studio would be represented by a certain color"
   ]
  },
  {
   "cell_type": "code",
   "execution_count": 28,
   "metadata": {},
   "outputs": [],
   "source": [
    "\n",
    "custom_palette = []\n",
    "labels = [ ]\n",
    "for x in top20[\"studio\"]:\n",
    "    labels.append(x)\n",
    "    if x == \"BV\":\n",
    "        custom_palette.append('lightskyblue')\n",
    "    elif x==\"Uni.\":\n",
    "        custom_palette.append('mediumblue')\n",
    "    elif x==\"WB\":\n",
    "        custom_palette.append('darkslateblue')\n",
    "    elif x==\"LGF\":\n",
    "        custom_palette.append('blueviolet')\n",
    "    else:\n",
    "        custom_palette.append('plum')"
   ]
  },
  {
   "cell_type": "code",
   "execution_count": 29,
   "metadata": {},
   "outputs": [],
   "source": [
    "labels = set(labels)"
   ]
  },
  {
   "cell_type": "markdown",
   "metadata": {},
   "source": [
    "## Following this is the code to create our graph:"
   ]
  },
  {
   "cell_type": "code",
   "execution_count": 30,
   "metadata": {},
   "outputs": [
    {
     "data": {
      "image/png": "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\n",
      "text/plain": [
       "<Figure size 1080x720 with 1 Axes>"
      ]
     },
     "metadata": {
      "needs_background": "light"
     },
     "output_type": "display_data"
    }
   ],
   "source": [
    "x = top20[\"title\"]\n",
    "y = top20[\"domestic_gross\"]\n",
    "\n",
    "plt.figure(figsize=(15, 10))\n",
    "sns.set_style('white')\n",
    "sns.set_palette(\"bright\")\n",
    "bar = sns.barplot(x = x,\n",
    "            y = y,\n",
    "            palette=custom_palette)\n",
    "custom_lines = [Line2D([0], [0], color=\"lightskyblue\", lw=4),\n",
    "                Line2D([0], [0], color=\"mediumblue\", lw=4),\n",
    "                Line2D([0], [0], color=\"darkslateblue\", lw=4),\n",
    "                Line2D([0], [0], color=\"blueviolet\", lw=4),\n",
    "                Line2D([0], [0], color=\"plum\", lw=4)]\n",
    "plt.legend(custom_lines, ['BV', 'Uni.', 'WB', \"LGF\", \"Sony\"], fontsize=\"xx-large\") ###\n",
    "\n",
    "plt.ylabel(\"Domestic Gross in Millions\", size=25)\n",
    "plt.xlabel(\"Movie\", size=25)\n",
    "bar.tick_params(axis='y', labelsize=20)\n",
    "plt.xticks(rotation = 90, size = 20)\n",
    "plt.title(\"Top 20 Grossing Movies by Studio\", size=30)\n",
    "\n",
    "plt.savefig(\"top20_barplot_Seaborn_barplot_Python.png\")\n",
    "\n",
    "plt.show();"
   ]
  },
  {
   "cell_type": "markdown",
   "metadata": {},
   "source": [
    "### Microsoft's best bet for making the highest domestic gross possible is using Buena Vistas studios or modeling their own studio off of Buena Vistas studios"
   ]
  },
  {
   "cell_type": "markdown",
   "metadata": {},
   "source": [
    "## First, I will add the dataframe to this project"
   ]
  },
  {
   "cell_type": "code",
   "execution_count": 31,
   "metadata": {},
   "outputs": [],
   "source": [
    "dff = pd.read_csv('data/zippedData/tmdb.movies.csv.gz')"
   ]
  },
  {
   "cell_type": "markdown",
   "metadata": {},
   "source": [
    "## Next, I will drop the unnecessary columns and limit the dataframe to movies that have received at least 1,000 votes"
   ]
  },
  {
   "cell_type": "code",
   "execution_count": 32,
   "metadata": {},
   "outputs": [],
   "source": [
    "dff = dff.drop(columns=['genre_ids', 'id', 'original_language','original_title', 'popularity'])"
   ]
  },
  {
   "cell_type": "code",
   "execution_count": 33,
   "metadata": {},
   "outputs": [],
   "source": [
    "new_df = dff[dff['vote_count'] > 1000]"
   ]
  },
  {
   "cell_type": "markdown",
   "metadata": {},
   "source": [
    "## Next, I will create a new column indicating the month that each movie was released"
   ]
  },
  {
   "cell_type": "code",
   "execution_count": 34,
   "metadata": {},
   "outputs": [
    {
     "name": "stderr",
     "output_type": "stream",
     "text": [
      "<ipython-input-34-2abd5f3ef3f7>:1: SettingWithCopyWarning: \n",
      "A value is trying to be set on a copy of a slice from a DataFrame.\n",
      "Try using .loc[row_indexer,col_indexer] = value instead\n",
      "\n",
      "See the caveats in the documentation: https://pandas.pydata.org/pandas-docs/stable/user_guide/indexing.html#returning-a-view-versus-a-copy\n",
      "  new_df['release_month'] = new_df['release_date'].str[5:7]\n"
     ]
    }
   ],
   "source": [
    "new_df['release_month'] = new_df['release_date'].str[5:7]"
   ]
  },
  {
   "cell_type": "markdown",
   "metadata": {},
   "source": [
    "## Finally, I will sort the dataframe by movies that received the highest rating"
   ]
  },
  {
   "cell_type": "code",
   "execution_count": 35,
   "metadata": {},
   "outputs": [],
   "source": [
    "highest_vote_average = new_df.sort_values('vote_average', ascending = False)\n",
    "highest_vote_average = highest_vote_average.head(1000)"
   ]
  },
  {
   "cell_type": "markdown",
   "metadata": {},
   "source": [
    "## I will now replace the numbers with numbers for each month with their corresponding name"
   ]
  },
  {
   "cell_type": "code",
   "execution_count": 36,
   "metadata": {},
   "outputs": [],
   "source": [
    "highest_vote_average['release_month'] = highest_vote_average['release_month'].replace(['01'], 'Jan')\n",
    "highest_vote_average['release_month'] = highest_vote_average['release_month'].replace(['02'], 'Feb')\n",
    "highest_vote_average['release_month'] = highest_vote_average['release_month'].replace(['03'], 'Mar')\n",
    "highest_vote_average['release_month'] = highest_vote_average['release_month'].replace(['04'], 'Apr')\n",
    "highest_vote_average['release_month'] = highest_vote_average['release_month'].replace(['05'], 'May')\n",
    "highest_vote_average['release_month'] = highest_vote_average['release_month'].replace(['06'], 'Jun')\n",
    "highest_vote_average['release_month'] = highest_vote_average['release_month'].replace(['07'], 'Jul')\n",
    "highest_vote_average['release_month'] = highest_vote_average['release_month'].replace(['08'], 'Aug')\n",
    "highest_vote_average['release_month'] = highest_vote_average['release_month'].replace(['09'], 'Sep')\n",
    "highest_vote_average['release_month'] = highest_vote_average['release_month'].replace(['10'], 'Oct')\n",
    "highest_vote_average['release_month'] = highest_vote_average['release_month'].replace(['11'], 'Nov')\n",
    "highest_vote_average['release_month'] = highest_vote_average['release_month'].replace(['12'], 'Dec')"
   ]
  },
  {
   "cell_type": "markdown",
   "metadata": {},
   "source": [
    "## My organized dataframe is below"
   ]
  },
  {
   "cell_type": "code",
   "execution_count": 37,
   "metadata": {},
   "outputs": [
    {
     "data": {
      "text/html": [
       "<div>\n",
       "<style scoped>\n",
       "    .dataframe tbody tr th:only-of-type {\n",
       "        vertical-align: middle;\n",
       "    }\n",
       "\n",
       "    .dataframe tbody tr th {\n",
       "        vertical-align: top;\n",
       "    }\n",
       "\n",
       "    .dataframe thead th {\n",
       "        text-align: right;\n",
       "    }\n",
       "</style>\n",
       "<table border=\"1\" class=\"dataframe\">\n",
       "  <thead>\n",
       "    <tr style=\"text-align: right;\">\n",
       "      <th></th>\n",
       "      <th>release_date</th>\n",
       "      <th>title</th>\n",
       "      <th>vote_average</th>\n",
       "      <th>vote_count</th>\n",
       "      <th>release_month</th>\n",
       "    </tr>\n",
       "  </thead>\n",
       "  <tbody>\n",
       "    <tr>\n",
       "      <th>20632</th>\n",
       "      <td>2017-04-07</td>\n",
       "      <td>Your Name.</td>\n",
       "      <td>8.6</td>\n",
       "      <td>4161</td>\n",
       "      <td>Apr</td>\n",
       "    </tr>\n",
       "    <tr>\n",
       "      <th>17389</th>\n",
       "      <td>2017-04-07</td>\n",
       "      <td>Your Name.</td>\n",
       "      <td>8.6</td>\n",
       "      <td>4161</td>\n",
       "      <td>Apr</td>\n",
       "    </tr>\n",
       "    <tr>\n",
       "      <th>20626</th>\n",
       "      <td>2002-09-20</td>\n",
       "      <td>Spirited Away</td>\n",
       "      <td>8.5</td>\n",
       "      <td>7424</td>\n",
       "      <td>Sep</td>\n",
       "    </tr>\n",
       "    <tr>\n",
       "      <th>14173</th>\n",
       "      <td>2002-09-20</td>\n",
       "      <td>Spirited Away</td>\n",
       "      <td>8.5</td>\n",
       "      <td>7424</td>\n",
       "      <td>Sep</td>\n",
       "    </tr>\n",
       "    <tr>\n",
       "      <th>23861</th>\n",
       "      <td>1993-12-15</td>\n",
       "      <td>Schindler's List</td>\n",
       "      <td>8.5</td>\n",
       "      <td>8065</td>\n",
       "      <td>Dec</td>\n",
       "    </tr>\n",
       "    <tr>\n",
       "      <th>...</th>\n",
       "      <td>...</td>\n",
       "      <td>...</td>\n",
       "      <td>...</td>\n",
       "      <td>...</td>\n",
       "      <td>...</td>\n",
       "    </tr>\n",
       "    <tr>\n",
       "      <th>140</th>\n",
       "      <td>2010-03-19</td>\n",
       "      <td>The Bounty Hunter</td>\n",
       "      <td>5.7</td>\n",
       "      <td>1627</td>\n",
       "      <td>Mar</td>\n",
       "    </tr>\n",
       "    <tr>\n",
       "      <th>11036</th>\n",
       "      <td>2014-12-12</td>\n",
       "      <td>Exodus: Gods and Kings</td>\n",
       "      <td>5.7</td>\n",
       "      <td>2909</td>\n",
       "      <td>Dec</td>\n",
       "    </tr>\n",
       "    <tr>\n",
       "      <th>20824</th>\n",
       "      <td>2017-06-23</td>\n",
       "      <td>The Beguiled</td>\n",
       "      <td>5.7</td>\n",
       "      <td>1170</td>\n",
       "      <td>Jun</td>\n",
       "    </tr>\n",
       "    <tr>\n",
       "      <th>17425</th>\n",
       "      <td>2016-05-20</td>\n",
       "      <td>Neighbors 2: Sorority Rising</td>\n",
       "      <td>5.7</td>\n",
       "      <td>2829</td>\n",
       "      <td>May</td>\n",
       "    </tr>\n",
       "    <tr>\n",
       "      <th>7991</th>\n",
       "      <td>2013-02-14</td>\n",
       "      <td>Beautiful Creatures</td>\n",
       "      <td>5.7</td>\n",
       "      <td>1826</td>\n",
       "      <td>Feb</td>\n",
       "    </tr>\n",
       "  </tbody>\n",
       "</table>\n",
       "<p>1000 rows × 5 columns</p>\n",
       "</div>"
      ],
      "text/plain": [
       "      release_date                         title  vote_average  vote_count  \\\n",
       "20632   2017-04-07                    Your Name.           8.6        4161   \n",
       "17389   2017-04-07                    Your Name.           8.6        4161   \n",
       "20626   2002-09-20                 Spirited Away           8.5        7424   \n",
       "14173   2002-09-20                 Spirited Away           8.5        7424   \n",
       "23861   1993-12-15              Schindler's List           8.5        8065   \n",
       "...            ...                           ...           ...         ...   \n",
       "140     2010-03-19             The Bounty Hunter           5.7        1627   \n",
       "11036   2014-12-12        Exodus: Gods and Kings           5.7        2909   \n",
       "20824   2017-06-23                  The Beguiled           5.7        1170   \n",
       "17425   2016-05-20  Neighbors 2: Sorority Rising           5.7        2829   \n",
       "7991    2013-02-14           Beautiful Creatures           5.7        1826   \n",
       "\n",
       "      release_month  \n",
       "20632           Apr  \n",
       "17389           Apr  \n",
       "20626           Sep  \n",
       "14173           Sep  \n",
       "23861           Dec  \n",
       "...             ...  \n",
       "140             Mar  \n",
       "11036           Dec  \n",
       "20824           Jun  \n",
       "17425           May  \n",
       "7991            Feb  \n",
       "\n",
       "[1000 rows x 5 columns]"
      ]
     },
     "execution_count": 37,
     "metadata": {},
     "output_type": "execute_result"
    }
   ],
   "source": [
    "highest_vote_average"
   ]
  },
  {
   "cell_type": "markdown",
   "metadata": {},
   "source": [
    "## My bar graph is below"
   ]
  },
  {
   "cell_type": "code",
   "execution_count": 38,
   "metadata": {},
   "outputs": [
    {
     "data": {
      "text/plain": [
       "(0.0, 10.0)"
      ]
     },
     "execution_count": 38,
     "metadata": {},
     "output_type": "execute_result"
    },
    {
     "data": {
      "image/png": "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\n",
      "text/plain": [
       "<Figure size 432x288 with 1 Axes>"
      ]
     },
     "metadata": {},
     "output_type": "display_data"
    }
   ],
   "source": [
    "bar2 = plt.barh(highest_vote_average['release_month'], highest_vote_average['vote_average'])\n",
    "plt.title('Average Rating of Movies for each Month')\n",
    "plt.xlabel('Rating')\n",
    "plt.ylabel('Month')\n",
    "plt.savefig(\"images/Month_and_Rating\")\n",
    "plt.xlim([0, 10])"
   ]
  },
  {
   "cell_type": "markdown",
   "metadata": {},
   "source": [
    "### This visual shows that there is no significnce to which month a movie is released based off ratings."
   ]
  },
  {
   "cell_type": "markdown",
   "metadata": {},
   "source": [
    "# Dataframe with Director and Grossing Information"
   ]
  },
  {
   "cell_type": "markdown",
   "metadata": {},
   "source": [
    "## First, I will add the dataframe with movie grossing information to this project"
   ]
  },
  {
   "cell_type": "code",
   "execution_count": 39,
   "metadata": {},
   "outputs": [],
   "source": [
    "df44 = pd.read_csv('data/zippedData/tn.movie_budgets.csv.gz')\n"
   ]
  },
  {
   "cell_type": "markdown",
   "metadata": {},
   "source": [
    "## Next, I will sort the dataframe by worldwide gross and get rid of the commas and dollar signs"
   ]
  },
  {
   "cell_type": "code",
   "execution_count": 40,
   "metadata": {},
   "outputs": [],
   "source": [
    "highest_gross = df44.sort_values('worldwide_gross', ascending=False)"
   ]
  },
  {
   "cell_type": "code",
   "execution_count": 41,
   "metadata": {},
   "outputs": [],
   "source": [
    "highest_gross['worldwide_gross'] = highest_gross['worldwide_gross'].apply(lambda x: x.replace(',', '').replace('$', '')).astype('int64')"
   ]
  },
  {
   "cell_type": "markdown",
   "metadata": {},
   "source": [
    "## Then, I will add the dataframe with director information"
   ]
  },
  {
   "cell_type": "code",
   "execution_count": 42,
   "metadata": {},
   "outputs": [],
   "source": [
    "df33 = pd.read_csv('data/zippedData/rotten_tomatoes_movies.csv.gz')"
   ]
  },
  {
   "cell_type": "markdown",
   "metadata": {},
   "source": [
    "## Now, I will drop unnecessary columns and rows with null values"
   ]
  },
  {
   "cell_type": "code",
   "execution_count": 43,
   "metadata": {},
   "outputs": [],
   "source": [
    "df33 = df33.drop(columns=['rotten_tomatoes_link', 'movie_info', 'critics_consensus', 'original_release_date', 'authors','actors', 'production_company', 'tomatometer_status', 'tomatometer_rating', 'tomatometer_count', 'audience_status', 'audience_rating', 'audience_count', 'tomatometer_top_critics_count', 'tomatometer_fresh_critics_count', 'tomatometer_rotten_critics_count', 'streaming_release_date', 'runtime'])"
   ]
  },
  {
   "cell_type": "code",
   "execution_count": 44,
   "metadata": {},
   "outputs": [],
   "source": [
    "df33 = df33.dropna()"
   ]
  },
  {
   "cell_type": "markdown",
   "metadata": {},
   "source": [
    "## After that, I will filter out genres that do not contain the word adventure"
   ]
  },
  {
   "cell_type": "markdown",
   "metadata": {},
   "source": [
    "We used Pandas to read the next dataset, which contains information about which studios made which movies, what year each movie was made, and how much money each movie made. "
   ]
  },
  {
   "cell_type": "code",
<<<<<<< HEAD
   "execution_count": 3,
   "metadata": {},
   "outputs": [
    {
     "data": {
      "text/html": [
       "<div>\n",
       "<style scoped>\n",
       "    .dataframe tbody tr th:only-of-type {\n",
       "        vertical-align: middle;\n",
       "    }\n",
       "\n",
       "    .dataframe tbody tr th {\n",
       "        vertical-align: top;\n",
       "    }\n",
       "\n",
       "    .dataframe thead th {\n",
       "        text-align: right;\n",
       "    }\n",
       "</style>\n",
       "<table border=\"1\" class=\"dataframe\">\n",
       "  <thead>\n",
       "    <tr style=\"text-align: right;\">\n",
       "      <th></th>\n",
       "      <th>title</th>\n",
       "      <th>studio</th>\n",
       "      <th>domestic_gross</th>\n",
       "      <th>foreign_gross</th>\n",
       "      <th>year</th>\n",
       "    </tr>\n",
       "  </thead>\n",
       "  <tbody>\n",
       "    <tr>\n",
       "      <th>0</th>\n",
       "      <td>Toy Story 3</td>\n",
       "      <td>BV</td>\n",
       "      <td>415000000.0</td>\n",
       "      <td>652000000</td>\n",
       "      <td>2010</td>\n",
       "    </tr>\n",
       "    <tr>\n",
       "      <th>1</th>\n",
       "      <td>Alice in Wonderland (2010)</td>\n",
       "      <td>BV</td>\n",
       "      <td>334200000.0</td>\n",
       "      <td>691300000</td>\n",
       "      <td>2010</td>\n",
       "    </tr>\n",
       "    <tr>\n",
       "      <th>2</th>\n",
       "      <td>Harry Potter and the Deathly Hallows Part 1</td>\n",
       "      <td>WB</td>\n",
       "      <td>296000000.0</td>\n",
       "      <td>664300000</td>\n",
       "      <td>2010</td>\n",
       "    </tr>\n",
       "    <tr>\n",
       "      <th>3</th>\n",
       "      <td>Inception</td>\n",
       "      <td>WB</td>\n",
       "      <td>292600000.0</td>\n",
       "      <td>535700000</td>\n",
       "      <td>2010</td>\n",
       "    </tr>\n",
       "    <tr>\n",
       "      <th>4</th>\n",
       "      <td>Shrek Forever After</td>\n",
       "      <td>P/DW</td>\n",
       "      <td>238700000.0</td>\n",
       "      <td>513900000</td>\n",
       "      <td>2010</td>\n",
       "    </tr>\n",
       "    <tr>\n",
       "      <th>...</th>\n",
       "      <td>...</td>\n",
       "      <td>...</td>\n",
       "      <td>...</td>\n",
       "      <td>...</td>\n",
       "      <td>...</td>\n",
       "    </tr>\n",
       "    <tr>\n",
       "      <th>3382</th>\n",
       "      <td>The Quake</td>\n",
       "      <td>Magn.</td>\n",
       "      <td>6200.0</td>\n",
       "      <td>NaN</td>\n",
       "      <td>2018</td>\n",
       "    </tr>\n",
       "    <tr>\n",
       "      <th>3383</th>\n",
       "      <td>Edward II (2018 re-release)</td>\n",
       "      <td>FM</td>\n",
       "      <td>4800.0</td>\n",
       "      <td>NaN</td>\n",
       "      <td>2018</td>\n",
       "    </tr>\n",
       "    <tr>\n",
       "      <th>3384</th>\n",
       "      <td>El Pacto</td>\n",
       "      <td>Sony</td>\n",
       "      <td>2500.0</td>\n",
       "      <td>NaN</td>\n",
       "      <td>2018</td>\n",
       "    </tr>\n",
       "    <tr>\n",
       "      <th>3385</th>\n",
       "      <td>The Swan</td>\n",
       "      <td>Synergetic</td>\n",
       "      <td>2400.0</td>\n",
       "      <td>NaN</td>\n",
       "      <td>2018</td>\n",
       "    </tr>\n",
       "    <tr>\n",
       "      <th>3386</th>\n",
       "      <td>An Actor Prepares</td>\n",
       "      <td>Grav.</td>\n",
       "      <td>1700.0</td>\n",
       "      <td>NaN</td>\n",
       "      <td>2018</td>\n",
       "    </tr>\n",
       "  </tbody>\n",
       "</table>\n",
       "<p>3387 rows × 5 columns</p>\n",
       "</div>"
      ],
      "text/plain": [
       "                                            title      studio  domestic_gross  \\\n",
       "0                                     Toy Story 3          BV     415000000.0   \n",
       "1                      Alice in Wonderland (2010)          BV     334200000.0   \n",
       "2     Harry Potter and the Deathly Hallows Part 1          WB     296000000.0   \n",
       "3                                       Inception          WB     292600000.0   \n",
       "4                             Shrek Forever After        P/DW     238700000.0   \n",
       "...                                           ...         ...             ...   \n",
       "3382                                    The Quake       Magn.          6200.0   \n",
       "3383                  Edward II (2018 re-release)          FM          4800.0   \n",
       "3384                                     El Pacto        Sony          2500.0   \n",
       "3385                                     The Swan  Synergetic          2400.0   \n",
       "3386                            An Actor Prepares       Grav.          1700.0   \n",
       "\n",
       "     foreign_gross  year  \n",
       "0        652000000  2010  \n",
       "1        691300000  2010  \n",
       "2        664300000  2010  \n",
       "3        535700000  2010  \n",
       "4        513900000  2010  \n",
       "...            ...   ...  \n",
       "3382           NaN  2018  \n",
       "3383           NaN  2018  \n",
       "3384           NaN  2018  \n",
       "3385           NaN  2018  \n",
       "3386           NaN  2018  \n",
       "\n",
       "[3387 rows x 5 columns]"
      ]
     },
     "execution_count": 3,
     "metadata": {},
     "output_type": "execute_result"
    }
   ],
   "source": [
    "bommovie = pd.read_csv(\"./data/zippedData/bom.movie_gross.csv.gz\")\n",
    "bommovie"
=======
   "execution_count": 45,
   "metadata": {},
   "outputs": [],
   "source": [
    "df33 = df33[df33['genres'].str.contains('Adventure')]"
>>>>>>> bf882aca1132534758e61afc9db54c6c372effe0
   ]
  },
  {
   "cell_type": "markdown",
   "metadata": {},
   "source": [
<<<<<<< HEAD
    "### Sorting\n",
    "Using the sort values function, we reorganized the dataset from the movie with the highest domestic gross to the movie with the lowest domestic gross."
=======
    "## Next, I will merge the two dataframes together based on movie title"
>>>>>>> bf882aca1132534758e61afc9db54c6c372effe0
   ]
  },
  {
   "cell_type": "code",
<<<<<<< HEAD
   "execution_count": 4,
   "metadata": {},
   "outputs": [
    {
     "data": {
      "text/html": [
       "<div>\n",
       "<style scoped>\n",
       "    .dataframe tbody tr th:only-of-type {\n",
       "        vertical-align: middle;\n",
       "    }\n",
       "\n",
       "    .dataframe tbody tr th {\n",
       "        vertical-align: top;\n",
       "    }\n",
       "\n",
       "    .dataframe thead th {\n",
       "        text-align: right;\n",
       "    }\n",
       "</style>\n",
       "<table border=\"1\" class=\"dataframe\">\n",
       "  <thead>\n",
       "    <tr style=\"text-align: right;\">\n",
       "      <th></th>\n",
       "      <th>title</th>\n",
       "      <th>studio</th>\n",
       "      <th>domestic_gross</th>\n",
       "      <th>foreign_gross</th>\n",
       "      <th>year</th>\n",
       "    </tr>\n",
       "  </thead>\n",
       "  <tbody>\n",
       "    <tr>\n",
       "      <th>1872</th>\n",
       "      <td>Star Wars: The Force Awakens</td>\n",
       "      <td>BV</td>\n",
       "      <td>936700000.0</td>\n",
       "      <td>1,131.6</td>\n",
       "      <td>2015</td>\n",
       "    </tr>\n",
       "    <tr>\n",
       "      <th>3080</th>\n",
       "      <td>Black Panther</td>\n",
       "      <td>BV</td>\n",
       "      <td>700100000.0</td>\n",
       "      <td>646900000</td>\n",
       "      <td>2018</td>\n",
       "    </tr>\n",
       "    <tr>\n",
       "      <th>3079</th>\n",
       "      <td>Avengers: Infinity War</td>\n",
       "      <td>BV</td>\n",
       "      <td>678800000.0</td>\n",
       "      <td>1,369.5</td>\n",
       "      <td>2018</td>\n",
       "    </tr>\n",
       "    <tr>\n",
       "      <th>1873</th>\n",
       "      <td>Jurassic World</td>\n",
       "      <td>Uni.</td>\n",
       "      <td>652300000.0</td>\n",
       "      <td>1,019.4</td>\n",
       "      <td>2015</td>\n",
       "    </tr>\n",
       "    <tr>\n",
       "      <th>727</th>\n",
       "      <td>Marvel's The Avengers</td>\n",
       "      <td>BV</td>\n",
       "      <td>623400000.0</td>\n",
       "      <td>895500000</td>\n",
       "      <td>2012</td>\n",
       "    </tr>\n",
       "    <tr>\n",
       "      <th>...</th>\n",
       "      <td>...</td>\n",
       "      <td>...</td>\n",
       "      <td>...</td>\n",
       "      <td>...</td>\n",
       "      <td>...</td>\n",
       "    </tr>\n",
       "    <tr>\n",
       "      <th>1975</th>\n",
       "      <td>Surprise - Journey To The West</td>\n",
       "      <td>AR</td>\n",
       "      <td>NaN</td>\n",
       "      <td>49600000</td>\n",
       "      <td>2015</td>\n",
       "    </tr>\n",
       "    <tr>\n",
       "      <th>2392</th>\n",
       "      <td>Finding Mr. Right 2</td>\n",
       "      <td>CL</td>\n",
       "      <td>NaN</td>\n",
       "      <td>114700000</td>\n",
       "      <td>2016</td>\n",
       "    </tr>\n",
       "    <tr>\n",
       "      <th>2468</th>\n",
       "      <td>Solace</td>\n",
       "      <td>LGP</td>\n",
       "      <td>NaN</td>\n",
       "      <td>22400000</td>\n",
       "      <td>2016</td>\n",
       "    </tr>\n",
       "    <tr>\n",
       "      <th>2595</th>\n",
       "      <td>Viral</td>\n",
       "      <td>W/Dim.</td>\n",
       "      <td>NaN</td>\n",
       "      <td>552000</td>\n",
       "      <td>2016</td>\n",
       "    </tr>\n",
       "    <tr>\n",
       "      <th>2825</th>\n",
       "      <td>Secret Superstar</td>\n",
       "      <td>NaN</td>\n",
       "      <td>NaN</td>\n",
       "      <td>122000000</td>\n",
       "      <td>2017</td>\n",
       "    </tr>\n",
       "  </tbody>\n",
       "</table>\n",
       "<p>3387 rows × 5 columns</p>\n",
       "</div>"
      ],
      "text/plain": [
       "                               title  studio  domestic_gross foreign_gross  \\\n",
       "1872    Star Wars: The Force Awakens      BV     936700000.0       1,131.6   \n",
       "3080                   Black Panther      BV     700100000.0     646900000   \n",
       "3079          Avengers: Infinity War      BV     678800000.0       1,369.5   \n",
       "1873                  Jurassic World    Uni.     652300000.0       1,019.4   \n",
       "727            Marvel's The Avengers      BV     623400000.0     895500000   \n",
       "...                              ...     ...             ...           ...   \n",
       "1975  Surprise - Journey To The West      AR             NaN      49600000   \n",
       "2392             Finding Mr. Right 2      CL             NaN     114700000   \n",
       "2468                          Solace     LGP             NaN      22400000   \n",
       "2595                           Viral  W/Dim.             NaN        552000   \n",
       "2825                Secret Superstar     NaN             NaN     122000000   \n",
       "\n",
       "      year  \n",
       "1872  2015  \n",
       "3080  2018  \n",
       "3079  2018  \n",
       "1873  2015  \n",
       "727   2012  \n",
       "...    ...  \n",
       "1975  2015  \n",
       "2392  2016  \n",
       "2468  2016  \n",
       "2595  2016  \n",
       "2825  2017  \n",
       "\n",
       "[3387 rows x 5 columns]"
      ]
     },
     "execution_count": 4,
     "metadata": {},
     "output_type": "execute_result"
    }
   ],
   "source": [
    "bommovie = bommovie.sort_values(\"domestic_gross\", ascending = False)\n",
    "bommovie"
=======
   "execution_count": 46,
   "metadata": {},
   "outputs": [],
   "source": [
    "final_df = pd.merge(df33, highest_gross, how='inner', left_on='movie_title', right_on='movie')"
>>>>>>> bf882aca1132534758e61afc9db54c6c372effe0
   ]
  },
  {
   "cell_type": "markdown",
   "metadata": {},
   "source": [
<<<<<<< HEAD
    "### Null Values\n",
    "Next, we figured out what percentage of information about movies was missing."
=======
    "## I will then remove commas and dollar signs and create a profit column"
>>>>>>> bf882aca1132534758e61afc9db54c6c372effe0
   ]
  },
  {
   "cell_type": "code",
<<<<<<< HEAD
   "execution_count": 5,
   "metadata": {},
   "outputs": [
    {
     "name": "stdout",
     "output_type": "stream",
     "text": [
      "foreign_gross - 40.0%\n",
      "domestic_gross - 1.0%\n",
      "studio - 0.0%\n",
      "year - 0.0%\n",
      "title - 0.0%\n"
     ]
    }
   ],
   "source": [
    "pct_missing = np.mean(bommovie[\"foreign_gross\"].isnull())\n",
    "print('{} - {}%'.format(\"foreign_gross\", round(pct_missing*100)))\n",
    "\n",
    "pct_missing = np.mean(bommovie[\"domestic_gross\"].isnull())\n",
    "print('{} - {}%'.format(\"domestic_gross\", round(pct_missing*100)))\n",
    "\n",
    "pct_missing = np.mean(bommovie[\"studio\"].isnull())\n",
    "print('{} - {}%'.format(\"studio\", round(pct_missing*100)))\n",
    "\n",
    "pct_missing = np.mean(bommovie[\"year\"].isnull())\n",
    "print('{} - {}%'.format(\"year\", round(pct_missing*100)))\n",
    "\n",
    "pct_missing = np.mean(bommovie[\"title\"].isnull())\n",
    "print('{} - {}%'.format(\"title\", round(pct_missing*100)))"
   ]
  },
  {
   "cell_type": "markdown",
   "metadata": {},
   "source": [
    "40% of values were missing in the foreign gross column and 1% of values were missing in the domestic gross column. We dropped all of these null values to ensure the accuracy of our analyses. Due to the significant amount of data dropped from the foreign gross column, we chose to tighten our focus to domestic gross and use that as the primary indicator of movie success."
=======
   "execution_count": 47,
   "metadata": {},
   "outputs": [],
   "source": [
    "final_df['production_budget'] = final_df['production_budget'].apply(lambda x: x.replace(',', '').replace('$', '')).astype('int64')"
>>>>>>> bf882aca1132534758e61afc9db54c6c372effe0
   ]
  },
  {
   "cell_type": "code",
<<<<<<< HEAD
   "execution_count": 6,
   "metadata": {},
   "outputs": [],
   "source": [
    "bommovie = bommovie.dropna(subset=['foreign_gross'])"
=======
   "execution_count": 48,
   "metadata": {},
   "outputs": [],
   "source": [
    "final_df['production_budget'] = final_df['production_budget'].astype('int64')"
>>>>>>> bf882aca1132534758e61afc9db54c6c372effe0
   ]
  },
  {
   "cell_type": "code",
<<<<<<< HEAD
   "execution_count": 7,
   "metadata": {},
   "outputs": [],
   "source": [
    "bommovie = bommovie.dropna(subset=['domestic_gross'])"
=======
   "execution_count": 49,
   "metadata": {},
   "outputs": [],
   "source": [
    "final_df['profit'] = final_df['worldwide_gross'] - final_df['production_budget']"
>>>>>>> bf882aca1132534758e61afc9db54c6c372effe0
   ]
  },
  {
   "cell_type": "markdown",
   "metadata": {},
   "source": [
<<<<<<< HEAD
    "Then, we checked that all null values were gone."
=======
    "## I will create a new dataframe combining the directors top 10 directors so that I can compare their average profits"
>>>>>>> bf882aca1132534758e61afc9db54c6c372effe0
   ]
  },
  {
   "cell_type": "code",
<<<<<<< HEAD
   "execution_count": 8,
   "metadata": {},
   "outputs": [
    {
     "name": "stdout",
     "output_type": "stream",
     "text": [
      "foreign_gross - 0.0%\n",
      "domestic_gross - 0.0%\n"
     ]
    }
   ],
   "source": [
    "pct_missing = np.mean(bommovie[\"foreign_gross\"].isnull())\n",
    "print('{} - {}%'.format(\"foreign_gross\", round(pct_missing*100)))\n",
    "pct_missing = np.mean(bommovie[\"domestic_gross\"].isnull())\n",
    "print('{} - {}%'.format(\"domestic_gross\", round(pct_missing*100)))"
   ]
  },
  {
   "cell_type": "markdown",
   "metadata": {},
   "source": [
    "### Making a New Dataframe\n",
    "Then, we made another dataframe from the first 20 rows of the previous dataframe. Because we sorted the last dataframe by highest domestic gross, this new dataframe represents the top 20 highest grossing movies."
=======
   "execution_count": 50,
   "metadata": {},
   "outputs": [],
   "source": [
    "directors_df = final_df.groupby('directors').mean()"
>>>>>>> bf882aca1132534758e61afc9db54c6c372effe0
   ]
  },
  {
   "cell_type": "code",
<<<<<<< HEAD
   "execution_count": 9,
   "metadata": {},
   "outputs": [
    {
     "data": {
      "text/html": [
       "<div>\n",
       "<style scoped>\n",
       "    .dataframe tbody tr th:only-of-type {\n",
       "        vertical-align: middle;\n",
       "    }\n",
       "\n",
       "    .dataframe tbody tr th {\n",
       "        vertical-align: top;\n",
       "    }\n",
       "\n",
       "    .dataframe thead th {\n",
       "        text-align: right;\n",
       "    }\n",
       "</style>\n",
       "<table border=\"1\" class=\"dataframe\">\n",
       "  <thead>\n",
       "    <tr style=\"text-align: right;\">\n",
       "      <th></th>\n",
       "      <th>title</th>\n",
       "      <th>studio</th>\n",
       "      <th>domestic_gross</th>\n",
       "      <th>foreign_gross</th>\n",
       "      <th>year</th>\n",
       "    </tr>\n",
       "  </thead>\n",
       "  <tbody>\n",
       "    <tr>\n",
       "      <th>1872</th>\n",
       "      <td>Star Wars: The Force Awakens</td>\n",
       "      <td>BV</td>\n",
       "      <td>936700000.0</td>\n",
       "      <td>1,131.6</td>\n",
       "      <td>2015</td>\n",
       "    </tr>\n",
       "    <tr>\n",
       "      <th>3080</th>\n",
       "      <td>Black Panther</td>\n",
       "      <td>BV</td>\n",
       "      <td>700100000.0</td>\n",
       "      <td>646900000</td>\n",
       "      <td>2018</td>\n",
       "    </tr>\n",
       "    <tr>\n",
       "      <th>3079</th>\n",
       "      <td>Avengers: Infinity War</td>\n",
       "      <td>BV</td>\n",
       "      <td>678800000.0</td>\n",
       "      <td>1,369.5</td>\n",
       "      <td>2018</td>\n",
       "    </tr>\n",
       "    <tr>\n",
       "      <th>1873</th>\n",
       "      <td>Jurassic World</td>\n",
       "      <td>Uni.</td>\n",
       "      <td>652300000.0</td>\n",
       "      <td>1,019.4</td>\n",
       "      <td>2015</td>\n",
       "    </tr>\n",
       "    <tr>\n",
       "      <th>727</th>\n",
       "      <td>Marvel's The Avengers</td>\n",
       "      <td>BV</td>\n",
       "      <td>623400000.0</td>\n",
       "      <td>895500000</td>\n",
       "      <td>2012</td>\n",
       "    </tr>\n",
       "    <tr>\n",
       "      <th>2758</th>\n",
       "      <td>Star Wars: The Last Jedi</td>\n",
       "      <td>BV</td>\n",
       "      <td>620200000.0</td>\n",
       "      <td>712400000</td>\n",
       "      <td>2017</td>\n",
       "    </tr>\n",
       "    <tr>\n",
       "      <th>3082</th>\n",
       "      <td>Incredibles 2</td>\n",
       "      <td>BV</td>\n",
       "      <td>608600000.0</td>\n",
       "      <td>634200000</td>\n",
       "      <td>2018</td>\n",
       "    </tr>\n",
       "    <tr>\n",
       "      <th>2323</th>\n",
       "      <td>Rogue One: A Star Wars Story</td>\n",
       "      <td>BV</td>\n",
       "      <td>532200000.0</td>\n",
       "      <td>523900000</td>\n",
       "      <td>2016</td>\n",
       "    </tr>\n",
       "    <tr>\n",
       "      <th>2759</th>\n",
       "      <td>Beauty and the Beast (2017)</td>\n",
       "      <td>BV</td>\n",
       "      <td>504000000.0</td>\n",
       "      <td>759500000</td>\n",
       "      <td>2017</td>\n",
       "    </tr>\n",
       "    <tr>\n",
       "      <th>2324</th>\n",
       "      <td>Finding Dory</td>\n",
       "      <td>BV</td>\n",
       "      <td>486300000.0</td>\n",
       "      <td>542300000</td>\n",
       "      <td>2016</td>\n",
       "    </tr>\n",
       "    <tr>\n",
       "      <th>1875</th>\n",
       "      <td>Avengers: Age of Ultron</td>\n",
       "      <td>BV</td>\n",
       "      <td>459000000.0</td>\n",
       "      <td>946400000</td>\n",
       "      <td>2015</td>\n",
       "    </tr>\n",
       "    <tr>\n",
       "      <th>729</th>\n",
       "      <td>The Dark Knight Rises</td>\n",
       "      <td>WB</td>\n",
       "      <td>448100000.0</td>\n",
       "      <td>636800000</td>\n",
       "      <td>2012</td>\n",
       "    </tr>\n",
       "    <tr>\n",
       "      <th>1131</th>\n",
       "      <td>The Hunger Games: Catching Fire</td>\n",
       "      <td>LGF</td>\n",
       "      <td>424700000.0</td>\n",
       "      <td>440300000</td>\n",
       "      <td>2013</td>\n",
       "    </tr>\n",
       "    <tr>\n",
       "      <th>3081</th>\n",
       "      <td>Jurassic World: Fallen Kingdom</td>\n",
       "      <td>Uni.</td>\n",
       "      <td>417700000.0</td>\n",
       "      <td>891800000</td>\n",
       "      <td>2018</td>\n",
       "    </tr>\n",
       "    <tr>\n",
       "      <th>0</th>\n",
       "      <td>Toy Story 3</td>\n",
       "      <td>BV</td>\n",
       "      <td>415000000.0</td>\n",
       "      <td>652000000</td>\n",
       "      <td>2010</td>\n",
       "    </tr>\n",
       "    <tr>\n",
       "      <th>2767</th>\n",
       "      <td>Wonder Woman</td>\n",
       "      <td>WB</td>\n",
       "      <td>412600000.0</td>\n",
       "      <td>409300000</td>\n",
       "      <td>2017</td>\n",
       "    </tr>\n",
       "    <tr>\n",
       "      <th>1128</th>\n",
       "      <td>Iron Man 3</td>\n",
       "      <td>BV</td>\n",
       "      <td>409000000.0</td>\n",
       "      <td>805800000</td>\n",
       "      <td>2013</td>\n",
       "    </tr>\n",
       "    <tr>\n",
       "      <th>2322</th>\n",
       "      <td>Captain America: Civil War</td>\n",
       "      <td>BV</td>\n",
       "      <td>408100000.0</td>\n",
       "      <td>745200000</td>\n",
       "      <td>2016</td>\n",
       "    </tr>\n",
       "    <tr>\n",
       "      <th>735</th>\n",
       "      <td>The Hunger Games</td>\n",
       "      <td>LGF</td>\n",
       "      <td>408000000.0</td>\n",
       "      <td>286400000</td>\n",
       "      <td>2012</td>\n",
       "    </tr>\n",
       "    <tr>\n",
       "      <th>2762</th>\n",
       "      <td>Jumanji: Welcome to the Jungle</td>\n",
       "      <td>Sony</td>\n",
       "      <td>404500000.0</td>\n",
       "      <td>557600000</td>\n",
       "      <td>2017</td>\n",
       "    </tr>\n",
       "  </tbody>\n",
       "</table>\n",
       "</div>"
      ],
      "text/plain": [
       "                                title studio  domestic_gross foreign_gross  \\\n",
       "1872     Star Wars: The Force Awakens     BV     936700000.0       1,131.6   \n",
       "3080                    Black Panther     BV     700100000.0     646900000   \n",
       "3079           Avengers: Infinity War     BV     678800000.0       1,369.5   \n",
       "1873                   Jurassic World   Uni.     652300000.0       1,019.4   \n",
       "727             Marvel's The Avengers     BV     623400000.0     895500000   \n",
       "2758         Star Wars: The Last Jedi     BV     620200000.0     712400000   \n",
       "3082                    Incredibles 2     BV     608600000.0     634200000   \n",
       "2323     Rogue One: A Star Wars Story     BV     532200000.0     523900000   \n",
       "2759      Beauty and the Beast (2017)     BV     504000000.0     759500000   \n",
       "2324                     Finding Dory     BV     486300000.0     542300000   \n",
       "1875          Avengers: Age of Ultron     BV     459000000.0     946400000   \n",
       "729             The Dark Knight Rises     WB     448100000.0     636800000   \n",
       "1131  The Hunger Games: Catching Fire    LGF     424700000.0     440300000   \n",
       "3081   Jurassic World: Fallen Kingdom   Uni.     417700000.0     891800000   \n",
       "0                         Toy Story 3     BV     415000000.0     652000000   \n",
       "2767                     Wonder Woman     WB     412600000.0     409300000   \n",
       "1128                       Iron Man 3     BV     409000000.0     805800000   \n",
       "2322       Captain America: Civil War     BV     408100000.0     745200000   \n",
       "735                  The Hunger Games    LGF     408000000.0     286400000   \n",
       "2762   Jumanji: Welcome to the Jungle   Sony     404500000.0     557600000   \n",
       "\n",
       "      year  \n",
       "1872  2015  \n",
       "3080  2018  \n",
       "3079  2018  \n",
       "1873  2015  \n",
       "727   2012  \n",
       "2758  2017  \n",
       "3082  2018  \n",
       "2323  2016  \n",
       "2759  2017  \n",
       "2324  2016  \n",
       "1875  2015  \n",
       "729   2012  \n",
       "1131  2013  \n",
       "3081  2018  \n",
       "0     2010  \n",
       "2767  2017  \n",
       "1128  2013  \n",
       "2322  2016  \n",
       "735   2012  \n",
       "2762  2017  "
      ]
     },
     "execution_count": 9,
     "metadata": {},
     "output_type": "execute_result"
    }
   ],
   "source": [
    "top20 = bommovie.head(20)\n",
    "top20"
   ]
  },
  {
   "cell_type": "markdown",
   "metadata": {},
   "source": [
    "We then determined which studio made the most movies in our top 20."
   ]
  },
  {
   "cell_type": "code",
   "execution_count": 10,
   "metadata": {},
   "outputs": [
    {
     "data": {
      "text/plain": [
       "BV      65.0\n",
       "Uni.    10.0\n",
       "LGF     10.0\n",
       "WB      10.0\n",
       "Sony     5.0\n",
       "Name: studio, dtype: float64"
      ]
     },
     "execution_count": 10,
     "metadata": {},
     "output_type": "execute_result"
    }
   ],
   "source": [
    "top20['studio'].value_counts(normalize=True) * 100"
   ]
  },
  {
   "cell_type": "markdown",
   "metadata": {},
   "source": [
    "We learned BV is the studio responsible for 65% of the top 20 highest grossing movies."
   ]
  },
  {
   "cell_type": "markdown",
   "metadata": {},
   "source": [
    "### Making a Visualization\n",
    "Once we discovered  Buena Vista (abbreviated \"BV\") is the movie studio that makes the majority of highest grossing movies, we made a bar chart to communicate this valuable information.\n",
    "\n",
    "First, we created a color palette so each studio would be represented by a certain color."
   ]
  },
  {
   "cell_type": "code",
   "execution_count": 11,
   "metadata": {},
   "outputs": [],
   "source": [
    "custom_palette = []\n",
    "labels = [ ]\n",
    "for x in top20[\"studio\"]:\n",
    "    labels.append(x)\n",
    "    if x == \"BV\":\n",
    "        custom_palette.append('lightskyblue')\n",
    "    elif x==\"Uni.\":\n",
    "        custom_palette.append('mediumblue')\n",
    "    elif x==\"WB\":\n",
    "        custom_palette.append('darkslateblue')\n",
    "    elif x==\"LGF\":\n",
    "        custom_palette.append('blueviolet')\n",
    "    else:\n",
    "        custom_palette.append('plum')"
=======
   "execution_count": 51,
   "metadata": {},
   "outputs": [],
   "source": [
    "directors_df = directors_df.sort_values('profit', ascending = False)"
>>>>>>> bf882aca1132534758e61afc9db54c6c372effe0
   ]
  },
  {
   "cell_type": "code",
<<<<<<< HEAD
   "execution_count": 12,
   "metadata": {},
   "outputs": [],
   "source": [
    "labels = set(labels)"
=======
   "execution_count": 52,
   "metadata": {},
   "outputs": [],
   "source": [
    "directors_df = directors_df.head(10)"
>>>>>>> bf882aca1132534758e61afc9db54c6c372effe0
   ]
  },
  {
   "cell_type": "markdown",
   "metadata": {},
   "source": [
<<<<<<< HEAD
    "Following this is the code to create our graph:"
=======
    "## My organized dataframe is below"
>>>>>>> bf882aca1132534758e61afc9db54c6c372effe0
   ]
  },
  {
   "cell_type": "code",
<<<<<<< HEAD
   "execution_count": 13,
=======
   "execution_count": 53,
>>>>>>> bf882aca1132534758e61afc9db54c6c372effe0
   "metadata": {},
   "outputs": [
    {
     "data": {
<<<<<<< HEAD
      "image/png": "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\n",
      "text/plain": [
       "<Figure size 1080x720 with 1 Axes>"
      ]
     },
     "metadata": {
      "needs_background": "light"
     },
=======
      "text/html": [
       "<div>\n",
       "<style scoped>\n",
       "    .dataframe tbody tr th:only-of-type {\n",
       "        vertical-align: middle;\n",
       "    }\n",
       "\n",
       "    .dataframe tbody tr th {\n",
       "        vertical-align: top;\n",
       "    }\n",
       "\n",
       "    .dataframe thead th {\n",
       "        text-align: right;\n",
       "    }\n",
       "</style>\n",
       "<table border=\"1\" class=\"dataframe\">\n",
       "  <thead>\n",
       "    <tr style=\"text-align: right;\">\n",
       "      <th></th>\n",
       "      <th>id</th>\n",
       "      <th>production_budget</th>\n",
       "      <th>worldwide_gross</th>\n",
       "      <th>profit</th>\n",
       "    </tr>\n",
       "    <tr>\n",
       "      <th>directors</th>\n",
       "      <th></th>\n",
       "      <th></th>\n",
       "      <th></th>\n",
       "      <th></th>\n",
       "    </tr>\n",
       "  </thead>\n",
       "  <tbody>\n",
       "    <tr>\n",
       "      <th>Jean Negulesco</th>\n",
       "      <td>43.0</td>\n",
       "      <td>200000000.0</td>\n",
       "      <td>2.208208e+09</td>\n",
       "      <td>2.008208e+09</td>\n",
       "    </tr>\n",
       "    <tr>\n",
       "      <th>Colin Trevorrow</th>\n",
       "      <td>34.0</td>\n",
       "      <td>215000000.0</td>\n",
       "      <td>1.648855e+09</td>\n",
       "      <td>1.433855e+09</td>\n",
       "    </tr>\n",
       "    <tr>\n",
       "      <th>Anthony Russo</th>\n",
       "      <td>12.0</td>\n",
       "      <td>275000000.0</td>\n",
       "      <td>1.594102e+09</td>\n",
       "      <td>1.319102e+09</td>\n",
       "    </tr>\n",
       "    <tr>\n",
       "      <th>Ryan Coogler</th>\n",
       "      <td>42.0</td>\n",
       "      <td>200000000.0</td>\n",
       "      <td>1.348258e+09</td>\n",
       "      <td>1.148258e+09</td>\n",
       "    </tr>\n",
       "    <tr>\n",
       "      <th>Chris Buck, Jennifer Lee</th>\n",
       "      <td>56.0</td>\n",
       "      <td>150000000.0</td>\n",
       "      <td>1.272470e+09</td>\n",
       "      <td>1.122470e+09</td>\n",
       "    </tr>\n",
       "    <tr>\n",
       "      <th>Brad Bird</th>\n",
       "      <td>44.0</td>\n",
       "      <td>200000000.0</td>\n",
       "      <td>1.242521e+09</td>\n",
       "      <td>1.042521e+09</td>\n",
       "    </tr>\n",
       "    <tr>\n",
       "      <th>Anna Boden, Ryan Fleck</th>\n",
       "      <td>96.0</td>\n",
       "      <td>175000000.0</td>\n",
       "      <td>1.123062e+09</td>\n",
       "      <td>9.480616e+08</td>\n",
       "    </tr>\n",
       "    <tr>\n",
       "      <th>Roger Allers, Rob Minkoff</th>\n",
       "      <td>9.0</td>\n",
       "      <td>79300000.0</td>\n",
       "      <td>9.862149e+08</td>\n",
       "      <td>9.069149e+08</td>\n",
       "    </tr>\n",
       "    <tr>\n",
       "      <th>Jake Kasdan</th>\n",
       "      <td>38.0</td>\n",
       "      <td>90000000.0</td>\n",
       "      <td>9.644962e+08</td>\n",
       "      <td>8.744962e+08</td>\n",
       "    </tr>\n",
       "    <tr>\n",
       "      <th>Byron Howard, Rich Moore, Jared Bush</th>\n",
       "      <td>57.0</td>\n",
       "      <td>150000000.0</td>\n",
       "      <td>1.019430e+09</td>\n",
       "      <td>8.694296e+08</td>\n",
       "    </tr>\n",
       "  </tbody>\n",
       "</table>\n",
       "</div>"
      ],
      "text/plain": [
       "                                        id  production_budget  \\\n",
       "directors                                                       \n",
       "Jean Negulesco                        43.0        200000000.0   \n",
       "Colin Trevorrow                       34.0        215000000.0   \n",
       "Anthony Russo                         12.0        275000000.0   \n",
       "Ryan Coogler                          42.0        200000000.0   \n",
       "Chris Buck, Jennifer Lee              56.0        150000000.0   \n",
       "Brad Bird                             44.0        200000000.0   \n",
       "Anna Boden, Ryan Fleck                96.0        175000000.0   \n",
       "Roger Allers, Rob Minkoff              9.0         79300000.0   \n",
       "Jake Kasdan                           38.0         90000000.0   \n",
       "Byron Howard, Rich Moore, Jared Bush  57.0        150000000.0   \n",
       "\n",
       "                                      worldwide_gross        profit  \n",
       "directors                                                            \n",
       "Jean Negulesco                           2.208208e+09  2.008208e+09  \n",
       "Colin Trevorrow                          1.648855e+09  1.433855e+09  \n",
       "Anthony Russo                            1.594102e+09  1.319102e+09  \n",
       "Ryan Coogler                             1.348258e+09  1.148258e+09  \n",
       "Chris Buck, Jennifer Lee                 1.272470e+09  1.122470e+09  \n",
       "Brad Bird                                1.242521e+09  1.042521e+09  \n",
       "Anna Boden, Ryan Fleck                   1.123062e+09  9.480616e+08  \n",
       "Roger Allers, Rob Minkoff                9.862149e+08  9.069149e+08  \n",
       "Jake Kasdan                              9.644962e+08  8.744962e+08  \n",
       "Byron Howard, Rich Moore, Jared Bush     1.019430e+09  8.694296e+08  "
      ]
     },
     "execution_count": 53,
     "metadata": {},
     "output_type": "execute_result"
    }
   ],
   "source": [
    "directors_df"
   ]
  },
  {
   "cell_type": "markdown",
   "metadata": {},
   "source": [
    "## My bar graph is below"
   ]
  },
  {
   "cell_type": "code",
   "execution_count": 54,
   "metadata": {},
   "outputs": [
    {
     "data": {
      "image/png": "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\n",
      "text/plain": [
       "<Figure size 432x288 with 1 Axes>"
      ]
     },
     "metadata": {},
>>>>>>> bf882aca1132534758e61afc9db54c6c372effe0
     "output_type": "display_data"
    }
   ],
   "source": [
<<<<<<< HEAD
    "x = top20[\"title\"]\n",
    "y = top20[\"domestic_gross\"]\n",
    "\n",
    "plt.figure(figsize=(15, 10))\n",
    "sns.set_style('white')\n",
    "sns.set_palette(\"bright\")\n",
    "bar = sns.barplot(x = x,\n",
    "            y = y,\n",
    "            palette=custom_palette)\n",
    "custom_lines = [Line2D([0], [0], color=\"lightskyblue\", lw=4),\n",
    "                Line2D([0], [0], color=\"mediumblue\", lw=4),\n",
    "                Line2D([0], [0], color=\"darkslateblue\", lw=4),\n",
    "                Line2D([0], [0], color=\"blueviolet\", lw=4),\n",
    "                Line2D([0], [0], color=\"plum\", lw=4)]\n",
    "plt.legend(custom_lines, ['BV', 'Uni.', 'WB', \"LGF\", \"Sony\"], fontsize=\"xx-large\") ###\n",
    "\n",
    "plt.ylabel(\"Domestic Gross in Millions\", size=25)\n",
    "plt.xlabel(\"Movie\", size=25)\n",
    "bar.tick_params(axis='y', labelsize=20)\n",
    "plt.xticks(rotation = 90, size = 20)\n",
    "plt.title(\"Top 20 Grossing Movies by Studio\", size=30)\n",
    "\n",
    "plt.savefig(\"top20_barplot_Seaborn_barplot_Python.png\")\n",
    "\n",
    "plt.show();"
=======
    "bar4 = plt.barh(directors_df.index, directors_df['profit'])\n",
    "plt.title('Adventure Movie Directors with Most Profitable Movies on Average')\n",
    "plt.xlabel('Profit (hundred million)')\n",
    "plt.ylabel('Directors')\n",
    "plt.savefig(\"images/Directors_and_Profit_for_Adventure_Movies\", bbox_inches='tight')"
   ]
  },
  {
   "cell_type": "markdown",
   "metadata": {},
   "source": [
    "### Microsoft's best choice of Director is Jean Negulesco based off his involvement in the production of the most Profitable Adventure movies."
>>>>>>> bf882aca1132534758e61afc9db54c6c372effe0
   ]
  },
  {
   "cell_type": "markdown",
   "metadata": {},
   "source": [
<<<<<<< HEAD
    "Now we have a strong reccomendation we can make to Microsoft: "
=======
    "# Conclusion"
>>>>>>> bf882aca1132534758e61afc9db54c6c372effe0
   ]
  },
  {
   "cell_type": "markdown",
   "metadata": {},
   "source": [
<<<<<<< HEAD
    "Their best bet for making the highest possible domestic gross is using Buena Vistas studios or modeling their own studio off of Buena Vistas studios."
=======
    "## We suggest using Buena Vistas studios or modeling Microsoft's studio after BV practices. Addtionally, Microsoft should create an Adventure movie with an NR rating, with a run time between 100 minutes and 131 minutes. We also recommend hiring Jean Negulsesco as the director and to not worry about release month. This should create the most profitable movie.\n"
>>>>>>> bf882aca1132534758e61afc9db54c6c372effe0
   ]
  }
 ],
 "metadata": {
  "kernelspec": {
   "display_name": "learn-env",
   "language": "python",
   "name": "learn-env"
  },
  "language_info": {
   "codemirror_mode": {
    "name": "ipython",
    "version": 3
   },
   "file_extension": ".py",
   "mimetype": "text/x-python",
   "name": "python",
   "nbconvert_exporter": "python",
   "pygments_lexer": "ipython3",
   "version": "3.8.5"
  }
 },
 "nbformat": 4,
 "nbformat_minor": 4
}
