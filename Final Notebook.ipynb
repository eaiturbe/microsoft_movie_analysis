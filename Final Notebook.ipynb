{
 "cells": [
  {
   "cell_type": "markdown",
   "metadata": {},
   "source": [
    "# Overview"
   ]
  },
  {
   "cell_type": "markdown",
   "metadata": {},
   "source": [
    "### This project aims to discover how to make the most profitable movie possible in order to make business recommendations to Microsoft. Descriptive analyses of a variety of data on previously released movies reveal that the most profitable movie Microsoft could make is an adventure movie with an NR rating, directed by Jean Negulsesco, with a runtime between 100 minutes and 131 minutes, at Buena Vistas studios."
   ]
  },
  {
   "cell_type": "markdown",
   "metadata": {},
   "source": [
    "# Business Problem"
   ]
  },
  {
   "cell_type": "markdown",
   "metadata": {},
   "source": [
    "### Microsoft wants to open a movie studio that can compete with other successful movie studios. However, they lack knowledge about filmmaking. To help them in this area, we will find out how a variety of factors affect the popularity of movies and offer recommendations."
   ]
  },
  {
   "cell_type": "markdown",
   "metadata": {},
   "source": [
    "# Data"
   ]
  },
  {
   "cell_type": "markdown",
   "metadata": {},
   "source": [
    "### We examined data on gross, genre, studio, director, release date, MPR rating, Rotten Tomatoes score, and run time. Variables like gross and Rotten Tomatoes score served as measures of the success of movies. The relationship between the rest of the variables and those two measures of success demonstrate what factors can be relied upon to make a profitable movie."
   ]
  },
  {
   "cell_type": "markdown",
   "metadata": {},
   "source": [
    "# Methods"
   ]
  },
  {
   "cell_type": "markdown",
   "metadata": {},
   "source": [
    "### Our process started with organizing our data by dropping irrelevant columns, creating new ones, sorting by specific values, and merging dataframes. While modeling our data, we used descriptive statistics to create helpful visuals that displayed our findings. Overall, our descriptive analysis is absolutely essential for anyone looking to succeed in the movie industry."
   ]
  },
  {
   "cell_type": "markdown",
   "metadata": {},
   "source": [
    "## Importing libraries\n",
    "\n"
   ]
  },
  {
   "cell_type": "markdown",
   "metadata": {},
   "source": [
    "We imported the Pandas, Numpy, Seaborn, and Matplotlib libraries so we could use them to manipulate the dataset and create visualizations for it."
   ]
  },
  {
   "cell_type": "code",
   "execution_count": 1,
   "metadata": {},
   "outputs": [],
   "source": [
    "import pandas as pd\n",
    "import numpy as np\n",
    "import matplotlib.pyplot as plt\n",
    "%matplotlib inline\n",
    "import seaborn as sns\n",
    "from matplotlib.lines import Line2D"
   ]
  },
  {
   "cell_type": "markdown",
   "metadata": {},
   "source": [
    "## Importing tn.movie_budgets.csv.gz and imdb.title.basics.csv.gz CSV Files and merging the files"
   ]
  },
  {
   "cell_type": "code",
   "execution_count": 2,
   "metadata": {},
   "outputs": [
    {
     "data": {
      "text/html": [
       "<div>\n",
       "<style scoped>\n",
       "    .dataframe tbody tr th:only-of-type {\n",
       "        vertical-align: middle;\n",
       "    }\n",
       "\n",
       "    .dataframe tbody tr th {\n",
       "        vertical-align: top;\n",
       "    }\n",
       "\n",
       "    .dataframe thead th {\n",
       "        text-align: right;\n",
       "    }\n",
       "</style>\n",
       "<table border=\"1\" class=\"dataframe\">\n",
       "  <thead>\n",
       "    <tr style=\"text-align: right;\">\n",
       "      <th></th>\n",
       "      <th>id</th>\n",
       "      <th>release_date</th>\n",
       "      <th>movie</th>\n",
       "      <th>production_budget</th>\n",
       "      <th>domestic_gross</th>\n",
       "      <th>worldwide_gross</th>\n",
       "      <th>tconst</th>\n",
       "      <th>primary_title</th>\n",
       "      <th>original_title</th>\n",
       "      <th>start_year</th>\n",
       "      <th>runtime_minutes</th>\n",
       "      <th>genres</th>\n",
       "    </tr>\n",
       "  </thead>\n",
       "  <tbody>\n",
       "    <tr>\n",
       "      <th>0</th>\n",
       "      <td>1</td>\n",
       "      <td>Dec 18, 2009</td>\n",
       "      <td>Avatar</td>\n",
       "      <td>$425,000,000</td>\n",
       "      <td>$760,507,625</td>\n",
       "      <td>$2,776,345,279</td>\n",
       "      <td>tt1775309</td>\n",
       "      <td>Avatar</td>\n",
       "      <td>Abatâ</td>\n",
       "      <td>2011</td>\n",
       "      <td>93.0</td>\n",
       "      <td>Horror</td>\n",
       "    </tr>\n",
       "    <tr>\n",
       "      <th>1</th>\n",
       "      <td>2</td>\n",
       "      <td>May 20, 2011</td>\n",
       "      <td>Pirates of the Caribbean: On Stranger Tides</td>\n",
       "      <td>$410,600,000</td>\n",
       "      <td>$241,063,875</td>\n",
       "      <td>$1,045,663,875</td>\n",
       "      <td>tt1298650</td>\n",
       "      <td>Pirates of the Caribbean: On Stranger Tides</td>\n",
       "      <td>Pirates of the Caribbean: On Stranger Tides</td>\n",
       "      <td>2011</td>\n",
       "      <td>136.0</td>\n",
       "      <td>Action,Adventure,Fantasy</td>\n",
       "    </tr>\n",
       "    <tr>\n",
       "      <th>2</th>\n",
       "      <td>3</td>\n",
       "      <td>Jun 7, 2019</td>\n",
       "      <td>Dark Phoenix</td>\n",
       "      <td>$350,000,000</td>\n",
       "      <td>$42,762,350</td>\n",
       "      <td>$149,762,350</td>\n",
       "      <td>tt6565702</td>\n",
       "      <td>Dark Phoenix</td>\n",
       "      <td>Dark Phoenix</td>\n",
       "      <td>2019</td>\n",
       "      <td>113.0</td>\n",
       "      <td>Action,Adventure,Sci-Fi</td>\n",
       "    </tr>\n",
       "    <tr>\n",
       "      <th>3</th>\n",
       "      <td>4</td>\n",
       "      <td>May 1, 2015</td>\n",
       "      <td>Avengers: Age of Ultron</td>\n",
       "      <td>$330,600,000</td>\n",
       "      <td>$459,005,868</td>\n",
       "      <td>$1,403,013,963</td>\n",
       "      <td>tt2395427</td>\n",
       "      <td>Avengers: Age of Ultron</td>\n",
       "      <td>Avengers: Age of Ultron</td>\n",
       "      <td>2015</td>\n",
       "      <td>141.0</td>\n",
       "      <td>Action,Adventure,Sci-Fi</td>\n",
       "    </tr>\n",
       "    <tr>\n",
       "      <th>4</th>\n",
       "      <td>7</td>\n",
       "      <td>Apr 27, 2018</td>\n",
       "      <td>Avengers: Infinity War</td>\n",
       "      <td>$300,000,000</td>\n",
       "      <td>$678,815,482</td>\n",
       "      <td>$2,048,134,200</td>\n",
       "      <td>tt4154756</td>\n",
       "      <td>Avengers: Infinity War</td>\n",
       "      <td>Avengers: Infinity War</td>\n",
       "      <td>2018</td>\n",
       "      <td>149.0</td>\n",
       "      <td>Action,Adventure,Sci-Fi</td>\n",
       "    </tr>\n",
       "  </tbody>\n",
       "</table>\n",
       "</div>"
      ],
      "text/plain": [
       "   id  release_date                                        movie  \\\n",
       "0   1  Dec 18, 2009                                       Avatar   \n",
       "1   2  May 20, 2011  Pirates of the Caribbean: On Stranger Tides   \n",
       "2   3   Jun 7, 2019                                 Dark Phoenix   \n",
       "3   4   May 1, 2015                      Avengers: Age of Ultron   \n",
       "4   7  Apr 27, 2018                       Avengers: Infinity War   \n",
       "\n",
       "  production_budget domestic_gross worldwide_gross     tconst  \\\n",
       "0      $425,000,000   $760,507,625  $2,776,345,279  tt1775309   \n",
       "1      $410,600,000   $241,063,875  $1,045,663,875  tt1298650   \n",
       "2      $350,000,000    $42,762,350    $149,762,350  tt6565702   \n",
       "3      $330,600,000   $459,005,868  $1,403,013,963  tt2395427   \n",
       "4      $300,000,000   $678,815,482  $2,048,134,200  tt4154756   \n",
       "\n",
       "                                 primary_title  \\\n",
       "0                                       Avatar   \n",
       "1  Pirates of the Caribbean: On Stranger Tides   \n",
       "2                                 Dark Phoenix   \n",
       "3                      Avengers: Age of Ultron   \n",
       "4                       Avengers: Infinity War   \n",
       "\n",
       "                                original_title  start_year  runtime_minutes  \\\n",
       "0                                        Abatâ        2011             93.0   \n",
       "1  Pirates of the Caribbean: On Stranger Tides        2011            136.0   \n",
       "2                                 Dark Phoenix        2019            113.0   \n",
       "3                      Avengers: Age of Ultron        2015            141.0   \n",
       "4                       Avengers: Infinity War        2018            149.0   \n",
       "\n",
       "                     genres  \n",
       "0                    Horror  \n",
       "1  Action,Adventure,Fantasy  \n",
       "2   Action,Adventure,Sci-Fi  \n",
       "3   Action,Adventure,Sci-Fi  \n",
       "4   Action,Adventure,Sci-Fi  "
      ]
     },
     "execution_count": 2,
     "metadata": {},
     "output_type": "execute_result"
    }
   ],
   "source": [
    "df = pd.read_csv('data/zippedData/tn.movie_budgets.csv.gz')\n",
    "df_2 = pd.read_csv('data/zippedData/imdb.title.basics.csv.gz')\n",
    "df_meg = pd.merge(df, df_2, how='inner', left_on='movie', right_on='primary_title')\n",
    "df_meg.head()"
   ]
  },
  {
   "cell_type": "markdown",
   "metadata": {},
   "source": [
    "## Checking to see how much of the Column is missing based off Percentage "
   ]
  },
  {
   "cell_type": "code",
   "execution_count": 3,
   "metadata": {},
   "outputs": [
    {
     "name": "stdout",
     "output_type": "stream",
     "text": [
      "id - 0.0%\n",
      "release_date - 0.0%\n",
      "movie - 0.0%\n",
      "production_budget - 0.0%\n",
      "domestic_gross - 0.0%\n",
      "worldwide_gross - 0.0%\n",
      "tconst - 0.0%\n",
      "primary_title - 0.0%\n",
      "original_title - 0.0%\n",
      "start_year - 0.0%\n",
      "runtime_minutes - 13.0%\n",
      "genres - 2.0%\n"
     ]
    }
   ],
   "source": [
    "for col in df_meg.columns:\n",
    "    pct_missing = np.mean(df_meg[col].isnull())\n",
    "    print('{} - {}%'.format(col, round(pct_missing*100)))"
   ]
  },
  {
   "cell_type": "markdown",
   "metadata": {},
   "source": [
    "## Dropping as well as Splitting and Replacing Columns to make it a cleaner data frame"
   ]
  },
  {
   "cell_type": "code",
   "execution_count": 4,
   "metadata": {},
   "outputs": [
    {
     "data": {
      "text/html": [
       "<div>\n",
       "<style scoped>\n",
       "    .dataframe tbody tr th:only-of-type {\n",
       "        vertical-align: middle;\n",
       "    }\n",
       "\n",
       "    .dataframe tbody tr th {\n",
       "        vertical-align: top;\n",
       "    }\n",
       "\n",
       "    .dataframe thead th {\n",
       "        text-align: right;\n",
       "    }\n",
       "</style>\n",
       "<table border=\"1\" class=\"dataframe\">\n",
       "  <thead>\n",
       "    <tr style=\"text-align: right;\">\n",
       "      <th></th>\n",
       "      <th>movie</th>\n",
       "      <th>domestic_gross</th>\n",
       "      <th>worldwide_gross</th>\n",
       "      <th>genres</th>\n",
       "    </tr>\n",
       "  </thead>\n",
       "  <tbody>\n",
       "    <tr>\n",
       "      <th>0</th>\n",
       "      <td>Avatar</td>\n",
       "      <td>760507625</td>\n",
       "      <td>2776345279</td>\n",
       "      <td>[Horror]</td>\n",
       "    </tr>\n",
       "    <tr>\n",
       "      <th>1</th>\n",
       "      <td>Pirates of the Caribbean: On Stranger Tides</td>\n",
       "      <td>241063875</td>\n",
       "      <td>1045663875</td>\n",
       "      <td>[Action, Adventure, Fantasy]</td>\n",
       "    </tr>\n",
       "    <tr>\n",
       "      <th>2</th>\n",
       "      <td>Dark Phoenix</td>\n",
       "      <td>42762350</td>\n",
       "      <td>149762350</td>\n",
       "      <td>[Action, Adventure, Sci-Fi]</td>\n",
       "    </tr>\n",
       "    <tr>\n",
       "      <th>3</th>\n",
       "      <td>Avengers: Age of Ultron</td>\n",
       "      <td>459005868</td>\n",
       "      <td>1403013963</td>\n",
       "      <td>[Action, Adventure, Sci-Fi]</td>\n",
       "    </tr>\n",
       "    <tr>\n",
       "      <th>4</th>\n",
       "      <td>Avengers: Infinity War</td>\n",
       "      <td>620181382</td>\n",
       "      <td>1316721747</td>\n",
       "      <td>[Action, Adventure, Sci-Fi]</td>\n",
       "    </tr>\n",
       "  </tbody>\n",
       "</table>\n",
       "</div>"
      ],
      "text/plain": [
       "                                         movie  domestic_gross  \\\n",
       "0                                       Avatar       760507625   \n",
       "1  Pirates of the Caribbean: On Stranger Tides       241063875   \n",
       "2                                 Dark Phoenix        42762350   \n",
       "3                      Avengers: Age of Ultron       459005868   \n",
       "4                       Avengers: Infinity War       620181382   \n",
       "\n",
       "   worldwide_gross                        genres  \n",
       "0       2776345279                      [Horror]  \n",
       "1       1045663875  [Action, Adventure, Fantasy]  \n",
       "2        149762350   [Action, Adventure, Sci-Fi]  \n",
       "3       1403013963   [Action, Adventure, Sci-Fi]  \n",
       "4       1316721747   [Action, Adventure, Sci-Fi]  "
      ]
     },
     "execution_count": 4,
     "metadata": {},
     "output_type": "execute_result"
    }
   ],
   "source": [
    "cols_to_drop = ['runtime_minutes','start_year','original_title','id' ,'production_budget', 'release_date','tconst','primary_title']\n",
    "df_mod_2 = df_meg.drop(cols_to_drop, axis=1)\n",
    "df_mod_2[\"genres\"] = df_mod_2[\"genres\"].apply(lambda x: x.split(\",\") if type(x) == str else x)\n",
    "df_mod_2[\"domestic_gross\"] = df[\"domestic_gross\"].str.replace(\",\",\"\").str.replace(\"$\",\"\").astype(int)\n",
    "df_mod_2[\"worldwide_gross\"] = df[\"worldwide_gross\"].str.replace(\",\",\"\").str.replace(\"$\",\"\").astype(int)\n",
    "df_mod_2.head()"
   ]
  },
  {
   "cell_type": "markdown",
   "metadata": {},
   "source": [
    "## Exploding the Genres Column as well as changing the Zeros to Nan then Dropping Nan's"
   ]
  },
  {
   "cell_type": "code",
   "execution_count": 5,
   "metadata": {},
   "outputs": [
    {
     "name": "stdout",
     "output_type": "stream",
     "text": [
      "id                   0\n",
      "release_date         0\n",
      "movie                0\n",
      "production_budget    0\n",
      "domestic_gross       0\n",
      "worldwide_gross      0\n",
      "dtype: int64\n"
     ]
    }
   ],
   "source": [
    "df_explode = df_mod_2.explode('genres')\n",
    "df_explode.replace(0, np.nan, inplace=True)\n",
    "df_explode[df_explode.isna().any(axis=1)]\n",
    "df_explode = df_explode.dropna()\n",
    "print(df.isnull().sum())"
   ]
  },
  {
   "cell_type": "markdown",
   "metadata": {},
   "source": [
    "## Grouping by Genres means and sorting it by worldwide_gross as well as setting index to Movies in order to render an effective branch."
   ]
  },
  {
   "cell_type": "code",
   "execution_count": 6,
   "metadata": {},
   "outputs": [],
   "source": [
    "df_explode.groupby('genres').mean()\n",
    "df_explode= df_explode.sort_values(\"worldwide_gross\", ascending=False).set_index('movie')\n",
    "df_top_50 = df_explode"
   ]
  },
  {
   "cell_type": "markdown",
   "metadata": {},
   "source": [
    "## Plotting the data in a Bar Plot"
   ]
  },
  {
   "cell_type": "code",
   "execution_count": 7,
   "metadata": {},
   "outputs": [
    {
     "data": {
      "image/png": "[encoded data removed]",
      "text/plain": [
       "<Figure size 720x576 with 1 Axes>"
      ]
     },
     "metadata": {
      "needs_background": "light"
     },
     "output_type": "display_data"
    }
   ],
   "source": [
    "plt.figure(figsize=(10, 8))\n",
    "sns.barplot(x='genres', \n",
    "            y='worldwide_gross',\n",
    "            order=[\"Adventure\",\"Animation\",\"Fantasy\",\"Musical\",'Sci-Fi','Action', 'Family',\"Western\",\"History\",'Documentary', 'Sport',\"Comedy\",'Thriller',\"Reality-TV\",'News','Biography','Drama', 'War','Crime','Mystery', 'Romance','Horror',\"Music\"],\n",
    "            data=df_top_50,)\n",
    "plt.ylabel(\"Worldwide Gross in Hundreds of Millions\", size=14)\n",
    "plt.xlabel(\"Genres\", size=14)\n",
    "plt.title(\" Movies Worldwide Gross per Genre\", size=18)\n",
    "plt.tick_params(axis='x', labelrotation=90)\n",
    "plt.savefig(\"images/grouped_barplot_Seaborn_barplot_Python_corrected.png\")"
   ]
  },
  {
   "cell_type": "markdown",
   "metadata": {},
   "source": [
    "### This renders the data of what genre of movie Microsoft should make based off the highest Worldwide Gross"
   ]
  },
  {
   "cell_type": "markdown",
   "metadata": {},
   "source": [
    "## Work on tmdb_movies_data.csv.zip CSV"
   ]
  },
  {
   "cell_type": "markdown",
   "metadata": {},
   "source": [
    "## Importing CSV and Dropping Columns"
   ]
  },
  {
   "cell_type": "code",
   "execution_count": 8,
   "metadata": {},
   "outputs": [
    {
     "data": {
      "text/html": [
       "<div>\n",
       "<style scoped>\n",
       "    .dataframe tbody tr th:only-of-type {\n",
       "        vertical-align: middle;\n",
       "    }\n",
       "\n",
       "    .dataframe tbody tr th {\n",
       "        vertical-align: top;\n",
       "    }\n",
       "\n",
       "    .dataframe thead th {\n",
       "        text-align: right;\n",
       "    }\n",
       "</style>\n",
       "<table border=\"1\" class=\"dataframe\">\n",
       "  <thead>\n",
       "    <tr style=\"text-align: right;\">\n",
       "      <th></th>\n",
       "      <th>budget</th>\n",
       "      <th>revenue</th>\n",
       "      <th>original_title</th>\n",
       "      <th>runtime</th>\n",
       "    </tr>\n",
       "  </thead>\n",
       "  <tbody>\n",
       "    <tr>\n",
       "      <th>0</th>\n",
       "      <td>150000000</td>\n",
       "      <td>1513528810</td>\n",
       "      <td>Jurassic World</td>\n",
       "      <td>124</td>\n",
       "    </tr>\n",
       "    <tr>\n",
       "      <th>1</th>\n",
       "      <td>150000000</td>\n",
       "      <td>378436354</td>\n",
       "      <td>Mad Max: Fury Road</td>\n",
       "      <td>120</td>\n",
       "    </tr>\n",
       "    <tr>\n",
       "      <th>2</th>\n",
       "      <td>110000000</td>\n",
       "      <td>295238201</td>\n",
       "      <td>Insurgent</td>\n",
       "      <td>119</td>\n",
       "    </tr>\n",
       "    <tr>\n",
       "      <th>3</th>\n",
       "      <td>200000000</td>\n",
       "      <td>2068178225</td>\n",
       "      <td>Star Wars: The Force Awakens</td>\n",
       "      <td>136</td>\n",
       "    </tr>\n",
       "    <tr>\n",
       "      <th>4</th>\n",
       "      <td>190000000</td>\n",
       "      <td>1506249360</td>\n",
       "      <td>Furious 7</td>\n",
       "      <td>137</td>\n",
       "    </tr>\n",
       "  </tbody>\n",
       "</table>\n",
       "</div>"
      ],
      "text/plain": [
       "      budget     revenue                original_title  runtime\n",
       "0  150000000  1513528810                Jurassic World      124\n",
       "1  150000000   378436354            Mad Max: Fury Road      120\n",
       "2  110000000   295238201                     Insurgent      119\n",
       "3  200000000  2068178225  Star Wars: The Force Awakens      136\n",
       "4  190000000  1506249360                     Furious 7      137"
      ]
     },
     "execution_count": 8,
     "metadata": {},
     "output_type": "execute_result"
    }
   ],
   "source": [
    "df3 = pd.read_csv('data/zippedData/tmdb_movies_data.csv.zip')\n",
    "cols_to_drop = ['id', 'imdb_id','cast', 'homepage', 'director','tagline', 'overview', 'production_companies','keywords' ,'vote_count','genres','release_date','release_year','vote_average','budget_adj','popularity','revenue_adj']\n",
    "df_mod = df3.drop(cols_to_drop, axis=1)\n",
    "df_mod.head()"
   ]
  },
  {
   "cell_type": "markdown",
   "metadata": {},
   "source": [
    "## Replacing zeros with nan and dropping the nan's in order to work more effectivly in the data set"
   ]
  },
  {
   "cell_type": "code",
   "execution_count": 9,
   "metadata": {},
   "outputs": [
    {
     "name": "stdout",
     "output_type": "stream",
     "text": [
      "budget            0\n",
      "revenue           0\n",
      "original_title    0\n",
      "runtime           0\n",
      "dtype: int64\n"
     ]
    }
   ],
   "source": [
    "df_mod.replace(0, np.nan, inplace=True)\n",
    "df_mod[df_mod.isna().any(axis=1)]\n",
    "df_mod = df_mod.dropna()\n",
    "print(df_mod.isnull().sum())"
   ]
  },
  {
   "cell_type": "markdown",
   "metadata": {},
   "source": [
    "## Sorting Values in ascending order for Revenue in order to render the highest moves with revenue"
   ]
  },
  {
   "cell_type": "code",
   "execution_count": 10,
   "metadata": {},
   "outputs": [
    {
     "data": {
      "text/html": [
       "<div>\n",
       "<style scoped>\n",
       "    .dataframe tbody tr th:only-of-type {\n",
       "        vertical-align: middle;\n",
       "    }\n",
       "\n",
       "    .dataframe tbody tr th {\n",
       "        vertical-align: top;\n",
       "    }\n",
       "\n",
       "    .dataframe thead th {\n",
       "        text-align: right;\n",
       "    }\n",
       "</style>\n",
       "<table border=\"1\" class=\"dataframe\">\n",
       "  <thead>\n",
       "    <tr style=\"text-align: right;\">\n",
       "      <th></th>\n",
       "      <th>budget</th>\n",
       "      <th>revenue</th>\n",
       "      <th>runtime</th>\n",
       "    </tr>\n",
       "  </thead>\n",
       "  <tbody>\n",
       "    <tr>\n",
       "      <th>count</th>\n",
       "      <td>3.855000e+03</td>\n",
       "      <td>3.855000e+03</td>\n",
       "      <td>3855.000000</td>\n",
       "    </tr>\n",
       "    <tr>\n",
       "      <th>mean</th>\n",
       "      <td>3.720183e+07</td>\n",
       "      <td>1.076589e+08</td>\n",
       "      <td>109.215824</td>\n",
       "    </tr>\n",
       "    <tr>\n",
       "      <th>std</th>\n",
       "      <td>4.220291e+07</td>\n",
       "      <td>1.765248e+08</td>\n",
       "      <td>19.922166</td>\n",
       "    </tr>\n",
       "    <tr>\n",
       "      <th>min</th>\n",
       "      <td>1.000000e+00</td>\n",
       "      <td>2.000000e+00</td>\n",
       "      <td>15.000000</td>\n",
       "    </tr>\n",
       "    <tr>\n",
       "      <th>25%</th>\n",
       "      <td>1.000000e+07</td>\n",
       "      <td>1.357645e+07</td>\n",
       "      <td>95.000000</td>\n",
       "    </tr>\n",
       "    <tr>\n",
       "      <th>50%</th>\n",
       "      <td>2.400000e+07</td>\n",
       "      <td>4.479322e+07</td>\n",
       "      <td>106.000000</td>\n",
       "    </tr>\n",
       "    <tr>\n",
       "      <th>75%</th>\n",
       "      <td>5.000000e+07</td>\n",
       "      <td>1.241530e+08</td>\n",
       "      <td>119.000000</td>\n",
       "    </tr>\n",
       "    <tr>\n",
       "      <th>max</th>\n",
       "      <td>4.250000e+08</td>\n",
       "      <td>2.781506e+09</td>\n",
       "      <td>338.000000</td>\n",
       "    </tr>\n",
       "  </tbody>\n",
       "</table>\n",
       "</div>"
      ],
      "text/plain": [
       "             budget       revenue      runtime\n",
       "count  3.855000e+03  3.855000e+03  3855.000000\n",
       "mean   3.720183e+07  1.076589e+08   109.215824\n",
       "std    4.220291e+07  1.765248e+08    19.922166\n",
       "min    1.000000e+00  2.000000e+00    15.000000\n",
       "25%    1.000000e+07  1.357645e+07    95.000000\n",
       "50%    2.400000e+07  4.479322e+07   106.000000\n",
       "75%    5.000000e+07  1.241530e+08   119.000000\n",
       "max    4.250000e+08  2.781506e+09   338.000000"
      ]
     },
     "execution_count": 10,
     "metadata": {},
     "output_type": "execute_result"
    }
   ],
   "source": [
    "df_mod= df_mod.sort_values(\"revenue\", ascending=False)\n",
    "df_mod.describe()"
   ]
  },
  {
   "cell_type": "markdown",
   "metadata": {},
   "source": [
    "## Setting parameters based of a film has to be 40 min to be considered a movie and removing the outliers that skew the Data"
   ]
  },
  {
   "cell_type": "code",
   "execution_count": 11,
   "metadata": {},
   "outputs": [
    {
     "data": {
      "text/html": [
       "<div>\n",
       "<style scoped>\n",
       "    .dataframe tbody tr th:only-of-type {\n",
       "        vertical-align: middle;\n",
       "    }\n",
       "\n",
       "    .dataframe tbody tr th {\n",
       "        vertical-align: top;\n",
       "    }\n",
       "\n",
       "    .dataframe thead th {\n",
       "        text-align: right;\n",
       "    }\n",
       "</style>\n",
       "<table border=\"1\" class=\"dataframe\">\n",
       "  <thead>\n",
       "    <tr style=\"text-align: right;\">\n",
       "      <th></th>\n",
       "      <th>budget</th>\n",
       "      <th>revenue</th>\n",
       "      <th>original_title</th>\n",
       "      <th>runtime</th>\n",
       "    </tr>\n",
       "  </thead>\n",
       "  <tbody>\n",
       "    <tr>\n",
       "      <th>4361</th>\n",
       "      <td>220000000.0</td>\n",
       "      <td>1.519558e+09</td>\n",
       "      <td>The Avengers</td>\n",
       "      <td>143.0</td>\n",
       "    </tr>\n",
       "    <tr>\n",
       "      <th>0</th>\n",
       "      <td>150000000.0</td>\n",
       "      <td>1.513529e+09</td>\n",
       "      <td>Jurassic World</td>\n",
       "      <td>124.0</td>\n",
       "    </tr>\n",
       "    <tr>\n",
       "      <th>4</th>\n",
       "      <td>190000000.0</td>\n",
       "      <td>1.506249e+09</td>\n",
       "      <td>Furious 7</td>\n",
       "      <td>137.0</td>\n",
       "    </tr>\n",
       "    <tr>\n",
       "      <th>14</th>\n",
       "      <td>280000000.0</td>\n",
       "      <td>1.405036e+09</td>\n",
       "      <td>Avengers: Age of Ultron</td>\n",
       "      <td>141.0</td>\n",
       "    </tr>\n",
       "    <tr>\n",
       "      <th>3374</th>\n",
       "      <td>125000000.0</td>\n",
       "      <td>1.327818e+09</td>\n",
       "      <td>Harry Potter and the Deathly Hallows: Part 2</td>\n",
       "      <td>130.0</td>\n",
       "    </tr>\n",
       "  </tbody>\n",
       "</table>\n",
       "</div>"
      ],
      "text/plain": [
       "           budget       revenue                                original_title  \\\n",
       "4361  220000000.0  1.519558e+09                                  The Avengers   \n",
       "0     150000000.0  1.513529e+09                                Jurassic World   \n",
       "4     190000000.0  1.506249e+09                                     Furious 7   \n",
       "14    280000000.0  1.405036e+09                       Avengers: Age of Ultron   \n",
       "3374  125000000.0  1.327818e+09  Harry Potter and the Deathly Hallows: Part 2   \n",
       "\n",
       "      runtime  \n",
       "4361    143.0  \n",
       "0       124.0  \n",
       "4       137.0  \n",
       "14      141.0  \n",
       "3374    130.0  "
      ]
     },
     "execution_count": 11,
     "metadata": {},
     "output_type": "execute_result"
    }
   ],
   "source": [
    "df_mod2 = df_mod.loc[(df_mod['runtime'] >= 40) & (df_mod['runtime'] <= 190) & (df_mod['revenue'] > 226830568) & (df_mod['revenue'] < 2068178225)]\n",
    "df_mod2.head()"
   ]
  },
  {
   "cell_type": "markdown",
   "metadata": {},
   "source": [
    "## Creating  variables for insertion into Graph so the shaded area can be created"
   ]
  },
  {
   "cell_type": "code",
   "execution_count": 12,
   "metadata": {},
   "outputs": [],
   "source": [
    "runtime_25_percentile = df_mod2['runtime'].quantile(.25)\n",
    "runtime_75_percentile = df_mod2['runtime'].quantile(.75)"
   ]
  },
  {
   "cell_type": "markdown",
   "metadata": {},
   "source": [
    "## Plotting Data in a Scatter Plot"
   ]
  },
  {
   "cell_type": "code",
   "execution_count": 13,
   "metadata": {},
   "outputs": [
    {
     "data": {
      "image/png": "[encoded data removed]",
      "text/plain": [
       "<Figure size 1008x504 with 1 Axes>"
      ]
     },
     "metadata": {
      "needs_background": "light"
     },
     "output_type": "display_data"
    }
   ],
   "source": [
    "fig, ax = plt.subplots(figsize=(14,7))\n",
    "data = df_mod2[['runtime', 'revenue']]\n",
    "x = data['runtime']\n",
    "y = data['revenue']\n",
    "plt.scatter(x, y)\n",
    "z = np.polyfit(x, y, 0)\n",
    "p = np.poly1d(z)\n",
    "plt.plot(x,p(x),\"r-\")\n",
    "plt.title('Runtime Comparison to Revenue', fontsize=35)\n",
    "plt.xlabel('Movie Time - min -', fontsize=20)\n",
    "plt.ylabel('Revenue in hundereds million', fontsize= 20)\n",
    "plt.fill_between([runtime_25_percentile, runtime_75_percentile], max(y), facecolor='orange', alpha=.2)\n",
    "plt.savefig(\"images/Runtime_Comparison_line_added.png\")\n",
    "plt.show()"
   ]
  },
  {
   "cell_type": "markdown",
   "metadata": {},
   "source": [
    "### This comparison of Runtime to Revenue tells that there is no true monetary value of creating a movie outside the shaded area"
   ]
  },
  {
   "cell_type": "markdown",
   "metadata": {},
   "source": [
    "# Working on Rotten Tomatoes Movies CSV"
   ]
  },
  {
   "cell_type": "markdown",
   "metadata": {},
   "source": [
    "## Calling the CSV rotten_tomatoes_movies.csv"
   ]
  },
  {
   "cell_type": "code",
   "execution_count": 14,
   "metadata": {},
   "outputs": [
    {
     "data": {
      "text/html": [
       "<div>\n",
       "<style scoped>\n",
       "    .dataframe tbody tr th:only-of-type {\n",
       "        vertical-align: middle;\n",
       "    }\n",
       "\n",
       "    .dataframe tbody tr th {\n",
       "        vertical-align: top;\n",
       "    }\n",
       "\n",
       "    .dataframe thead th {\n",
       "        text-align: right;\n",
       "    }\n",
       "</style>\n",
       "<table border=\"1\" class=\"dataframe\">\n",
       "  <thead>\n",
       "    <tr style=\"text-align: right;\">\n",
       "      <th></th>\n",
       "      <th>rotten_tomatoes_link</th>\n",
       "      <th>movie_title</th>\n",
       "      <th>movie_info</th>\n",
       "      <th>critics_consensus</th>\n",
       "      <th>content_rating</th>\n",
       "      <th>genres</th>\n",
       "      <th>directors</th>\n",
       "      <th>authors</th>\n",
       "      <th>actors</th>\n",
       "      <th>original_release_date</th>\n",
       "      <th>...</th>\n",
       "      <th>production_company</th>\n",
       "      <th>tomatometer_status</th>\n",
       "      <th>tomatometer_rating</th>\n",
       "      <th>tomatometer_count</th>\n",
       "      <th>audience_status</th>\n",
       "      <th>audience_rating</th>\n",
       "      <th>audience_count</th>\n",
       "      <th>tomatometer_top_critics_count</th>\n",
       "      <th>tomatometer_fresh_critics_count</th>\n",
       "      <th>tomatometer_rotten_critics_count</th>\n",
       "    </tr>\n",
       "  </thead>\n",
       "  <tbody>\n",
       "    <tr>\n",
       "      <th>0</th>\n",
       "      <td>m/0814255</td>\n",
       "      <td>Percy Jackson &amp; the Olympians: The Lightning T...</td>\n",
       "      <td>Always trouble-prone, the life of teenager Per...</td>\n",
       "      <td>Though it may seem like just another Harry Pot...</td>\n",
       "      <td>PG</td>\n",
       "      <td>Action &amp; Adventure, Comedy, Drama, Science Fic...</td>\n",
       "      <td>Chris Columbus</td>\n",
       "      <td>Craig Titley, Chris Columbus, Rick Riordan</td>\n",
       "      <td>Logan Lerman, Brandon T. Jackson, Alexandra Da...</td>\n",
       "      <td>2010-02-12</td>\n",
       "      <td>...</td>\n",
       "      <td>20th Century Fox</td>\n",
       "      <td>Rotten</td>\n",
       "      <td>49.0</td>\n",
       "      <td>149.0</td>\n",
       "      <td>Spilled</td>\n",
       "      <td>53.0</td>\n",
       "      <td>254421.0</td>\n",
       "      <td>43</td>\n",
       "      <td>73</td>\n",
       "      <td>76</td>\n",
       "    </tr>\n",
       "    <tr>\n",
       "      <th>1</th>\n",
       "      <td>m/0878835</td>\n",
       "      <td>Please Give</td>\n",
       "      <td>Kate (Catherine Keener) and her husband Alex (...</td>\n",
       "      <td>Nicole Holofcener's newest might seem slight i...</td>\n",
       "      <td>R</td>\n",
       "      <td>Comedy</td>\n",
       "      <td>Nicole Holofcener</td>\n",
       "      <td>Nicole Holofcener</td>\n",
       "      <td>Catherine Keener, Amanda Peet, Oliver Platt, R...</td>\n",
       "      <td>2010-04-30</td>\n",
       "      <td>...</td>\n",
       "      <td>Sony Pictures Classics</td>\n",
       "      <td>Certified-Fresh</td>\n",
       "      <td>87.0</td>\n",
       "      <td>142.0</td>\n",
       "      <td>Upright</td>\n",
       "      <td>64.0</td>\n",
       "      <td>11574.0</td>\n",
       "      <td>44</td>\n",
       "      <td>123</td>\n",
       "      <td>19</td>\n",
       "    </tr>\n",
       "  </tbody>\n",
       "</table>\n",
       "<p>2 rows × 22 columns</p>\n",
       "</div>"
      ],
      "text/plain": [
       "  rotten_tomatoes_link                                        movie_title  \\\n",
       "0            m/0814255  Percy Jackson & the Olympians: The Lightning T...   \n",
       "1            m/0878835                                        Please Give   \n",
       "\n",
       "                                          movie_info  \\\n",
       "0  Always trouble-prone, the life of teenager Per...   \n",
       "1  Kate (Catherine Keener) and her husband Alex (...   \n",
       "\n",
       "                                   critics_consensus content_rating  \\\n",
       "0  Though it may seem like just another Harry Pot...             PG   \n",
       "1  Nicole Holofcener's newest might seem slight i...              R   \n",
       "\n",
       "                                              genres          directors  \\\n",
       "0  Action & Adventure, Comedy, Drama, Science Fic...     Chris Columbus   \n",
       "1                                             Comedy  Nicole Holofcener   \n",
       "\n",
       "                                      authors  \\\n",
       "0  Craig Titley, Chris Columbus, Rick Riordan   \n",
       "1                           Nicole Holofcener   \n",
       "\n",
       "                                              actors original_release_date  \\\n",
       "0  Logan Lerman, Brandon T. Jackson, Alexandra Da...            2010-02-12   \n",
       "1  Catherine Keener, Amanda Peet, Oliver Platt, R...            2010-04-30   \n",
       "\n",
       "   ...      production_company  tomatometer_status tomatometer_rating  \\\n",
       "0  ...        20th Century Fox              Rotten               49.0   \n",
       "1  ...  Sony Pictures Classics     Certified-Fresh               87.0   \n",
       "\n",
       "  tomatometer_count  audience_status  audience_rating audience_count  \\\n",
       "0             149.0          Spilled             53.0       254421.0   \n",
       "1             142.0          Upright             64.0        11574.0   \n",
       "\n",
       "   tomatometer_top_critics_count  tomatometer_fresh_critics_count  \\\n",
       "0                             43                               73   \n",
       "1                             44                              123   \n",
       "\n",
       "   tomatometer_rotten_critics_count  \n",
       "0                                76  \n",
       "1                                19  \n",
       "\n",
       "[2 rows x 22 columns]"
      ]
     },
     "execution_count": 14,
     "metadata": {},
     "output_type": "execute_result"
    }
   ],
   "source": [
    "df_4 = pd.read_csv('data/zippedData/rotten_tomatoes_movies.csv.gz')\n",
    "df_4.head(2)"
   ]
  },
  {
   "cell_type": "markdown",
   "metadata": {},
   "source": [
    "## Dropping columns and Null values to get the column with correct values needed"
   ]
  },
  {
   "cell_type": "code",
   "execution_count": 15,
   "metadata": {},
   "outputs": [
    {
     "name": "stdout",
     "output_type": "stream",
     "text": [
      "movie_title           0\n",
      "content_rating        0\n",
      "genres                0\n",
      "tomatometer_status    0\n",
      "dtype: int64\n"
     ]
    }
   ],
   "source": [
    "cols_to_drop = ['critics_consensus', 'movie_info','directors', 'authors', 'actors', 'streaming_release_date','runtime', 'production_company', 'tomatometer_count', \n",
    "                'audience_status', 'tomatometer_rating', 'audience_count', 'tomatometer_top_critics_count','audience_rating','original_release_date', 'rotten_tomatoes_link' ,'tomatometer_fresh_critics_count', 'tomatometer_rotten_critics_count']\n",
    "df_dropped_colums = df_4.drop(cols_to_drop, axis=1)\n",
    "df_dropped_colums.replace(0, np.nan, inplace=True)\n",
    "df_dropped_colums[df_dropped_colums.isna().any(axis=1)]\n",
    "df_dropped_colums = df_dropped_colums.dropna()\n",
    "print(df_dropped_colums.isnull().sum())"
   ]
  },
  {
   "cell_type": "markdown",
   "metadata": {},
   "source": [
    "## Splitting the Genres Column on the \",\"  and Exploding and isolating the Adventure Genres"
   ]
  },
  {
   "cell_type": "code",
   "execution_count": 16,
   "metadata": {},
   "outputs": [
    {
     "data": {
      "text/html": [
       "<div>\n",
       "<style scoped>\n",
       "    .dataframe tbody tr th:only-of-type {\n",
       "        vertical-align: middle;\n",
       "    }\n",
       "\n",
       "    .dataframe tbody tr th {\n",
       "        vertical-align: top;\n",
       "    }\n",
       "\n",
       "    .dataframe thead th {\n",
       "        text-align: right;\n",
       "    }\n",
       "</style>\n",
       "<table border=\"1\" class=\"dataframe\">\n",
       "  <thead>\n",
       "    <tr style=\"text-align: right;\">\n",
       "      <th></th>\n",
       "      <th>movie_title</th>\n",
       "      <th>content_rating</th>\n",
       "      <th>genres</th>\n",
       "      <th>tomatometer_status</th>\n",
       "    </tr>\n",
       "  </thead>\n",
       "  <tbody>\n",
       "    <tr>\n",
       "      <th>0</th>\n",
       "      <td>Percy Jackson &amp; the Olympians: The Lightning T...</td>\n",
       "      <td>PG</td>\n",
       "      <td>Action &amp; Adventure</td>\n",
       "      <td>Rotten</td>\n",
       "    </tr>\n",
       "    <tr>\n",
       "      <th>4</th>\n",
       "      <td>20,000 Leagues Under The Sea</td>\n",
       "      <td>G</td>\n",
       "      <td>Action &amp; Adventure</td>\n",
       "      <td>Fresh</td>\n",
       "    </tr>\n",
       "    <tr>\n",
       "      <th>5</th>\n",
       "      <td>10,000 B.C.</td>\n",
       "      <td>PG-13</td>\n",
       "      <td>Action &amp; Adventure</td>\n",
       "      <td>Rotten</td>\n",
       "    </tr>\n",
       "    <tr>\n",
       "      <th>6</th>\n",
       "      <td>The 39 Steps</td>\n",
       "      <td>NR</td>\n",
       "      <td>Action &amp; Adventure</td>\n",
       "      <td>Certified-Fresh</td>\n",
       "    </tr>\n",
       "    <tr>\n",
       "      <th>18</th>\n",
       "      <td>The Adventures of Mark Twain</td>\n",
       "      <td>G</td>\n",
       "      <td>Action &amp; Adventure</td>\n",
       "      <td>Fresh</td>\n",
       "    </tr>\n",
       "    <tr>\n",
       "      <th>...</th>\n",
       "      <td>...</td>\n",
       "      <td>...</td>\n",
       "      <td>...</td>\n",
       "      <td>...</td>\n",
       "    </tr>\n",
       "    <tr>\n",
       "      <th>17702</th>\n",
       "      <td>Zoo</td>\n",
       "      <td>PG</td>\n",
       "      <td>Action &amp; Adventure</td>\n",
       "      <td>Fresh</td>\n",
       "    </tr>\n",
       "    <tr>\n",
       "      <th>17706</th>\n",
       "      <td>Zoom</td>\n",
       "      <td>PG</td>\n",
       "      <td>Action &amp; Adventure</td>\n",
       "      <td>Rotten</td>\n",
       "    </tr>\n",
       "    <tr>\n",
       "      <th>17708</th>\n",
       "      <td>Zootopia</td>\n",
       "      <td>PG</td>\n",
       "      <td>Action &amp; Adventure</td>\n",
       "      <td>Certified-Fresh</td>\n",
       "    </tr>\n",
       "    <tr>\n",
       "      <th>17709</th>\n",
       "      <td>Zorba the Greek</td>\n",
       "      <td>NR</td>\n",
       "      <td>Action &amp; Adventure</td>\n",
       "      <td>Fresh</td>\n",
       "    </tr>\n",
       "    <tr>\n",
       "      <th>17711</th>\n",
       "      <td>Zulu Dawn</td>\n",
       "      <td>PG</td>\n",
       "      <td>Action &amp; Adventure</td>\n",
       "      <td>Rotten</td>\n",
       "    </tr>\n",
       "  </tbody>\n",
       "</table>\n",
       "<p>3542 rows × 4 columns</p>\n",
       "</div>"
      ],
      "text/plain": [
       "                                             movie_title content_rating  \\\n",
       "0      Percy Jackson & the Olympians: The Lightning T...             PG   \n",
       "4                           20,000 Leagues Under The Sea              G   \n",
       "5                                            10,000 B.C.          PG-13   \n",
       "6                                           The 39 Steps             NR   \n",
       "18                          The Adventures of Mark Twain              G   \n",
       "...                                                  ...            ...   \n",
       "17702                                                Zoo             PG   \n",
       "17706                                               Zoom             PG   \n",
       "17708                                           Zootopia             PG   \n",
       "17709                                    Zorba the Greek             NR   \n",
       "17711                                          Zulu Dawn             PG   \n",
       "\n",
       "                   genres tomatometer_status  \n",
       "0      Action & Adventure             Rotten  \n",
       "4      Action & Adventure              Fresh  \n",
       "5      Action & Adventure             Rotten  \n",
       "6      Action & Adventure    Certified-Fresh  \n",
       "18     Action & Adventure              Fresh  \n",
       "...                   ...                ...  \n",
       "17702  Action & Adventure              Fresh  \n",
       "17706  Action & Adventure             Rotten  \n",
       "17708  Action & Adventure    Certified-Fresh  \n",
       "17709  Action & Adventure              Fresh  \n",
       "17711  Action & Adventure             Rotten  \n",
       "\n",
       "[3542 rows x 4 columns]"
      ]
     },
     "execution_count": 16,
     "metadata": {},
     "output_type": "execute_result"
    }
   ],
   "source": [
    "df_dropped_colums[\"genres\"] = df_dropped_colums[\"genres\"].apply(lambda x: x.split(\",\") if type(x) == str else x)\n",
    "\n",
    "df_explode_2 = df_dropped_colums.explode('genres')\n",
    "\n",
    "new_df = df_explode_2[df_explode_2['genres'].str.contains('Action & Adventure')]\n",
    "new_df"
   ]
  },
  {
   "cell_type": "markdown",
   "metadata": {},
   "source": [
    "## Setting Index replacing the Ratings with values and setting those values to 1 then Grouping by content_rating, tomatometer_status"
   ]
  },
  {
   "cell_type": "code",
   "execution_count": 17,
   "metadata": {},
   "outputs": [
    {
     "name": "stderr",
     "output_type": "stream",
     "text": [
      "<ipython-input-17-2da686128ab3>:3: SettingWithCopyWarning: \n",
      "A value is trying to be set on a copy of a slice from a DataFrame.\n",
      "Try using .loc[row_indexer,col_indexer] = value instead\n",
      "\n",
      "See the caveats in the documentation: https://pandas.pydata.org/pandas-docs/stable/user_guide/indexing.html#returning-a-view-versus-a-copy\n",
      "  new_df['movie_count'] = 1\n"
     ]
    },
    {
     "data": {
      "text/html": [
       "<div>\n",
       "<style scoped>\n",
       "    .dataframe tbody tr th:only-of-type {\n",
       "        vertical-align: middle;\n",
       "    }\n",
       "\n",
       "    .dataframe tbody tr th {\n",
       "        vertical-align: top;\n",
       "    }\n",
       "\n",
       "    .dataframe thead th {\n",
       "        text-align: right;\n",
       "    }\n",
       "</style>\n",
       "<table border=\"1\" class=\"dataframe\">\n",
       "  <thead>\n",
       "    <tr style=\"text-align: right;\">\n",
       "      <th></th>\n",
       "      <th></th>\n",
       "      <th>movie_title</th>\n",
       "      <th>genres</th>\n",
       "      <th>movie_count</th>\n",
       "    </tr>\n",
       "    <tr>\n",
       "      <th>content_rating</th>\n",
       "      <th>tomatometer_status</th>\n",
       "      <th></th>\n",
       "      <th></th>\n",
       "      <th></th>\n",
       "    </tr>\n",
       "  </thead>\n",
       "  <tbody>\n",
       "    <tr>\n",
       "      <th rowspan=\"3\" valign=\"top\">G</th>\n",
       "      <th>Certified-Fresh</th>\n",
       "      <td>24</td>\n",
       "      <td>24</td>\n",
       "      <td>24</td>\n",
       "    </tr>\n",
       "    <tr>\n",
       "      <th>Fresh</th>\n",
       "      <td>94</td>\n",
       "      <td>94</td>\n",
       "      <td>94</td>\n",
       "    </tr>\n",
       "    <tr>\n",
       "      <th>Rotten</th>\n",
       "      <td>68</td>\n",
       "      <td>68</td>\n",
       "      <td>68</td>\n",
       "    </tr>\n",
       "    <tr>\n",
       "      <th>NC17</th>\n",
       "      <th>Fresh</th>\n",
       "      <td>1</td>\n",
       "      <td>1</td>\n",
       "      <td>1</td>\n",
       "    </tr>\n",
       "    <tr>\n",
       "      <th rowspan=\"3\" valign=\"top\">NR</th>\n",
       "      <th>Certified-Fresh</th>\n",
       "      <td>41</td>\n",
       "      <td>41</td>\n",
       "      <td>41</td>\n",
       "    </tr>\n",
       "    <tr>\n",
       "      <th>Fresh</th>\n",
       "      <td>354</td>\n",
       "      <td>354</td>\n",
       "      <td>354</td>\n",
       "    </tr>\n",
       "    <tr>\n",
       "      <th>Rotten</th>\n",
       "      <td>191</td>\n",
       "      <td>191</td>\n",
       "      <td>191</td>\n",
       "    </tr>\n",
       "    <tr>\n",
       "      <th rowspan=\"3\" valign=\"top\">PG</th>\n",
       "      <th>Certified-Fresh</th>\n",
       "      <td>112</td>\n",
       "      <td>112</td>\n",
       "      <td>112</td>\n",
       "    </tr>\n",
       "    <tr>\n",
       "      <th>Fresh</th>\n",
       "      <td>189</td>\n",
       "      <td>189</td>\n",
       "      <td>189</td>\n",
       "    </tr>\n",
       "    <tr>\n",
       "      <th>Rotten</th>\n",
       "      <td>304</td>\n",
       "      <td>304</td>\n",
       "      <td>304</td>\n",
       "    </tr>\n",
       "    <tr>\n",
       "      <th rowspan=\"3\" valign=\"top\">PG-13</th>\n",
       "      <th>Certified-Fresh</th>\n",
       "      <td>160</td>\n",
       "      <td>160</td>\n",
       "      <td>160</td>\n",
       "    </tr>\n",
       "    <tr>\n",
       "      <th>Fresh</th>\n",
       "      <td>138</td>\n",
       "      <td>138</td>\n",
       "      <td>138</td>\n",
       "    </tr>\n",
       "    <tr>\n",
       "      <th>Rotten</th>\n",
       "      <td>504</td>\n",
       "      <td>504</td>\n",
       "      <td>504</td>\n",
       "    </tr>\n",
       "    <tr>\n",
       "      <th rowspan=\"3\" valign=\"top\">R</th>\n",
       "      <th>Certified-Fresh</th>\n",
       "      <td>210</td>\n",
       "      <td>210</td>\n",
       "      <td>210</td>\n",
       "    </tr>\n",
       "    <tr>\n",
       "      <th>Fresh</th>\n",
       "      <td>341</td>\n",
       "      <td>341</td>\n",
       "      <td>341</td>\n",
       "    </tr>\n",
       "    <tr>\n",
       "      <th>Rotten</th>\n",
       "      <td>811</td>\n",
       "      <td>811</td>\n",
       "      <td>811</td>\n",
       "    </tr>\n",
       "  </tbody>\n",
       "</table>\n",
       "</div>"
      ],
      "text/plain": [
       "                                   movie_title  genres  movie_count\n",
       "content_rating tomatometer_status                                  \n",
       "G              Certified-Fresh              24      24           24\n",
       "               Fresh                        94      94           94\n",
       "               Rotten                       68      68           68\n",
       "NC17           Fresh                         1       1            1\n",
       "NR             Certified-Fresh              41      41           41\n",
       "               Fresh                       354     354          354\n",
       "               Rotten                      191     191          191\n",
       "PG             Certified-Fresh             112     112          112\n",
       "               Fresh                       189     189          189\n",
       "               Rotten                      304     304          304\n",
       "PG-13          Certified-Fresh             160     160          160\n",
       "               Fresh                       138     138          138\n",
       "               Rotten                      504     504          504\n",
       "R              Certified-Fresh             210     210          210\n",
       "               Fresh                       341     341          341\n",
       "               Rotten                      811     811          811"
      ]
     },
     "execution_count": 17,
     "metadata": {},
     "output_type": "execute_result"
    }
   ],
   "source": [
    "new_df.set_index('genres')\n",
    "new_df.replace({'G': 0, 'PG': 1, 'PG-13': 2, 'NC17': 3, 'NR': 4, 'R': 5})\n",
    "new_df['movie_count'] = 1\n",
    "df_cor = new_df.groupby(['content_rating', 'tomatometer_status']).count()\n",
    "df_cor"
   ]
  },
  {
   "cell_type": "markdown",
   "metadata": {},
   "source": [
    "## Resetting Index and Dropping the Generes column to keep the Genre Column in order to retain Adventure"
   ]
  },
  {
   "cell_type": "code",
   "execution_count": 18,
   "metadata": {},
   "outputs": [
    {
     "data": {
      "text/html": [
       "<div>\n",
       "<style scoped>\n",
       "    .dataframe tbody tr th:only-of-type {\n",
       "        vertical-align: middle;\n",
       "    }\n",
       "\n",
       "    .dataframe tbody tr th {\n",
       "        vertical-align: top;\n",
       "    }\n",
       "\n",
       "    .dataframe thead th {\n",
       "        text-align: right;\n",
       "    }\n",
       "</style>\n",
       "<table border=\"1\" class=\"dataframe\">\n",
       "  <thead>\n",
       "    <tr style=\"text-align: right;\">\n",
       "      <th></th>\n",
       "      <th>content_rating</th>\n",
       "      <th>tomatometer_status</th>\n",
       "      <th>movie_title</th>\n",
       "      <th>movie_count</th>\n",
       "    </tr>\n",
       "  </thead>\n",
       "  <tbody>\n",
       "    <tr>\n",
       "      <th>0</th>\n",
       "      <td>G</td>\n",
       "      <td>Certified-Fresh</td>\n",
       "      <td>24</td>\n",
       "      <td>24</td>\n",
       "    </tr>\n",
       "    <tr>\n",
       "      <th>1</th>\n",
       "      <td>G</td>\n",
       "      <td>Fresh</td>\n",
       "      <td>94</td>\n",
       "      <td>94</td>\n",
       "    </tr>\n",
       "    <tr>\n",
       "      <th>2</th>\n",
       "      <td>G</td>\n",
       "      <td>Rotten</td>\n",
       "      <td>68</td>\n",
       "      <td>68</td>\n",
       "    </tr>\n",
       "    <tr>\n",
       "      <th>3</th>\n",
       "      <td>NC17</td>\n",
       "      <td>Fresh</td>\n",
       "      <td>1</td>\n",
       "      <td>1</td>\n",
       "    </tr>\n",
       "    <tr>\n",
       "      <th>4</th>\n",
       "      <td>NR</td>\n",
       "      <td>Certified-Fresh</td>\n",
       "      <td>41</td>\n",
       "      <td>41</td>\n",
       "    </tr>\n",
       "  </tbody>\n",
       "</table>\n",
       "</div>"
      ],
      "text/plain": [
       "  content_rating tomatometer_status  movie_title  movie_count\n",
       "0              G    Certified-Fresh           24           24\n",
       "1              G              Fresh           94           94\n",
       "2              G             Rotten           68           68\n",
       "3           NC17              Fresh            1            1\n",
       "4             NR    Certified-Fresh           41           41"
      ]
     },
     "execution_count": 18,
     "metadata": {},
     "output_type": "execute_result"
    }
   ],
   "source": [
    "df_cor = df_cor.reset_index()\n",
    "cols_to_drop = ['genres']\n",
    "df_drop = df_cor.drop(cols_to_drop, axis=1)\n",
    "df_drop.head()"
   ]
  },
  {
   "cell_type": "markdown",
   "metadata": {},
   "source": [
    "## Ploting the data in a Bar Graph"
   ]
  },
  {
   "cell_type": "code",
   "execution_count": 19,
   "metadata": {},
   "outputs": [
    {
     "data": {
      "text/plain": [
       "<matplotlib.legend.Legend at 0x7fe76d407a30>"
      ]
     },
     "execution_count": 19,
     "metadata": {},
     "output_type": "execute_result"
    },
    {
     "data": {
      "image/png": "[encoded data removed]",
      "text/plain": [
       "<Figure size 720x576 with 1 Axes>"
      ]
     },
     "metadata": {
      "needs_background": "light"
     },
     "output_type": "display_data"
    }
   ],
   "source": [
    "plt.figure(figsize=(10, 8))\n",
    "sns.barplot(x='content_rating', \n",
    "            y='movie_count', \n",
    "            hue='tomatometer_status',\n",
    "            order=[\"NC17\",\"G\",\"PG\",\"PG-13\",'NR', 'R'],\n",
    "            data=df_cor, palette=['green', 'blue', 'red'])\n",
    "plt.ylabel(\"Count Total\", size=14)\n",
    "plt.xlabel(\"Movie Rating\", size=14)\n",
    "plt.title(\"Rotten Tomatos Generated Ratings for Adventure Movies\", size=18)\n",
    "plt.savefig(\"images/Rotten_tomatose_Ratings.png\")\n",
    "plt.legend()"
   ]
  },
  {
   "cell_type": "markdown",
   "metadata": {},
   "source": [
    "### This visual represents the MPA rating for the movie Microsoft should make. NR should be chosen based off the fresh rating compared to the rotten score. NR is a movie that has just not been submitted for rating by the Motion Picture Association."
   ]
  },
  {
   "cell_type": "markdown",
   "metadata": {},
   "source": [
    "# Working on bom.movie_gross.csv"
   ]
  },
  {
   "cell_type": "markdown",
   "metadata": {},
   "source": [
    "## Used Pandas to read the dataset, which contains information about which studios made which movies, what year each movie was made, and how much money each movie made."
   ]
  },
  {
   "cell_type": "code",
   "execution_count": 20,
   "metadata": {},
   "outputs": [
    {
     "data": {
      "text/html": [
       "<div>\n",
       "<style scoped>\n",
       "    .dataframe tbody tr th:only-of-type {\n",
       "        vertical-align: middle;\n",
       "    }\n",
       "\n",
       "    .dataframe tbody tr th {\n",
       "        vertical-align: top;\n",
       "    }\n",
       "\n",
       "    .dataframe thead th {\n",
       "        text-align: right;\n",
       "    }\n",
       "</style>\n",
       "<table border=\"1\" class=\"dataframe\">\n",
       "  <thead>\n",
       "    <tr style=\"text-align: right;\">\n",
       "      <th></th>\n",
       "      <th>title</th>\n",
       "      <th>studio</th>\n",
       "      <th>domestic_gross</th>\n",
       "      <th>foreign_gross</th>\n",
       "      <th>year</th>\n",
       "    </tr>\n",
       "  </thead>\n",
       "  <tbody>\n",
       "    <tr>\n",
       "      <th>0</th>\n",
       "      <td>Toy Story 3</td>\n",
       "      <td>BV</td>\n",
       "      <td>415000000.0</td>\n",
       "      <td>652000000</td>\n",
       "      <td>2010</td>\n",
       "    </tr>\n",
       "    <tr>\n",
       "      <th>1</th>\n",
       "      <td>Alice in Wonderland (2010)</td>\n",
       "      <td>BV</td>\n",
       "      <td>334200000.0</td>\n",
       "      <td>691300000</td>\n",
       "      <td>2010</td>\n",
       "    </tr>\n",
       "    <tr>\n",
       "      <th>2</th>\n",
       "      <td>Harry Potter and the Deathly Hallows Part 1</td>\n",
       "      <td>WB</td>\n",
       "      <td>296000000.0</td>\n",
       "      <td>664300000</td>\n",
       "      <td>2010</td>\n",
       "    </tr>\n",
       "    <tr>\n",
       "      <th>3</th>\n",
       "      <td>Inception</td>\n",
       "      <td>WB</td>\n",
       "      <td>292600000.0</td>\n",
       "      <td>535700000</td>\n",
       "      <td>2010</td>\n",
       "    </tr>\n",
       "    <tr>\n",
       "      <th>4</th>\n",
       "      <td>Shrek Forever After</td>\n",
       "      <td>P/DW</td>\n",
       "      <td>238700000.0</td>\n",
       "      <td>513900000</td>\n",
       "      <td>2010</td>\n",
       "    </tr>\n",
       "    <tr>\n",
       "      <th>...</th>\n",
       "      <td>...</td>\n",
       "      <td>...</td>\n",
       "      <td>...</td>\n",
       "      <td>...</td>\n",
       "      <td>...</td>\n",
       "    </tr>\n",
       "    <tr>\n",
       "      <th>3382</th>\n",
       "      <td>The Quake</td>\n",
       "      <td>Magn.</td>\n",
       "      <td>6200.0</td>\n",
       "      <td>NaN</td>\n",
       "      <td>2018</td>\n",
       "    </tr>\n",
       "    <tr>\n",
       "      <th>3383</th>\n",
       "      <td>Edward II (2018 re-release)</td>\n",
       "      <td>FM</td>\n",
       "      <td>4800.0</td>\n",
       "      <td>NaN</td>\n",
       "      <td>2018</td>\n",
       "    </tr>\n",
       "    <tr>\n",
       "      <th>3384</th>\n",
       "      <td>El Pacto</td>\n",
       "      <td>Sony</td>\n",
       "      <td>2500.0</td>\n",
       "      <td>NaN</td>\n",
       "      <td>2018</td>\n",
       "    </tr>\n",
       "    <tr>\n",
       "      <th>3385</th>\n",
       "      <td>The Swan</td>\n",
       "      <td>Synergetic</td>\n",
       "      <td>2400.0</td>\n",
       "      <td>NaN</td>\n",
       "      <td>2018</td>\n",
       "    </tr>\n",
       "    <tr>\n",
       "      <th>3386</th>\n",
       "      <td>An Actor Prepares</td>\n",
       "      <td>Grav.</td>\n",
       "      <td>1700.0</td>\n",
       "      <td>NaN</td>\n",
       "      <td>2018</td>\n",
       "    </tr>\n",
       "  </tbody>\n",
       "</table>\n",
       "<p>3387 rows × 5 columns</p>\n",
       "</div>"
      ],
      "text/plain": [
       "                                            title      studio  domestic_gross  \\\n",
       "0                                     Toy Story 3          BV     415000000.0   \n",
       "1                      Alice in Wonderland (2010)          BV     334200000.0   \n",
       "2     Harry Potter and the Deathly Hallows Part 1          WB     296000000.0   \n",
       "3                                       Inception          WB     292600000.0   \n",
       "4                             Shrek Forever After        P/DW     238700000.0   \n",
       "...                                           ...         ...             ...   \n",
       "3382                                    The Quake       Magn.          6200.0   \n",
       "3383                  Edward II (2018 re-release)          FM          4800.0   \n",
       "3384                                     El Pacto        Sony          2500.0   \n",
       "3385                                     The Swan  Synergetic          2400.0   \n",
       "3386                            An Actor Prepares       Grav.          1700.0   \n",
       "\n",
       "     foreign_gross  year  \n",
       "0        652000000  2010  \n",
       "1        691300000  2010  \n",
       "2        664300000  2010  \n",
       "3        535700000  2010  \n",
       "4        513900000  2010  \n",
       "...            ...   ...  \n",
       "3382           NaN  2018  \n",
       "3383           NaN  2018  \n",
       "3384           NaN  2018  \n",
       "3385           NaN  2018  \n",
       "3386           NaN  2018  \n",
       "\n",
       "[3387 rows x 5 columns]"
      ]
     },
     "execution_count": 20,
     "metadata": {},
     "output_type": "execute_result"
    }
   ],
   "source": [
    "bommovie = pd.read_csv(\"./data/zippedData/bom.movie_gross.csv.gz\")\n",
    "bommovie"
   ]
  },
  {
   "cell_type": "markdown",
   "metadata": {},
   "source": [
    "## Using the sort values function, we reorganized the dataset from the movie with the highest domestic gross to the movie with the lowest domestic gross"
   ]
  },
  {
   "cell_type": "code",
   "execution_count": 21,
   "metadata": {},
   "outputs": [
    {
     "data": {
      "text/html": [
       "<div>\n",
       "<style scoped>\n",
       "    .dataframe tbody tr th:only-of-type {\n",
       "        vertical-align: middle;\n",
       "    }\n",
       "\n",
       "    .dataframe tbody tr th {\n",
       "        vertical-align: top;\n",
       "    }\n",
       "\n",
       "    .dataframe thead th {\n",
       "        text-align: right;\n",
       "    }\n",
       "</style>\n",
       "<table border=\"1\" class=\"dataframe\">\n",
       "  <thead>\n",
       "    <tr style=\"text-align: right;\">\n",
       "      <th></th>\n",
       "      <th>title</th>\n",
       "      <th>studio</th>\n",
       "      <th>domestic_gross</th>\n",
       "      <th>foreign_gross</th>\n",
       "      <th>year</th>\n",
       "    </tr>\n",
       "  </thead>\n",
       "  <tbody>\n",
       "    <tr>\n",
       "      <th>1872</th>\n",
       "      <td>Star Wars: The Force Awakens</td>\n",
       "      <td>BV</td>\n",
       "      <td>936700000.0</td>\n",
       "      <td>1,131.6</td>\n",
       "      <td>2015</td>\n",
       "    </tr>\n",
       "    <tr>\n",
       "      <th>3080</th>\n",
       "      <td>Black Panther</td>\n",
       "      <td>BV</td>\n",
       "      <td>700100000.0</td>\n",
       "      <td>646900000</td>\n",
       "      <td>2018</td>\n",
       "    </tr>\n",
       "    <tr>\n",
       "      <th>3079</th>\n",
       "      <td>Avengers: Infinity War</td>\n",
       "      <td>BV</td>\n",
       "      <td>678800000.0</td>\n",
       "      <td>1,369.5</td>\n",
       "      <td>2018</td>\n",
       "    </tr>\n",
       "    <tr>\n",
       "      <th>1873</th>\n",
       "      <td>Jurassic World</td>\n",
       "      <td>Uni.</td>\n",
       "      <td>652300000.0</td>\n",
       "      <td>1,019.4</td>\n",
       "      <td>2015</td>\n",
       "    </tr>\n",
       "    <tr>\n",
       "      <th>727</th>\n",
       "      <td>Marvel's The Avengers</td>\n",
       "      <td>BV</td>\n",
       "      <td>623400000.0</td>\n",
       "      <td>895500000</td>\n",
       "      <td>2012</td>\n",
       "    </tr>\n",
       "    <tr>\n",
       "      <th>...</th>\n",
       "      <td>...</td>\n",
       "      <td>...</td>\n",
       "      <td>...</td>\n",
       "      <td>...</td>\n",
       "      <td>...</td>\n",
       "    </tr>\n",
       "    <tr>\n",
       "      <th>1975</th>\n",
       "      <td>Surprise - Journey To The West</td>\n",
       "      <td>AR</td>\n",
       "      <td>NaN</td>\n",
       "      <td>49600000</td>\n",
       "      <td>2015</td>\n",
       "    </tr>\n",
       "    <tr>\n",
       "      <th>2392</th>\n",
       "      <td>Finding Mr. Right 2</td>\n",
       "      <td>CL</td>\n",
       "      <td>NaN</td>\n",
       "      <td>114700000</td>\n",
       "      <td>2016</td>\n",
       "    </tr>\n",
       "    <tr>\n",
       "      <th>2468</th>\n",
       "      <td>Solace</td>\n",
       "      <td>LGP</td>\n",
       "      <td>NaN</td>\n",
       "      <td>22400000</td>\n",
       "      <td>2016</td>\n",
       "    </tr>\n",
       "    <tr>\n",
       "      <th>2595</th>\n",
       "      <td>Viral</td>\n",
       "      <td>W/Dim.</td>\n",
       "      <td>NaN</td>\n",
       "      <td>552000</td>\n",
       "      <td>2016</td>\n",
       "    </tr>\n",
       "    <tr>\n",
       "      <th>2825</th>\n",
       "      <td>Secret Superstar</td>\n",
       "      <td>NaN</td>\n",
       "      <td>NaN</td>\n",
       "      <td>122000000</td>\n",
       "      <td>2017</td>\n",
       "    </tr>\n",
       "  </tbody>\n",
       "</table>\n",
       "<p>3387 rows × 5 columns</p>\n",
       "</div>"
      ],
      "text/plain": [
       "                               title  studio  domestic_gross foreign_gross  \\\n",
       "1872    Star Wars: The Force Awakens      BV     936700000.0       1,131.6   \n",
       "3080                   Black Panther      BV     700100000.0     646900000   \n",
       "3079          Avengers: Infinity War      BV     678800000.0       1,369.5   \n",
       "1873                  Jurassic World    Uni.     652300000.0       1,019.4   \n",
       "727            Marvel's The Avengers      BV     623400000.0     895500000   \n",
       "...                              ...     ...             ...           ...   \n",
       "1975  Surprise - Journey To The West      AR             NaN      49600000   \n",
       "2392             Finding Mr. Right 2      CL             NaN     114700000   \n",
       "2468                          Solace     LGP             NaN      22400000   \n",
       "2595                           Viral  W/Dim.             NaN        552000   \n",
       "2825                Secret Superstar     NaN             NaN     122000000   \n",
       "\n",
       "      year  \n",
       "1872  2015  \n",
       "3080  2018  \n",
       "3079  2018  \n",
       "1873  2015  \n",
       "727   2012  \n",
       "...    ...  \n",
       "1975  2015  \n",
       "2392  2016  \n",
       "2468  2016  \n",
       "2595  2016  \n",
       "2825  2017  \n",
       "\n",
       "[3387 rows x 5 columns]"
      ]
     },
     "execution_count": 21,
     "metadata": {},
     "output_type": "execute_result"
    }
   ],
   "source": [
    "bommovie = bommovie.sort_values(\"domestic_gross\", ascending = False)\n",
    "bommovie"
   ]
  },
  {
   "cell_type": "markdown",
   "metadata": {},
   "source": [
    "## Next, we figured out what percentage of information about movies was missing."
   ]
  },
  {
   "cell_type": "code",
   "execution_count": 22,
   "metadata": {},
   "outputs": [
    {
     "name": "stdout",
     "output_type": "stream",
     "text": [
      "foreign_gross - 40.0%\n",
      "domestic_gross - 1.0%\n",
      "studio - 0.0%\n",
      "year - 0.0%\n",
      "title - 0.0%\n"
     ]
    }
   ],
   "source": [
    "pct_missing = np.mean(bommovie[\"foreign_gross\"].isnull())\n",
    "print('{} - {}%'.format(\"foreign_gross\", round(pct_missing*100)))\n",
    "\n",
    "pct_missing = np.mean(bommovie[\"domestic_gross\"].isnull())\n",
    "print('{} - {}%'.format(\"domestic_gross\", round(pct_missing*100)))\n",
    "\n",
    "pct_missing = np.mean(bommovie[\"studio\"].isnull())\n",
    "print('{} - {}%'.format(\"studio\", round(pct_missing*100)))\n",
    "\n",
    "pct_missing = np.mean(bommovie[\"year\"].isnull())\n",
    "print('{} - {}%'.format(\"year\", round(pct_missing*100)))\n",
    "\n",
    "pct_missing = np.mean(bommovie[\"title\"].isnull())\n",
    "print('{} - {}%'.format(\"title\", round(pct_missing*100)))"
   ]
  },
  {
   "cell_type": "markdown",
   "metadata": {},
   "source": [
    "## 40% of values were missing in the foreign gross column and 1% of values were missing in the domestic gross column. We dropped all of these null values to ensure the accuracy of our analyses. Due to the significant amount of data dropped from the foreign gross column, we chose to tighten our focus to domestic gross and use that as the primary indicator of movie success."
   ]
  },
  {
   "cell_type": "code",
   "execution_count": 23,
   "metadata": {},
   "outputs": [],
   "source": [
    "bommovie = bommovie.dropna(subset=['foreign_gross'])"
   ]
  },
  {
   "cell_type": "code",
   "execution_count": 24,
   "metadata": {},
   "outputs": [],
   "source": [
    "bommovie = bommovie.dropna(subset=['domestic_gross'])"
   ]
  },
  {
   "cell_type": "markdown",
   "metadata": {},
   "source": [
    "## Then, we checked that all null values were gone."
   ]
  },
  {
   "cell_type": "code",
   "execution_count": 25,
   "metadata": {},
   "outputs": [
    {
     "name": "stdout",
     "output_type": "stream",
     "text": [
      "foreign_gross - 0.0%\n",
      "domestic_gross - 0.0%\n"
     ]
    }
   ],
   "source": [
    "pct_missing = np.mean(bommovie[\"foreign_gross\"].isnull())\n",
    "print('{} - {}%'.format(\"foreign_gross\", round(pct_missing*100)))\n",
    "pct_missing = np.mean(bommovie[\"domestic_gross\"].isnull())\n",
    "print('{} - {}%'.format(\"domestic_gross\", round(pct_missing*100)))"
   ]
  },
  {
   "cell_type": "markdown",
   "metadata": {},
   "source": [
    "## Then, we made another dataframe from the first 20 rows of the previous dataframe. Because we sorted the last dataframe by highest domestic gross, this new dataframe represents the top 20 highest grossing movies."
   ]
  },
  {
   "cell_type": "code",
   "execution_count": 26,
   "metadata": {},
   "outputs": [
    {
     "data": {
      "text/html": [
       "<div>\n",
       "<style scoped>\n",
       "    .dataframe tbody tr th:only-of-type {\n",
       "        vertical-align: middle;\n",
       "    }\n",
       "\n",
       "    .dataframe tbody tr th {\n",
       "        vertical-align: top;\n",
       "    }\n",
       "\n",
       "    .dataframe thead th {\n",
       "        text-align: right;\n",
       "    }\n",
       "</style>\n",
       "<table border=\"1\" class=\"dataframe\">\n",
       "  <thead>\n",
       "    <tr style=\"text-align: right;\">\n",
       "      <th></th>\n",
       "      <th>title</th>\n",
       "      <th>studio</th>\n",
       "      <th>domestic_gross</th>\n",
       "      <th>foreign_gross</th>\n",
       "      <th>year</th>\n",
       "    </tr>\n",
       "  </thead>\n",
       "  <tbody>\n",
       "    <tr>\n",
       "      <th>1872</th>\n",
       "      <td>Star Wars: The Force Awakens</td>\n",
       "      <td>BV</td>\n",
       "      <td>936700000.0</td>\n",
       "      <td>1,131.6</td>\n",
       "      <td>2015</td>\n",
       "    </tr>\n",
       "    <tr>\n",
       "      <th>3080</th>\n",
       "      <td>Black Panther</td>\n",
       "      <td>BV</td>\n",
       "      <td>700100000.0</td>\n",
       "      <td>646900000</td>\n",
       "      <td>2018</td>\n",
       "    </tr>\n",
       "    <tr>\n",
       "      <th>3079</th>\n",
       "      <td>Avengers: Infinity War</td>\n",
       "      <td>BV</td>\n",
       "      <td>678800000.0</td>\n",
       "      <td>1,369.5</td>\n",
       "      <td>2018</td>\n",
       "    </tr>\n",
       "    <tr>\n",
       "      <th>1873</th>\n",
       "      <td>Jurassic World</td>\n",
       "      <td>Uni.</td>\n",
       "      <td>652300000.0</td>\n",
       "      <td>1,019.4</td>\n",
       "      <td>2015</td>\n",
       "    </tr>\n",
       "    <tr>\n",
       "      <th>727</th>\n",
       "      <td>Marvel's The Avengers</td>\n",
       "      <td>BV</td>\n",
       "      <td>623400000.0</td>\n",
       "      <td>895500000</td>\n",
       "      <td>2012</td>\n",
       "    </tr>\n",
       "    <tr>\n",
       "      <th>2758</th>\n",
       "      <td>Star Wars: The Last Jedi</td>\n",
       "      <td>BV</td>\n",
       "      <td>620200000.0</td>\n",
       "      <td>712400000</td>\n",
       "      <td>2017</td>\n",
       "    </tr>\n",
       "    <tr>\n",
       "      <th>3082</th>\n",
       "      <td>Incredibles 2</td>\n",
       "      <td>BV</td>\n",
       "      <td>608600000.0</td>\n",
       "      <td>634200000</td>\n",
       "      <td>2018</td>\n",
       "    </tr>\n",
       "    <tr>\n",
       "      <th>2323</th>\n",
       "      <td>Rogue One: A Star Wars Story</td>\n",
       "      <td>BV</td>\n",
       "      <td>532200000.0</td>\n",
       "      <td>523900000</td>\n",
       "      <td>2016</td>\n",
       "    </tr>\n",
       "    <tr>\n",
       "      <th>2759</th>\n",
       "      <td>Beauty and the Beast (2017)</td>\n",
       "      <td>BV</td>\n",
       "      <td>504000000.0</td>\n",
       "      <td>759500000</td>\n",
       "      <td>2017</td>\n",
       "    </tr>\n",
       "    <tr>\n",
       "      <th>2324</th>\n",
       "      <td>Finding Dory</td>\n",
       "      <td>BV</td>\n",
       "      <td>486300000.0</td>\n",
       "      <td>542300000</td>\n",
       "      <td>2016</td>\n",
       "    </tr>\n",
       "    <tr>\n",
       "      <th>1875</th>\n",
       "      <td>Avengers: Age of Ultron</td>\n",
       "      <td>BV</td>\n",
       "      <td>459000000.0</td>\n",
       "      <td>946400000</td>\n",
       "      <td>2015</td>\n",
       "    </tr>\n",
       "    <tr>\n",
       "      <th>729</th>\n",
       "      <td>The Dark Knight Rises</td>\n",
       "      <td>WB</td>\n",
       "      <td>448100000.0</td>\n",
       "      <td>636800000</td>\n",
       "      <td>2012</td>\n",
       "    </tr>\n",
       "    <tr>\n",
       "      <th>1131</th>\n",
       "      <td>The Hunger Games: Catching Fire</td>\n",
       "      <td>LGF</td>\n",
       "      <td>424700000.0</td>\n",
       "      <td>440300000</td>\n",
       "      <td>2013</td>\n",
       "    </tr>\n",
       "    <tr>\n",
       "      <th>3081</th>\n",
       "      <td>Jurassic World: Fallen Kingdom</td>\n",
       "      <td>Uni.</td>\n",
       "      <td>417700000.0</td>\n",
       "      <td>891800000</td>\n",
       "      <td>2018</td>\n",
       "    </tr>\n",
       "    <tr>\n",
       "      <th>0</th>\n",
       "      <td>Toy Story 3</td>\n",
       "      <td>BV</td>\n",
       "      <td>415000000.0</td>\n",
       "      <td>652000000</td>\n",
       "      <td>2010</td>\n",
       "    </tr>\n",
       "    <tr>\n",
       "      <th>2767</th>\n",
       "      <td>Wonder Woman</td>\n",
       "      <td>WB</td>\n",
       "      <td>412600000.0</td>\n",
       "      <td>409300000</td>\n",
       "      <td>2017</td>\n",
       "    </tr>\n",
       "    <tr>\n",
       "      <th>1128</th>\n",
       "      <td>Iron Man 3</td>\n",
       "      <td>BV</td>\n",
       "      <td>409000000.0</td>\n",
       "      <td>805800000</td>\n",
       "      <td>2013</td>\n",
       "    </tr>\n",
       "    <tr>\n",
       "      <th>2322</th>\n",
       "      <td>Captain America: Civil War</td>\n",
       "      <td>BV</td>\n",
       "      <td>408100000.0</td>\n",
       "      <td>745200000</td>\n",
       "      <td>2016</td>\n",
       "    </tr>\n",
       "    <tr>\n",
       "      <th>735</th>\n",
       "      <td>The Hunger Games</td>\n",
       "      <td>LGF</td>\n",
       "      <td>408000000.0</td>\n",
       "      <td>286400000</td>\n",
       "      <td>2012</td>\n",
       "    </tr>\n",
       "    <tr>\n",
       "      <th>2762</th>\n",
       "      <td>Jumanji: Welcome to the Jungle</td>\n",
       "      <td>Sony</td>\n",
       "      <td>404500000.0</td>\n",
       "      <td>557600000</td>\n",
       "      <td>2017</td>\n",
       "    </tr>\n",
       "  </tbody>\n",
       "</table>\n",
       "</div>"
      ],
      "text/plain": [
       "                                title studio  domestic_gross foreign_gross  \\\n",
       "1872     Star Wars: The Force Awakens     BV     936700000.0       1,131.6   \n",
       "3080                    Black Panther     BV     700100000.0     646900000   \n",
       "3079           Avengers: Infinity War     BV     678800000.0       1,369.5   \n",
       "1873                   Jurassic World   Uni.     652300000.0       1,019.4   \n",
       "727             Marvel's The Avengers     BV     623400000.0     895500000   \n",
       "2758         Star Wars: The Last Jedi     BV     620200000.0     712400000   \n",
       "3082                    Incredibles 2     BV     608600000.0     634200000   \n",
       "2323     Rogue One: A Star Wars Story     BV     532200000.0     523900000   \n",
       "2759      Beauty and the Beast (2017)     BV     504000000.0     759500000   \n",
       "2324                     Finding Dory     BV     486300000.0     542300000   \n",
       "1875          Avengers: Age of Ultron     BV     459000000.0     946400000   \n",
       "729             The Dark Knight Rises     WB     448100000.0     636800000   \n",
       "1131  The Hunger Games: Catching Fire    LGF     424700000.0     440300000   \n",
       "3081   Jurassic World: Fallen Kingdom   Uni.     417700000.0     891800000   \n",
       "0                         Toy Story 3     BV     415000000.0     652000000   \n",
       "2767                     Wonder Woman     WB     412600000.0     409300000   \n",
       "1128                       Iron Man 3     BV     409000000.0     805800000   \n",
       "2322       Captain America: Civil War     BV     408100000.0     745200000   \n",
       "735                  The Hunger Games    LGF     408000000.0     286400000   \n",
       "2762   Jumanji: Welcome to the Jungle   Sony     404500000.0     557600000   \n",
       "\n",
       "      year  \n",
       "1872  2015  \n",
       "3080  2018  \n",
       "3079  2018  \n",
       "1873  2015  \n",
       "727   2012  \n",
       "2758  2017  \n",
       "3082  2018  \n",
       "2323  2016  \n",
       "2759  2017  \n",
       "2324  2016  \n",
       "1875  2015  \n",
       "729   2012  \n",
       "1131  2013  \n",
       "3081  2018  \n",
       "0     2010  \n",
       "2767  2017  \n",
       "1128  2013  \n",
       "2322  2016  \n",
       "735   2012  \n",
       "2762  2017  "
      ]
     },
     "execution_count": 26,
     "metadata": {},
     "output_type": "execute_result"
    }
   ],
   "source": [
    "top20 = bommovie.head(20)\n",
    "top20"
   ]
  },
  {
   "cell_type": "markdown",
   "metadata": {},
   "source": [
    "## We then determined which studio made the most movies in our top 20"
   ]
  },
  {
   "cell_type": "code",
   "execution_count": 27,
   "metadata": {},
   "outputs": [
    {
     "data": {
      "text/plain": [
       "BV      65.0\n",
       "WB      10.0\n",
       "Uni.    10.0\n",
       "LGF     10.0\n",
       "Sony     5.0\n",
       "Name: studio, dtype: float64"
      ]
     },
     "execution_count": 27,
     "metadata": {},
     "output_type": "execute_result"
    }
   ],
   "source": [
    "top20['studio'].value_counts(normalize=True) * 100"
   ]
  },
  {
   "cell_type": "markdown",
   "metadata": {},
   "source": [
    "## We learned BV is the studio responsible for 65% of the top 20 highest grossing movies."
   ]
  },
  {
   "cell_type": "markdown",
   "metadata": {},
   "source": [
    "## Once we discovered Buena Vista (abbreviated \"BV\") is the movie studio that makes the majority of highest grossing movies, we made a bar chart to communicate this valuable information.\n",
    "\n",
    "## First, we created a color palette so each studio would be represented by a certain color"
   ]
  },
  {
   "cell_type": "code",
   "execution_count": 28,
   "metadata": {},
   "outputs": [],
   "source": [
    "\n",
    "custom_palette = []\n",
    "labels = [ ]\n",
    "for x in top20[\"studio\"]:\n",
    "    labels.append(x)\n",
    "    if x == \"BV\":\n",
    "        custom_palette.append('lightskyblue')\n",
    "    elif x==\"Uni.\":\n",
    "        custom_palette.append('mediumblue')\n",
    "    elif x==\"WB\":\n",
    "        custom_palette.append('darkslateblue')\n",
    "    elif x==\"LGF\":\n",
    "        custom_palette.append('blueviolet')\n",
    "    else:\n",
    "        custom_palette.append('plum')"
   ]
  },
  {
   "cell_type": "code",
   "execution_count": 29,
   "metadata": {},
   "outputs": [],
   "source": [
    "labels = set(labels)"
   ]
  },
  {
   "cell_type": "markdown",
   "metadata": {},
   "source": [
    "## Following this is the code to create our graph:"
   ]
  },
  {
   "cell_type": "code",
   "execution_count": 30,
   "metadata": {},
   "outputs": [
    {
     "data": {
      "image/png": "[encoded data removed]",
      "text/plain": [
       "<Figure size 1080x720 with 1 Axes>"
      ]
     },
     "metadata": {
      "needs_background": "light"
     },
     "output_type": "display_data"
    }
   ],
   "source": [
    "x = top20[\"title\"]\n",
    "y = top20[\"domestic_gross\"]\n",
    "\n",
    "plt.figure(figsize=(15, 10))\n",
    "sns.set_style('white')\n",
    "sns.set_palette(\"bright\")\n",
    "bar = sns.barplot(x = x,\n",
    "            y = y,\n",
    "            palette=custom_palette)\n",
    "custom_lines = [Line2D([0], [0], color=\"lightskyblue\", lw=4),\n",
    "                Line2D([0], [0], color=\"mediumblue\", lw=4),\n",
    "                Line2D([0], [0], color=\"darkslateblue\", lw=4),\n",
    "                Line2D([0], [0], color=\"blueviolet\", lw=4),\n",
    "                Line2D([0], [0], color=\"plum\", lw=4)]\n",
    "plt.legend(custom_lines, ['BV', 'Uni.', 'WB', \"LGF\", \"Sony\"], fontsize=\"xx-large\") ###\n",
    "\n",
    "plt.ylabel(\"Domestic Gross in Millions\", size=25)\n",
    "plt.xlabel(\"Movie\", size=25)\n",
    "bar.tick_params(axis='y', labelsize=20)\n",
    "plt.xticks(rotation = 90, size = 20)\n",
    "plt.title(\"Top 20 Grossing Movies by Studio\", size=30)\n",
    "\n",
    "plt.savefig(\"images/top20_barplot_Seaborn_barplot_Python.png\")\n",
    "\n",
    "plt.show();"
   ]
  },
  {
   "cell_type": "markdown",
   "metadata": {},
   "source": [
    "### Microsoft's best bet for making the highest domestic gross possible is using Buena Vistas studios or modeling their own studio off of Buena Vistas studios"
   ]
  },
  {
   "cell_type": "markdown",
   "metadata": {},
   "source": [
    "## First, I will add the dataframe to this project"
   ]
  },
  {
   "cell_type": "code",
   "execution_count": 31,
   "metadata": {},
   "outputs": [],
   "source": [
    "dff = pd.read_csv('data/zippedData/tmdb.movies.csv.gz')"
   ]
  },
  {
   "cell_type": "markdown",
   "metadata": {},
   "source": [
    "## Next, I will drop the unnecessary columns and limit the dataframe to movies that have received at least 1,000 votes"
   ]
  },
  {
   "cell_type": "code",
   "execution_count": 32,
   "metadata": {},
   "outputs": [],
   "source": [
    "dff = dff.drop(columns=['genre_ids', 'id', 'original_language','original_title', 'popularity'])"
   ]
  },
  {
   "cell_type": "code",
   "execution_count": 33,
   "metadata": {},
   "outputs": [],
   "source": [
    "new_df = dff[dff['vote_count'] > 1000]"
   ]
  },
  {
   "cell_type": "markdown",
   "metadata": {},
   "source": [
    "## Next, I will create a new column indicating the month that each movie was released"
   ]
  },
  {
   "cell_type": "code",
   "execution_count": 34,
   "metadata": {},
   "outputs": [
    {
     "name": "stderr",
     "output_type": "stream",
     "text": [
      "<ipython-input-34-2abd5f3ef3f7>:1: SettingWithCopyWarning: \n",
      "A value is trying to be set on a copy of a slice from a DataFrame.\n",
      "Try using .loc[row_indexer,col_indexer] = value instead\n",
      "\n",
      "See the caveats in the documentation: https://pandas.pydata.org/pandas-docs/stable/user_guide/indexing.html#returning-a-view-versus-a-copy\n",
      "  new_df['release_month'] = new_df['release_date'].str[5:7]\n"
     ]
    }
   ],
   "source": [
    "new_df['release_month'] = new_df['release_date'].str[5:7]"
   ]
  },
  {
   "cell_type": "markdown",
   "metadata": {},
   "source": [
    "## Finally, I will sort the dataframe by movies that received the highest rating"
   ]
  },
  {
   "cell_type": "code",
   "execution_count": 35,
   "metadata": {},
   "outputs": [],
   "source": [
    "highest_vote_average = new_df.sort_values('vote_average', ascending = False)\n",
    "highest_vote_average = highest_vote_average.head(1000)"
   ]
  },
  {
   "cell_type": "markdown",
   "metadata": {},
   "source": [
    "## I will now replace the numbers with numbers for each month with their corresponding name"
   ]
  },
  {
   "cell_type": "code",
   "execution_count": 36,
   "metadata": {},
   "outputs": [],
   "source": [
    "highest_vote_average['release_month'] = highest_vote_average['release_month'].replace(['01'], 'Jan')\n",
    "highest_vote_average['release_month'] = highest_vote_average['release_month'].replace(['02'], 'Feb')\n",
    "highest_vote_average['release_month'] = highest_vote_average['release_month'].replace(['03'], 'Mar')\n",
    "highest_vote_average['release_month'] = highest_vote_average['release_month'].replace(['04'], 'Apr')\n",
    "highest_vote_average['release_month'] = highest_vote_average['release_month'].replace(['05'], 'May')\n",
    "highest_vote_average['release_month'] = highest_vote_average['release_month'].replace(['06'], 'Jun')\n",
    "highest_vote_average['release_month'] = highest_vote_average['release_month'].replace(['07'], 'Jul')\n",
    "highest_vote_average['release_month'] = highest_vote_average['release_month'].replace(['08'], 'Aug')\n",
    "highest_vote_average['release_month'] = highest_vote_average['release_month'].replace(['09'], 'Sep')\n",
    "highest_vote_average['release_month'] = highest_vote_average['release_month'].replace(['10'], 'Oct')\n",
    "highest_vote_average['release_month'] = highest_vote_average['release_month'].replace(['11'], 'Nov')\n",
    "highest_vote_average['release_month'] = highest_vote_average['release_month'].replace(['12'], 'Dec')"
   ]
  },
  {
   "cell_type": "markdown",
   "metadata": {},
   "source": [
    "## My organized dataframe is below"
   ]
  },
  {
   "cell_type": "code",
   "execution_count": 37,
   "metadata": {},
   "outputs": [
    {
     "data": {
      "text/html": [
       "<div>\n",
       "<style scoped>\n",
       "    .dataframe tbody tr th:only-of-type {\n",
       "        vertical-align: middle;\n",
       "    }\n",
       "\n",
       "    .dataframe tbody tr th {\n",
       "        vertical-align: top;\n",
       "    }\n",
       "\n",
       "    .dataframe thead th {\n",
       "        text-align: right;\n",
       "    }\n",
       "</style>\n",
       "<table border=\"1\" class=\"dataframe\">\n",
       "  <thead>\n",
       "    <tr style=\"text-align: right;\">\n",
       "      <th></th>\n",
       "      <th>release_date</th>\n",
       "      <th>title</th>\n",
       "      <th>vote_average</th>\n",
       "      <th>vote_count</th>\n",
       "      <th>release_month</th>\n",
       "    </tr>\n",
       "  </thead>\n",
       "  <tbody>\n",
       "    <tr>\n",
       "      <th>20632</th>\n",
       "      <td>2017-04-07</td>\n",
       "      <td>Your Name.</td>\n",
       "      <td>8.6</td>\n",
       "      <td>4161</td>\n",
       "      <td>Apr</td>\n",
       "    </tr>\n",
       "    <tr>\n",
       "      <th>17389</th>\n",
       "      <td>2017-04-07</td>\n",
       "      <td>Your Name.</td>\n",
       "      <td>8.6</td>\n",
       "      <td>4161</td>\n",
       "      <td>Apr</td>\n",
       "    </tr>\n",
       "    <tr>\n",
       "      <th>20626</th>\n",
       "      <td>2002-09-20</td>\n",
       "      <td>Spirited Away</td>\n",
       "      <td>8.5</td>\n",
       "      <td>7424</td>\n",
       "      <td>Sep</td>\n",
       "    </tr>\n",
       "    <tr>\n",
       "      <th>14173</th>\n",
       "      <td>2002-09-20</td>\n",
       "      <td>Spirited Away</td>\n",
       "      <td>8.5</td>\n",
       "      <td>7424</td>\n",
       "      <td>Sep</td>\n",
       "    </tr>\n",
       "    <tr>\n",
       "      <th>23861</th>\n",
       "      <td>1993-12-15</td>\n",
       "      <td>Schindler's List</td>\n",
       "      <td>8.5</td>\n",
       "      <td>8065</td>\n",
       "      <td>Dec</td>\n",
       "    </tr>\n",
       "    <tr>\n",
       "      <th>...</th>\n",
       "      <td>...</td>\n",
       "      <td>...</td>\n",
       "      <td>...</td>\n",
       "      <td>...</td>\n",
       "      <td>...</td>\n",
       "    </tr>\n",
       "    <tr>\n",
       "      <th>140</th>\n",
       "      <td>2010-03-19</td>\n",
       "      <td>The Bounty Hunter</td>\n",
       "      <td>5.7</td>\n",
       "      <td>1627</td>\n",
       "      <td>Mar</td>\n",
       "    </tr>\n",
       "    <tr>\n",
       "      <th>11036</th>\n",
       "      <td>2014-12-12</td>\n",
       "      <td>Exodus: Gods and Kings</td>\n",
       "      <td>5.7</td>\n",
       "      <td>2909</td>\n",
       "      <td>Dec</td>\n",
       "    </tr>\n",
       "    <tr>\n",
       "      <th>20824</th>\n",
       "      <td>2017-06-23</td>\n",
       "      <td>The Beguiled</td>\n",
       "      <td>5.7</td>\n",
       "      <td>1170</td>\n",
       "      <td>Jun</td>\n",
       "    </tr>\n",
       "    <tr>\n",
       "      <th>17425</th>\n",
       "      <td>2016-05-20</td>\n",
       "      <td>Neighbors 2: Sorority Rising</td>\n",
       "      <td>5.7</td>\n",
       "      <td>2829</td>\n",
       "      <td>May</td>\n",
       "    </tr>\n",
       "    <tr>\n",
       "      <th>7991</th>\n",
       "      <td>2013-02-14</td>\n",
       "      <td>Beautiful Creatures</td>\n",
       "      <td>5.7</td>\n",
       "      <td>1826</td>\n",
       "      <td>Feb</td>\n",
       "    </tr>\n",
       "  </tbody>\n",
       "</table>\n",
       "<p>1000 rows × 5 columns</p>\n",
       "</div>"
      ],
      "text/plain": [
       "      release_date                         title  vote_average  vote_count  \\\n",
       "20632   2017-04-07                    Your Name.           8.6        4161   \n",
       "17389   2017-04-07                    Your Name.           8.6        4161   \n",
       "20626   2002-09-20                 Spirited Away           8.5        7424   \n",
       "14173   2002-09-20                 Spirited Away           8.5        7424   \n",
       "23861   1993-12-15              Schindler's List           8.5        8065   \n",
       "...            ...                           ...           ...         ...   \n",
       "140     2010-03-19             The Bounty Hunter           5.7        1627   \n",
       "11036   2014-12-12        Exodus: Gods and Kings           5.7        2909   \n",
       "20824   2017-06-23                  The Beguiled           5.7        1170   \n",
       "17425   2016-05-20  Neighbors 2: Sorority Rising           5.7        2829   \n",
       "7991    2013-02-14           Beautiful Creatures           5.7        1826   \n",
       "\n",
       "      release_month  \n",
       "20632           Apr  \n",
       "17389           Apr  \n",
       "20626           Sep  \n",
       "14173           Sep  \n",
       "23861           Dec  \n",
       "...             ...  \n",
       "140             Mar  \n",
       "11036           Dec  \n",
       "20824           Jun  \n",
       "17425           May  \n",
       "7991            Feb  \n",
       "\n",
       "[1000 rows x 5 columns]"
      ]
     },
     "execution_count": 37,
     "metadata": {},
     "output_type": "execute_result"
    }
   ],
   "source": [
    "highest_vote_average"
   ]
  },
  {
   "cell_type": "markdown",
   "metadata": {},
   "source": [
    "## My bar graph is below"
   ]
  },
  {
   "cell_type": "code",
   "execution_count": 38,
   "metadata": {},
   "outputs": [
    {
     "data": {
      "text/plain": [
       "(0.0, 10.0)"
      ]
     },
     "execution_count": 38,
     "metadata": {},
     "output_type": "execute_result"
    },
    {
     "data": {
      "image/png": "[encoded data removed]",
      "text/plain": [
       "<Figure size 432x288 with 1 Axes>"
      ]
     },
     "metadata": {},
     "output_type": "display_data"
    }
   ],
   "source": [
    "bar2 = plt.barh(highest_vote_average['release_month'], highest_vote_average['vote_average'])\n",
    "plt.title('Average Rating of Movies for each Month')\n",
    "plt.xlabel('Rating')\n",
    "plt.ylabel('Month')\n",
    "plt.savefig(\"images/Month_and_Rating\")\n",
    "plt.xlim([0, 10])"
   ]
  },
  {
   "cell_type": "markdown",
   "metadata": {},
   "source": [
    "### This visual shows that there is no significnce to which month a movie is released based off ratings."
   ]
  },
  {
   "cell_type": "markdown",
   "metadata": {},
   "source": [
    "# Dataframe with Director and Grossing Information"
   ]
  },
  {
   "cell_type": "markdown",
   "metadata": {},
   "source": [
    "## First, I will add the dataframe with movie grossing information to this project"
   ]
  },
  {
   "cell_type": "code",
   "execution_count": 39,
   "metadata": {},
   "outputs": [],
   "source": [
    "df44 = pd.read_csv('data/zippedData/tn.movie_budgets.csv.gz')\n"
   ]
  },
  {
   "cell_type": "markdown",
   "metadata": {},
   "source": [
    "## Next, I will sort the dataframe by worldwide gross and get rid of the commas and dollar signs"
   ]
  },
  {
   "cell_type": "code",
   "execution_count": 40,
   "metadata": {},
   "outputs": [],
   "source": [
    "highest_gross = df44.sort_values('worldwide_gross', ascending=False)"
   ]
  },
  {
   "cell_type": "code",
   "execution_count": 41,
   "metadata": {},
   "outputs": [],
   "source": [
    "highest_gross['worldwide_gross'] = highest_gross['worldwide_gross'].apply(lambda x: x.replace(',', '').replace('$', '')).astype('int64')"
   ]
  },
  {
   "cell_type": "markdown",
   "metadata": {},
   "source": [
    "## Then, I will add the dataframe with director information"
   ]
  },
  {
   "cell_type": "code",
   "execution_count": 42,
   "metadata": {},
   "outputs": [],
   "source": [
    "df33 = pd.read_csv('data/zippedData/rotten_tomatoes_movies.csv.gz')"
   ]
  },
  {
   "cell_type": "markdown",
   "metadata": {},
   "source": [
    "## Now, I will drop unnecessary columns and rows with null values"
   ]
  },
  {
   "cell_type": "code",
   "execution_count": 43,
   "metadata": {},
   "outputs": [],
   "source": [
    "df33 = df33.drop(columns=['rotten_tomatoes_link', 'movie_info', 'critics_consensus', 'original_release_date', 'authors','actors', 'production_company', 'tomatometer_status', 'tomatometer_rating', 'tomatometer_count', 'audience_status', 'audience_rating', 'audience_count', 'tomatometer_top_critics_count', 'tomatometer_fresh_critics_count', 'tomatometer_rotten_critics_count', 'streaming_release_date', 'runtime'])"
   ]
  },
  {
   "cell_type": "code",
   "execution_count": 44,
   "metadata": {},
   "outputs": [],
   "source": [
    "df33 = df33.dropna()"
   ]
  },
  {
   "cell_type": "markdown",
   "metadata": {},
   "source": [
    "## After that, I will filter out genres that do not contain the word adventure"
   ]
  },
  {
   "cell_type": "code",
   "execution_count": 45,
   "metadata": {},
   "outputs": [],
   "source": [
    "df33 = df33[df33['genres'].str.contains('Adventure')]"
   ]
  },
  {
   "cell_type": "markdown",
   "metadata": {},
   "source": [
    "## Next, I will merge the two dataframes together based on movie title"
   ]
  },
  {
   "cell_type": "code",
   "execution_count": 46,
   "metadata": {},
   "outputs": [],
   "source": [
    "final_df = pd.merge(df33, highest_gross, how='inner', left_on='movie_title', right_on='movie')"
   ]
  },
  {
   "cell_type": "markdown",
   "metadata": {},
   "source": [
    "## I will then remove commas and dollar signs and create a profit column"
   ]
  },
  {
   "cell_type": "code",
   "execution_count": 47,
   "metadata": {},
   "outputs": [],
   "source": [
    "final_df['production_budget'] = final_df['production_budget'].apply(lambda x: x.replace(',', '').replace('$', '')).astype('int64')"
   ]
  },
  {
   "cell_type": "code",
   "execution_count": 48,
   "metadata": {},
   "outputs": [],
   "source": [
    "final_df['production_budget'] = final_df['production_budget'].astype('int64')"
   ]
  },
  {
   "cell_type": "code",
   "execution_count": 49,
   "metadata": {},
   "outputs": [],
   "source": [
    "final_df['profit'] = final_df['worldwide_gross'] - final_df['production_budget']"
   ]
  },
  {
   "cell_type": "markdown",
   "metadata": {},
   "source": [
    "## I will create a new dataframe combining the directors top 10 directors so that I can compare their average profits"
   ]
  },
  {
   "cell_type": "code",
   "execution_count": 50,
   "metadata": {},
   "outputs": [],
   "source": [
    "directors_df = final_df.groupby('directors').mean()"
   ]
  },
  {
   "cell_type": "code",
   "execution_count": 51,
   "metadata": {},
   "outputs": [],
   "source": [
    "directors_df = directors_df.sort_values('profit', ascending = False)"
   ]
  },
  {
   "cell_type": "code",
   "execution_count": 52,
   "metadata": {},
   "outputs": [],
   "source": [
    "directors_df = directors_df.head(10)"
   ]
  },
  {
   "cell_type": "markdown",
   "metadata": {},
   "source": [
    "## My organized dataframe is below"
   ]
  },
  {
   "cell_type": "code",
   "execution_count": 53,
   "metadata": {},
   "outputs": [
    {
     "data": {
      "text/html": [
       "<div>\n",
       "<style scoped>\n",
       "    .dataframe tbody tr th:only-of-type {\n",
       "        vertical-align: middle;\n",
       "    }\n",
       "\n",
       "    .dataframe tbody tr th {\n",
       "        vertical-align: top;\n",
       "    }\n",
       "\n",
       "    .dataframe thead th {\n",
       "        text-align: right;\n",
       "    }\n",
       "</style>\n",
       "<table border=\"1\" class=\"dataframe\">\n",
       "  <thead>\n",
       "    <tr style=\"text-align: right;\">\n",
       "      <th></th>\n",
       "      <th>id</th>\n",
       "      <th>production_budget</th>\n",
       "      <th>worldwide_gross</th>\n",
       "      <th>profit</th>\n",
       "    </tr>\n",
       "    <tr>\n",
       "      <th>directors</th>\n",
       "      <th></th>\n",
       "      <th></th>\n",
       "      <th></th>\n",
       "      <th></th>\n",
       "    </tr>\n",
       "  </thead>\n",
       "  <tbody>\n",
       "    <tr>\n",
       "      <th>Jean Negulesco</th>\n",
       "      <td>43.0</td>\n",
       "      <td>200000000.0</td>\n",
       "      <td>2.208208e+09</td>\n",
       "      <td>2.008208e+09</td>\n",
       "    </tr>\n",
       "    <tr>\n",
       "      <th>Colin Trevorrow</th>\n",
       "      <td>34.0</td>\n",
       "      <td>215000000.0</td>\n",
       "      <td>1.648855e+09</td>\n",
       "      <td>1.433855e+09</td>\n",
       "    </tr>\n",
       "    <tr>\n",
       "      <th>Anthony Russo</th>\n",
       "      <td>12.0</td>\n",
       "      <td>275000000.0</td>\n",
       "      <td>1.594102e+09</td>\n",
       "      <td>1.319102e+09</td>\n",
       "    </tr>\n",
       "    <tr>\n",
       "      <th>Ryan Coogler</th>\n",
       "      <td>42.0</td>\n",
       "      <td>200000000.0</td>\n",
       "      <td>1.348258e+09</td>\n",
       "      <td>1.148258e+09</td>\n",
       "    </tr>\n",
       "    <tr>\n",
       "      <th>Chris Buck, Jennifer Lee</th>\n",
       "      <td>56.0</td>\n",
       "      <td>150000000.0</td>\n",
       "      <td>1.272470e+09</td>\n",
       "      <td>1.122470e+09</td>\n",
       "    </tr>\n",
       "    <tr>\n",
       "      <th>Brad Bird</th>\n",
       "      <td>44.0</td>\n",
       "      <td>200000000.0</td>\n",
       "      <td>1.242521e+09</td>\n",
       "      <td>1.042521e+09</td>\n",
       "    </tr>\n",
       "    <tr>\n",
       "      <th>Anna Boden, Ryan Fleck</th>\n",
       "      <td>96.0</td>\n",
       "      <td>175000000.0</td>\n",
       "      <td>1.123062e+09</td>\n",
       "      <td>9.480616e+08</td>\n",
       "    </tr>\n",
       "    <tr>\n",
       "      <th>Roger Allers, Rob Minkoff</th>\n",
       "      <td>9.0</td>\n",
       "      <td>79300000.0</td>\n",
       "      <td>9.862149e+08</td>\n",
       "      <td>9.069149e+08</td>\n",
       "    </tr>\n",
       "    <tr>\n",
       "      <th>Jake Kasdan</th>\n",
       "      <td>38.0</td>\n",
       "      <td>90000000.0</td>\n",
       "      <td>9.644962e+08</td>\n",
       "      <td>8.744962e+08</td>\n",
       "    </tr>\n",
       "    <tr>\n",
       "      <th>Byron Howard, Rich Moore, Jared Bush</th>\n",
       "      <td>57.0</td>\n",
       "      <td>150000000.0</td>\n",
       "      <td>1.019430e+09</td>\n",
       "      <td>8.694296e+08</td>\n",
       "    </tr>\n",
       "  </tbody>\n",
       "</table>\n",
       "</div>"
      ],
      "text/plain": [
       "                                        id  production_budget  \\\n",
       "directors                                                       \n",
       "Jean Negulesco                        43.0        200000000.0   \n",
       "Colin Trevorrow                       34.0        215000000.0   \n",
       "Anthony Russo                         12.0        275000000.0   \n",
       "Ryan Coogler                          42.0        200000000.0   \n",
       "Chris Buck, Jennifer Lee              56.0        150000000.0   \n",
       "Brad Bird                             44.0        200000000.0   \n",
       "Anna Boden, Ryan Fleck                96.0        175000000.0   \n",
       "Roger Allers, Rob Minkoff              9.0         79300000.0   \n",
       "Jake Kasdan                           38.0         90000000.0   \n",
       "Byron Howard, Rich Moore, Jared Bush  57.0        150000000.0   \n",
       "\n",
       "                                      worldwide_gross        profit  \n",
       "directors                                                            \n",
       "Jean Negulesco                           2.208208e+09  2.008208e+09  \n",
       "Colin Trevorrow                          1.648855e+09  1.433855e+09  \n",
       "Anthony Russo                            1.594102e+09  1.319102e+09  \n",
       "Ryan Coogler                             1.348258e+09  1.148258e+09  \n",
       "Chris Buck, Jennifer Lee                 1.272470e+09  1.122470e+09  \n",
       "Brad Bird                                1.242521e+09  1.042521e+09  \n",
       "Anna Boden, Ryan Fleck                   1.123062e+09  9.480616e+08  \n",
       "Roger Allers, Rob Minkoff                9.862149e+08  9.069149e+08  \n",
       "Jake Kasdan                              9.644962e+08  8.744962e+08  \n",
       "Byron Howard, Rich Moore, Jared Bush     1.019430e+09  8.694296e+08  "
      ]
     },
     "execution_count": 53,
     "metadata": {},
     "output_type": "execute_result"
    }
   ],
   "source": [
    "directors_df"
   ]
  },
  {
   "cell_type": "markdown",
   "metadata": {},
   "source": [
    "## My bar graph is below"
   ]
  },
  {
   "cell_type": "code",
   "execution_count": 54,
   "metadata": {},
   "outputs": [
    {
     "data": {
      "image/png": "[encoded data removed]",
      "text/plain": [
       "<Figure size 432x288 with 1 Axes>"
      ]
     },
     "metadata": {},
     "output_type": "display_data"
    }
   ],
   "source": [
    "bar4 = plt.barh(directors_df.index, directors_df['profit'])\n",
    "plt.title('Adventure Movie Directors with Most Profitable Movies on Average')\n",
    "plt.xlabel('Profit (hundred million)')\n",
    "plt.ylabel('Directors')\n",
    "plt.savefig(\"images/Directors_and_Profit_for_Adventure_Movies\", bbox_inches='tight')"
   ]
  },
  {
   "cell_type": "markdown",
   "metadata": {},
   "source": [
    "### Microsoft's best choice of Director is Jean Negulesco based off his involvement in the production of the most Profitable Adventure movies."
   ]
  },
  {
   "cell_type": "markdown",
   "metadata": {},
   "source": [
    "# Conclusion"
   ]
  },
  {
   "cell_type": "markdown",
   "metadata": {},
   "source": [
    "## We suggest using Buena Vistas studios or modeling Microsoft's studio after BV practices. Addtionally, Microsoft should create an Adventure movie with an NR rating, with a run time between 100 minutes and 131 minutes. We also recommend hiring Jean Negulsesco as the director and to not worry about release month. This should create the most profitable movie.\n"
   ]
  }
 ],
 "metadata": {
  "kernelspec": {
   "display_name": "learn-env",
   "language": "python",
   "name": "learn-env"
  },
  "language_info": {
   "codemirror_mode": {
    "name": "ipython",
    "version": 3
   },
   "file_extension": ".py",
   "mimetype": "text/x-python",
   "name": "python",
   "nbconvert_exporter": "python",
   "pygments_lexer": "ipython3",
   "version": "3.8.5"
  }
 },
 "nbformat": 4,
 "nbformat_minor": 4
}
