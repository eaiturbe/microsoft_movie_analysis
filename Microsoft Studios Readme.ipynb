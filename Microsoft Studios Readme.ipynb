{
 "cells": [
  {
   "cell_type": "markdown",
   "metadata": {},
   "source": [
    "# Microsoft Movie Analysis\n",
    "**Authors:** Elliott Iturbe, Colette Crowder, Will Toranto"
   ]
  },
  {
   "cell_type": "markdown",
   "metadata": {},
   "source": [
    "### Overview\n",
    "This project aims to discover how to make the most profitable movie possible in order to make business recommendations to Microsoft. Descriptive analyses of a variety of data on previously released movies reveal that the most profitable movie Microsoft could make is an adventure movie with an NR rating, directed by Jean Negulsesco, with a runtime between 100 minutes and 131 minutes, at Buena Vistas studios."
   ]
  },
  {
   "cell_type": "markdown",
   "metadata": {},
   "source": [
    "### Business Problem\n",
    "Microsoft wants to open a movie studio that can compete with other successful movie studios. However, they lack knowledge about filmmaking. To help them in this area, we will find out how a variety of factors affect the popularity of movies and offer recommendations.\n"
   ]
  },
  {
   "cell_type": "markdown",
   "metadata": {},
   "source": [
    "### Data\n",
    "We used data on gross, genre, studio, director, release date, MPR rating, Rotten Tomatoes score, and run time\n",
    "\n",
    "Where from??\n",
    "\n",
    "Questions to consider:\n",
    "\n",
    "Where did the data come from, and how do they relate to the data analysis questions?\n",
    "What do the data represent? Who is in the sample and what variables are included?\n",
    "What is the target variable?\n",
    "What are the properties of the variables you intend to use?"
   ]
  },
  {
   "cell_type": "markdown",
   "metadata": {},
   "source": [
    "Methods\n",
    "Describe the process for analyzing or modeling the data. For Phase 1, this will be descriptive analysis.\n",
    "\n",
    "Questions to consider:\n",
    "\n",
    "How did you prepare, analyze or model the data?\n",
    "Why is this approach appropriate given the data and the business problem?\n",
    "\n",
    "Results\n",
    "Present your key results. For Phase 1, this will be findings from your descriptive analysis.\n",
    "\n",
    "Questions to consider:\n",
    "\n",
    "How do you interpret the results?\n",
    "How confident are you that your results would generalize beyond the data you have?\n",
    "Here is an example of how to embed images from your sub-folder:\n",
    "\n",
    "Visual 1\n",
    "\n",
    "\n",
    "Conclusions\n",
    "Provide your conclusions about the work you've done, including any limitations or next steps.\n",
    "\n",
    "Questions to consider:\n",
    "\n",
    "What would you recommend the business do as a result of this work?\n",
    "What are some reasons why your analysis might not fully solve the business problem?\n",
    "What else could you do in the future to improve this project?\n",
    "For More Information\n",
    "Please review our full analysis in our Jupyter Notebook or our presentation.\n",
    "\n",
    "For any additional questions, please contact name & email, name & email\n",
    "\n",
    "Repository Structure\n",
    "Describe the structure of your repository and its contents, for example:\n",
    "\n",
    "├── README.md                           <- The top-level README for reviewers of this project\n",
    "├── dsc-phase1-project-template.ipynb   <- Narrative documentation of analysis in Jupyter notebook\n",
    "├── DS_Project_Presentation.pdf         <- PDF version of project presentation\n",
    "├── data                                <- Both sourced externally and generated from code\n",
    "└── images                              <- Both sourced externally and generated from code"
   ]
  }
 ],
 "metadata": {
  "kernelspec": {
   "display_name": "learn-env",
   "language": "python",
   "name": "learn-env"
  },
  "language_info": {
   "codemirror_mode": {
    "name": "ipython",
    "version": 3
   },
   "file_extension": ".py",
   "mimetype": "text/x-python",
   "name": "python",
   "nbconvert_exporter": "python",
   "pygments_lexer": "ipython3",
   "version": "3.8.5"
  }
 },
 "nbformat": 4,
 "nbformat_minor": 4
}
