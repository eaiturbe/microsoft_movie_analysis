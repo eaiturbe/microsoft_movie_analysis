{
 "cells": [
  {
   "cell_type": "code",
   "execution_count": 274,
   "metadata": {},
   "outputs": [],
   "source": [
    "import sqlite3\n",
    "\n",
    "import requests\n",
    "\n",
    "import pandas as pd\n",
    "\n",
    "import numpy as np\n",
    "\n",
    "import matplotlib.pyplot as plt\n",
    "\n",
    "import json\n",
    "\n",
    "import seaborn as sns\n",
    "\n",
    "import matplotlib.patches as mpatches"
   ]
  },
  {
   "cell_type": "code",
   "execution_count": 275,
   "metadata": {},
   "outputs": [],
   "source": [
    "df = pd.read_csv('data/zippedData/tmdb.movies.csv.gz')"
   ]
  },
  {
   "cell_type": "code",
   "execution_count": 276,
   "metadata": {},
   "outputs": [],
   "source": [
    "df = df.drop(columns=['genre_ids', 'id', 'original_language', 'release_date', 'original_title', 'popularity'])"
   ]
  },
  {
   "cell_type": "code",
   "execution_count": 277,
   "metadata": {},
   "outputs": [],
   "source": [
    "new_df = df[df['vote_count'] > 10000]"
   ]
  },
  {
   "cell_type": "code",
   "execution_count": 278,
   "metadata": {
    "scrolled": true
   },
   "outputs": [
    {
     "data": {
      "text/html": [
       "<div>\n",
       "<style scoped>\n",
       "    .dataframe tbody tr th:only-of-type {\n",
       "        vertical-align: middle;\n",
       "    }\n",
       "\n",
       "    .dataframe tbody tr th {\n",
       "        vertical-align: top;\n",
       "    }\n",
       "\n",
       "    .dataframe thead th {\n",
       "        text-align: right;\n",
       "    }\n",
       "</style>\n",
       "<table border=\"1\" class=\"dataframe\">\n",
       "  <thead>\n",
       "    <tr style=\"text-align: right;\">\n",
       "      <th></th>\n",
       "      <th>title</th>\n",
       "      <th>vote_average</th>\n",
       "      <th>vote_count</th>\n",
       "    </tr>\n",
       "  </thead>\n",
       "  <tbody>\n",
       "    <tr>\n",
       "      <th>4</th>\n",
       "      <td>Inception</td>\n",
       "      <td>8.3</td>\n",
       "      <td>22186</td>\n",
       "    </tr>\n",
       "    <tr>\n",
       "      <th>23811</th>\n",
       "      <td>Avengers: Infinity War</td>\n",
       "      <td>8.3</td>\n",
       "      <td>13948</td>\n",
       "    </tr>\n",
       "    <tr>\n",
       "      <th>11032</th>\n",
       "      <td>Interstellar</td>\n",
       "      <td>8.2</td>\n",
       "      <td>18597</td>\n",
       "    </tr>\n",
       "    <tr>\n",
       "      <th>2472</th>\n",
       "      <td>The Lion King</td>\n",
       "      <td>8.2</td>\n",
       "      <td>10160</td>\n",
       "    </tr>\n",
       "    <tr>\n",
       "      <th>2471</th>\n",
       "      <td>Harry Potter and the Deathly Hallows: Part 2</td>\n",
       "      <td>8.1</td>\n",
       "      <td>11567</td>\n",
       "    </tr>\n",
       "    <tr>\n",
       "      <th>11026</th>\n",
       "      <td>The Imitation Game</td>\n",
       "      <td>8.1</td>\n",
       "      <td>10396</td>\n",
       "    </tr>\n",
       "    <tr>\n",
       "      <th>19</th>\n",
       "      <td>Shutter Island</td>\n",
       "      <td>8.1</td>\n",
       "      <td>12625</td>\n",
       "    </tr>\n",
       "    <tr>\n",
       "      <th>14184</th>\n",
       "      <td>Inside Out</td>\n",
       "      <td>8.0</td>\n",
       "      <td>12691</td>\n",
       "    </tr>\n",
       "    <tr>\n",
       "      <th>5189</th>\n",
       "      <td>Django Unchained</td>\n",
       "      <td>8.0</td>\n",
       "      <td>15725</td>\n",
       "    </tr>\n",
       "    <tr>\n",
       "      <th>7883</th>\n",
       "      <td>The Wolf of Wall Street</td>\n",
       "      <td>7.9</td>\n",
       "      <td>12411</td>\n",
       "    </tr>\n",
       "  </tbody>\n",
       "</table>\n",
       "</div>"
      ],
      "text/plain": [
       "                                              title  vote_average  vote_count\n",
       "4                                         Inception           8.3       22186\n",
       "23811                        Avengers: Infinity War           8.3       13948\n",
       "11032                                  Interstellar           8.2       18597\n",
       "2472                                  The Lion King           8.2       10160\n",
       "2471   Harry Potter and the Deathly Hallows: Part 2           8.1       11567\n",
       "11026                            The Imitation Game           8.1       10396\n",
       "19                                   Shutter Island           8.1       12625\n",
       "14184                                    Inside Out           8.0       12691\n",
       "5189                               Django Unchained           8.0       15725\n",
       "7883                        The Wolf of Wall Street           7.9       12411"
      ]
     },
     "execution_count": 278,
     "metadata": {},
     "output_type": "execute_result"
    }
   ],
   "source": [
    "highest_vote_average = new_df.sort_values('vote_average', ascending = False)\n",
    "highest_vote_average = highest_vote_average.head(10)\n",
    "highest_vote_average"
   ]
  },
  {
   "cell_type": "code",
   "execution_count": 299,
   "metadata": {},
   "outputs": [
    {
     "data": {
      "image/png": "[encoded data removed]",
      "text/plain": [
       "<Figure size 432x288 with 1 Axes>"
      ]
     },
     "metadata": {
      "needs_background": "light"
     },
     "output_type": "display_data"
    }
   ],
   "source": [
    " bar1 = plt.barh(highest_vote_average['title'], highest_vote_average['vote_count'])\n",
    "bar1[9].set_color('black')\n",
    "bar1[8].set_color('black')\n",
    "bar1[7].set_color('b')\n",
    "bar1[6].set_color('black')\n",
    "bar1[5].set_color('g')\n",
    "bar1[4].set_color('g')\n",
    "bar1[3].set_color('c')\n",
    "bar1[2].set_color('g')\n",
    "bar1[1].set_color('g')\n",
    "bar1[0].set_color('g')\n",
    "plt.title('Vote Count for 10 Highest Rated Movies with Ratings')\n",
    "plt.xlabel('Vote Count')\n",
    "plt.ylabel('Movie Title')\n",
    "\n",
    "cyan_patch = mpatches.Patch(color='c', label='G')\n",
    "blue_patch = mpatches.Patch(color='b', label='PG')\n",
    "green_patch = mpatches.Patch(color='g', label='PG-13')\n",
    "black_patch = mpatches.Patch(color='black', label='R')\n",
    "plt.legend(handles=[cyan_patch, blue_patch, green_patch, black_patch])\n",
    "\n",
    "plt.show()"
   ]
  },
  {
   "cell_type": "code",
   "execution_count": 280,
   "metadata": {},
   "outputs": [],
   "source": [
    "df2 = pd.read_csv('data/zippedData/tn.movie_budgets.csv.gz')"
   ]
  },
  {
   "cell_type": "code",
   "execution_count": 281,
   "metadata": {},
   "outputs": [],
   "source": [
    "df2 = df2.drop(columns=['release_date', 'id'])"
   ]
  },
  {
   "cell_type": "code",
   "execution_count": 282,
   "metadata": {},
   "outputs": [],
   "source": [
    "df2['production_budget'] = df2['production_budget'].astype(str)\n",
    "df2['production_budget'] = df2['production_budget'].str.replace(',','').str.replace('$','').astype('int64')\n",
    "df2['domestic_gross'] = df2['domestic_gross'].astype(str)\n",
    "df2['domestic_gross'] = df2['domestic_gross'].str.replace(',','').str.replace('$','').astype('int')\n",
    "df2['worldwide_gross'] = df2['worldwide_gross'].astype(str)\n",
    "df2['worldwide_gross'] = df2['worldwide_gross'].str.replace(',','').str.replace('$','').astype('int64')"
   ]
  },
  {
   "cell_type": "code",
   "execution_count": 283,
   "metadata": {},
   "outputs": [
    {
     "data": {
      "text/html": [
       "<div>\n",
       "<style scoped>\n",
       "    .dataframe tbody tr th:only-of-type {\n",
       "        vertical-align: middle;\n",
       "    }\n",
       "\n",
       "    .dataframe tbody tr th {\n",
       "        vertical-align: top;\n",
       "    }\n",
       "\n",
       "    .dataframe thead th {\n",
       "        text-align: right;\n",
       "    }\n",
       "</style>\n",
       "<table border=\"1\" class=\"dataframe\">\n",
       "  <thead>\n",
       "    <tr style=\"text-align: right;\">\n",
       "      <th></th>\n",
       "      <th>movie</th>\n",
       "      <th>production_budget</th>\n",
       "      <th>domestic_gross</th>\n",
       "      <th>worldwide_gross</th>\n",
       "    </tr>\n",
       "  </thead>\n",
       "  <tbody>\n",
       "    <tr>\n",
       "      <th>0</th>\n",
       "      <td>Avatar</td>\n",
       "      <td>425000000</td>\n",
       "      <td>760507625</td>\n",
       "      <td>2776345279</td>\n",
       "    </tr>\n",
       "    <tr>\n",
       "      <th>42</th>\n",
       "      <td>Titanic</td>\n",
       "      <td>200000000</td>\n",
       "      <td>659363944</td>\n",
       "      <td>2208208395</td>\n",
       "    </tr>\n",
       "    <tr>\n",
       "      <th>5</th>\n",
       "      <td>Star Wars Ep. VII: The Force Awakens</td>\n",
       "      <td>306000000</td>\n",
       "      <td>936662225</td>\n",
       "      <td>2053311220</td>\n",
       "    </tr>\n",
       "    <tr>\n",
       "      <th>6</th>\n",
       "      <td>Avengers: Infinity War</td>\n",
       "      <td>300000000</td>\n",
       "      <td>678815482</td>\n",
       "      <td>2048134200</td>\n",
       "    </tr>\n",
       "    <tr>\n",
       "      <th>33</th>\n",
       "      <td>Jurassic World</td>\n",
       "      <td>215000000</td>\n",
       "      <td>652270625</td>\n",
       "      <td>1648854864</td>\n",
       "    </tr>\n",
       "    <tr>\n",
       "      <th>...</th>\n",
       "      <td>...</td>\n",
       "      <td>...</td>\n",
       "      <td>...</td>\n",
       "      <td>...</td>\n",
       "    </tr>\n",
       "    <tr>\n",
       "      <th>54</th>\n",
       "      <td>X-Men: Days of Future Past</td>\n",
       "      <td>200000000</td>\n",
       "      <td>233921534</td>\n",
       "      <td>747862775</td>\n",
       "    </tr>\n",
       "    <tr>\n",
       "      <th>196</th>\n",
       "      <td>Madagascar 3: Europe's Most Wanted</td>\n",
       "      <td>145000000</td>\n",
       "      <td>216391482</td>\n",
       "      <td>746921271</td>\n",
       "    </tr>\n",
       "    <tr>\n",
       "      <th>99</th>\n",
       "      <td>Suicide Squad</td>\n",
       "      <td>175000000</td>\n",
       "      <td>325100054</td>\n",
       "      <td>746059887</td>\n",
       "    </tr>\n",
       "    <tr>\n",
       "      <th>52</th>\n",
       "      <td>Monsters University</td>\n",
       "      <td>200000000</td>\n",
       "      <td>268488329</td>\n",
       "      <td>743588329</td>\n",
       "    </tr>\n",
       "    <tr>\n",
       "      <th>159</th>\n",
       "      <td>The Matrix Reloaded</td>\n",
       "      <td>150000000</td>\n",
       "      <td>281553689</td>\n",
       "      <td>738576929</td>\n",
       "    </tr>\n",
       "  </tbody>\n",
       "</table>\n",
       "<p>100 rows × 4 columns</p>\n",
       "</div>"
      ],
      "text/plain": [
       "                                    movie  production_budget  domestic_gross  \\\n",
       "0                                  Avatar          425000000       760507625   \n",
       "42                                Titanic          200000000       659363944   \n",
       "5    Star Wars Ep. VII: The Force Awakens          306000000       936662225   \n",
       "6                  Avengers: Infinity War          300000000       678815482   \n",
       "33                         Jurassic World          215000000       652270625   \n",
       "..                                    ...                ...             ...   \n",
       "54             X-Men: Days of Future Past          200000000       233921534   \n",
       "196    Madagascar 3: Europe's Most Wanted          145000000       216391482   \n",
       "99                          Suicide Squad          175000000       325100054   \n",
       "52                    Monsters University          200000000       268488329   \n",
       "159                   The Matrix Reloaded          150000000       281553689   \n",
       "\n",
       "     worldwide_gross  \n",
       "0         2776345279  \n",
       "42        2208208395  \n",
       "5         2053311220  \n",
       "6         2048134200  \n",
       "33        1648854864  \n",
       "..               ...  \n",
       "54         747862775  \n",
       "196        746921271  \n",
       "99         746059887  \n",
       "52         743588329  \n",
       "159        738576929  \n",
       "\n",
       "[100 rows x 4 columns]"
      ]
     },
     "execution_count": 283,
     "metadata": {},
     "output_type": "execute_result"
    }
   ],
   "source": [
    "highest_worldwide_gross = df2.sort_values('worldwide_gross', ascending = False)\n",
    "highest_worldwide_gross = highest_worldwide_gross.head(100)\n",
    "highest_worldwide_gross"
   ]
  },
  {
   "cell_type": "code",
   "execution_count": 284,
   "metadata": {},
   "outputs": [
    {
     "data": {
      "image/png": "[encoded data removed]",
      "text/plain": [
       "<Figure size 432x288 with 1 Axes>"
      ]
     },
     "metadata": {
      "needs_background": "light"
     },
     "output_type": "display_data"
    }
   ],
   "source": [
    "data = highest_worldwide_gross[['production_budget', 'worldwide_gross']]\n",
    "x = data['production_budget']\n",
    "y = data['worldwide_gross']\n",
    "plt.scatter(x, y)\n",
    "\n",
    "z = np.polyfit(x, y, 1)\n",
    "p = np.poly1d(z)\n",
    "plt.plot(x,p(x),\"r--\")\n",
    "\n",
    "plt.title('Budget for 100 Highest Grossing Movies')\n",
    "plt.xlabel('Production Budget (hundred million)')\n",
    "plt.ylabel('Worldwide Gross (hundred million)')\n",
    "\n",
    "plt.show()"
   ]
  },
  {
   "cell_type": "code",
   "execution_count": null,
   "metadata": {},
   "outputs": [],
   "source": []
  },
  {
   "cell_type": "code",
   "execution_count": null,
   "metadata": {},
   "outputs": [],
   "source": []
  },
  {
   "cell_type": "code",
   "execution_count": null,
   "metadata": {},
   "outputs": [],
   "source": []
  },
  {
   "cell_type": "code",
   "execution_count": null,
   "metadata": {},
   "outputs": [],
   "source": []
  }
 ],
 "metadata": {
  "kernelspec": {
   "display_name": "learn-env",
   "language": "python",
   "name": "learn-env"
  },
  "language_info": {
   "codemirror_mode": {
    "name": "ipython",
    "version": 3
   },
   "file_extension": ".py",
   "mimetype": "text/x-python",
   "name": "python",
   "nbconvert_exporter": "python",
   "pygments_lexer": "ipython3",
   "version": "3.8.5"
  }
 },
 "nbformat": 4,
 "nbformat_minor": 4
}
