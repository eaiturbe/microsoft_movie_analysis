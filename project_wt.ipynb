{
 "cells": [
  {
   "cell_type": "markdown",
   "metadata": {},
   "source": [
    "# Required Packages:"
   ]
  },
  {
   "cell_type": "code",
   "execution_count": 657,
   "metadata": {},
   "outputs": [],
   "source": [
    "import sqlite3\n",
    "\n",
    "import requests\n",
    "\n",
    "import pandas as pd\n",
    "\n",
    "import numpy as np\n",
    "\n",
    "import matplotlib.pyplot as plt\n",
    "\n",
    "import matplotlib.patches as mpatches"
   ]
  },
  {
   "cell_type": "markdown",
   "metadata": {},
   "source": [
    "# Dataframe with Voting Information - Table:"
   ]
  },
  {
   "cell_type": "markdown",
   "metadata": {},
   "source": [
    "#### First, I will add the dataframe to this project."
   ]
  },
  {
   "cell_type": "code",
   "execution_count": 658,
   "metadata": {},
   "outputs": [],
   "source": [
    "df = pd.read_csv('data/zippedData/tmdb.movies.csv.gz')"
   ]
  },
  {
   "cell_type": "markdown",
   "metadata": {},
   "source": [
    "#### My original dataframe is below:"
   ]
  },
  {
   "cell_type": "code",
   "execution_count": 659,
   "metadata": {},
   "outputs": [
    {
     "data": {
      "text/html": [
       "<div>\n",
       "<style scoped>\n",
       "    .dataframe tbody tr th:only-of-type {\n",
       "        vertical-align: middle;\n",
       "    }\n",
       "\n",
       "    .dataframe tbody tr th {\n",
       "        vertical-align: top;\n",
       "    }\n",
       "\n",
       "    .dataframe thead th {\n",
       "        text-align: right;\n",
       "    }\n",
       "</style>\n",
       "<table border=\"1\" class=\"dataframe\">\n",
       "  <thead>\n",
       "    <tr style=\"text-align: right;\">\n",
       "      <th></th>\n",
       "      <th>genre_ids</th>\n",
       "      <th>id</th>\n",
       "      <th>original_language</th>\n",
       "      <th>original_title</th>\n",
       "      <th>popularity</th>\n",
       "      <th>release_date</th>\n",
       "      <th>title</th>\n",
       "      <th>vote_average</th>\n",
       "      <th>vote_count</th>\n",
       "    </tr>\n",
       "  </thead>\n",
       "  <tbody>\n",
       "    <tr>\n",
       "      <th>0</th>\n",
       "      <td>[12, 14, 10751]</td>\n",
       "      <td>12444</td>\n",
       "      <td>en</td>\n",
       "      <td>Harry Potter and the Deathly Hallows: Part 1</td>\n",
       "      <td>33.533</td>\n",
       "      <td>2010-11-19</td>\n",
       "      <td>Harry Potter and the Deathly Hallows: Part 1</td>\n",
       "      <td>7.7</td>\n",
       "      <td>10788</td>\n",
       "    </tr>\n",
       "    <tr>\n",
       "      <th>1</th>\n",
       "      <td>[14, 12, 16, 10751]</td>\n",
       "      <td>10191</td>\n",
       "      <td>en</td>\n",
       "      <td>How to Train Your Dragon</td>\n",
       "      <td>28.734</td>\n",
       "      <td>2010-03-26</td>\n",
       "      <td>How to Train Your Dragon</td>\n",
       "      <td>7.7</td>\n",
       "      <td>7610</td>\n",
       "    </tr>\n",
       "    <tr>\n",
       "      <th>2</th>\n",
       "      <td>[12, 28, 878]</td>\n",
       "      <td>10138</td>\n",
       "      <td>en</td>\n",
       "      <td>Iron Man 2</td>\n",
       "      <td>28.515</td>\n",
       "      <td>2010-05-07</td>\n",
       "      <td>Iron Man 2</td>\n",
       "      <td>6.8</td>\n",
       "      <td>12368</td>\n",
       "    </tr>\n",
       "    <tr>\n",
       "      <th>3</th>\n",
       "      <td>[16, 35, 10751]</td>\n",
       "      <td>862</td>\n",
       "      <td>en</td>\n",
       "      <td>Toy Story</td>\n",
       "      <td>28.005</td>\n",
       "      <td>1995-11-22</td>\n",
       "      <td>Toy Story</td>\n",
       "      <td>7.9</td>\n",
       "      <td>10174</td>\n",
       "    </tr>\n",
       "    <tr>\n",
       "      <th>4</th>\n",
       "      <td>[28, 878, 12]</td>\n",
       "      <td>27205</td>\n",
       "      <td>en</td>\n",
       "      <td>Inception</td>\n",
       "      <td>27.920</td>\n",
       "      <td>2010-07-16</td>\n",
       "      <td>Inception</td>\n",
       "      <td>8.3</td>\n",
       "      <td>22186</td>\n",
       "    </tr>\n",
       "    <tr>\n",
       "      <th>...</th>\n",
       "      <td>...</td>\n",
       "      <td>...</td>\n",
       "      <td>...</td>\n",
       "      <td>...</td>\n",
       "      <td>...</td>\n",
       "      <td>...</td>\n",
       "      <td>...</td>\n",
       "      <td>...</td>\n",
       "      <td>...</td>\n",
       "    </tr>\n",
       "    <tr>\n",
       "      <th>26512</th>\n",
       "      <td>[27, 18]</td>\n",
       "      <td>488143</td>\n",
       "      <td>en</td>\n",
       "      <td>Laboratory Conditions</td>\n",
       "      <td>0.600</td>\n",
       "      <td>2018-10-13</td>\n",
       "      <td>Laboratory Conditions</td>\n",
       "      <td>0.0</td>\n",
       "      <td>1</td>\n",
       "    </tr>\n",
       "    <tr>\n",
       "      <th>26513</th>\n",
       "      <td>[18, 53]</td>\n",
       "      <td>485975</td>\n",
       "      <td>en</td>\n",
       "      <td>_EXHIBIT_84xxx_</td>\n",
       "      <td>0.600</td>\n",
       "      <td>2018-05-01</td>\n",
       "      <td>_EXHIBIT_84xxx_</td>\n",
       "      <td>0.0</td>\n",
       "      <td>1</td>\n",
       "    </tr>\n",
       "    <tr>\n",
       "      <th>26514</th>\n",
       "      <td>[14, 28, 12]</td>\n",
       "      <td>381231</td>\n",
       "      <td>en</td>\n",
       "      <td>The Last One</td>\n",
       "      <td>0.600</td>\n",
       "      <td>2018-10-01</td>\n",
       "      <td>The Last One</td>\n",
       "      <td>0.0</td>\n",
       "      <td>1</td>\n",
       "    </tr>\n",
       "    <tr>\n",
       "      <th>26515</th>\n",
       "      <td>[10751, 12, 28]</td>\n",
       "      <td>366854</td>\n",
       "      <td>en</td>\n",
       "      <td>Trailer Made</td>\n",
       "      <td>0.600</td>\n",
       "      <td>2018-06-22</td>\n",
       "      <td>Trailer Made</td>\n",
       "      <td>0.0</td>\n",
       "      <td>1</td>\n",
       "    </tr>\n",
       "    <tr>\n",
       "      <th>26516</th>\n",
       "      <td>[53, 27]</td>\n",
       "      <td>309885</td>\n",
       "      <td>en</td>\n",
       "      <td>The Church</td>\n",
       "      <td>0.600</td>\n",
       "      <td>2018-10-05</td>\n",
       "      <td>The Church</td>\n",
       "      <td>0.0</td>\n",
       "      <td>1</td>\n",
       "    </tr>\n",
       "  </tbody>\n",
       "</table>\n",
       "<p>26517 rows × 9 columns</p>\n",
       "</div>"
      ],
      "text/plain": [
       "                 genre_ids      id original_language  \\\n",
       "0          [12, 14, 10751]   12444                en   \n",
       "1      [14, 12, 16, 10751]   10191                en   \n",
       "2            [12, 28, 878]   10138                en   \n",
       "3          [16, 35, 10751]     862                en   \n",
       "4            [28, 878, 12]   27205                en   \n",
       "...                    ...     ...               ...   \n",
       "26512             [27, 18]  488143                en   \n",
       "26513             [18, 53]  485975                en   \n",
       "26514         [14, 28, 12]  381231                en   \n",
       "26515      [10751, 12, 28]  366854                en   \n",
       "26516             [53, 27]  309885                en   \n",
       "\n",
       "                                     original_title  popularity release_date  \\\n",
       "0      Harry Potter and the Deathly Hallows: Part 1      33.533   2010-11-19   \n",
       "1                          How to Train Your Dragon      28.734   2010-03-26   \n",
       "2                                        Iron Man 2      28.515   2010-05-07   \n",
       "3                                         Toy Story      28.005   1995-11-22   \n",
       "4                                         Inception      27.920   2010-07-16   \n",
       "...                                             ...         ...          ...   \n",
       "26512                         Laboratory Conditions       0.600   2018-10-13   \n",
       "26513                               _EXHIBIT_84xxx_       0.600   2018-05-01   \n",
       "26514                                  The Last One       0.600   2018-10-01   \n",
       "26515                                  Trailer Made       0.600   2018-06-22   \n",
       "26516                                    The Church       0.600   2018-10-05   \n",
       "\n",
       "                                              title  vote_average  vote_count  \n",
       "0      Harry Potter and the Deathly Hallows: Part 1           7.7       10788  \n",
       "1                          How to Train Your Dragon           7.7        7610  \n",
       "2                                        Iron Man 2           6.8       12368  \n",
       "3                                         Toy Story           7.9       10174  \n",
       "4                                         Inception           8.3       22186  \n",
       "...                                             ...           ...         ...  \n",
       "26512                         Laboratory Conditions           0.0           1  \n",
       "26513                               _EXHIBIT_84xxx_           0.0           1  \n",
       "26514                                  The Last One           0.0           1  \n",
       "26515                                  Trailer Made           0.0           1  \n",
       "26516                                    The Church           0.0           1  \n",
       "\n",
       "[26517 rows x 9 columns]"
      ]
     },
     "execution_count": 659,
     "metadata": {},
     "output_type": "execute_result"
    }
   ],
   "source": [
    "df"
   ]
  },
  {
   "cell_type": "markdown",
   "metadata": {},
   "source": [
    "#### Next, I will drop the unnecessary columns and limit the dataframe to movies that have received at least 10,000 votes."
   ]
  },
  {
   "cell_type": "code",
   "execution_count": 660,
   "metadata": {},
   "outputs": [],
   "source": [
    "df = df.drop(columns=['genre_ids', 'id', 'original_language','original_title', 'popularity'])"
   ]
  },
  {
   "cell_type": "code",
   "execution_count": 661,
   "metadata": {},
   "outputs": [],
   "source": [
    "new_df = df[df['vote_count'] > 10000]"
   ]
  },
  {
   "cell_type": "markdown",
   "metadata": {},
   "source": [
    "#### Next, I will create a new column indicating the month that each movie was released"
   ]
  },
  {
   "cell_type": "code",
   "execution_count": 662,
   "metadata": {},
   "outputs": [],
   "source": [
    "highest_vote_average['release_month'] = highest_vote_average['release_date']\n",
    "highest_vote_average['release_month'] = highest_vote_average['release_date'].str[5:7]"
   ]
  },
  {
   "cell_type": "markdown",
   "metadata": {},
   "source": [
    "#### Finally, I will sort the dataframe by movies that received the highest rating and print the top 100 rows."
   ]
  },
  {
   "cell_type": "code",
   "execution_count": 663,
   "metadata": {
    "scrolled": true
   },
   "outputs": [],
   "source": [
    "highest_vote_average = highest_vote_average.sort_values('vote_average', ascending = False)\n",
    "highest_vote_average = highest_vote_average.head(100)"
   ]
  },
  {
   "cell_type": "code",
   "execution_count": 664,
   "metadata": {},
   "outputs": [
    {
     "data": {
      "text/html": [
       "<div>\n",
       "<style scoped>\n",
       "    .dataframe tbody tr th:only-of-type {\n",
       "        vertical-align: middle;\n",
       "    }\n",
       "\n",
       "    .dataframe tbody tr th {\n",
       "        vertical-align: top;\n",
       "    }\n",
       "\n",
       "    .dataframe thead th {\n",
       "        text-align: right;\n",
       "    }\n",
       "</style>\n",
       "<table border=\"1\" class=\"dataframe\">\n",
       "  <thead>\n",
       "    <tr style=\"text-align: right;\">\n",
       "      <th></th>\n",
       "      <th>release_date</th>\n",
       "      <th>title</th>\n",
       "      <th>vote_average</th>\n",
       "      <th>vote_count</th>\n",
       "      <th>release_month</th>\n",
       "    </tr>\n",
       "  </thead>\n",
       "  <tbody>\n",
       "    <tr>\n",
       "      <th>4</th>\n",
       "      <td>2010-07-16</td>\n",
       "      <td>Inception</td>\n",
       "      <td>8.3</td>\n",
       "      <td>22186</td>\n",
       "      <td>07</td>\n",
       "    </tr>\n",
       "    <tr>\n",
       "      <th>23811</th>\n",
       "      <td>2018-04-27</td>\n",
       "      <td>Avengers: Infinity War</td>\n",
       "      <td>8.3</td>\n",
       "      <td>13948</td>\n",
       "      <td>04</td>\n",
       "    </tr>\n",
       "    <tr>\n",
       "      <th>11032</th>\n",
       "      <td>2014-11-05</td>\n",
       "      <td>Interstellar</td>\n",
       "      <td>8.2</td>\n",
       "      <td>18597</td>\n",
       "      <td>11</td>\n",
       "    </tr>\n",
       "    <tr>\n",
       "      <th>2472</th>\n",
       "      <td>1994-06-23</td>\n",
       "      <td>The Lion King</td>\n",
       "      <td>8.2</td>\n",
       "      <td>10160</td>\n",
       "      <td>06</td>\n",
       "    </tr>\n",
       "    <tr>\n",
       "      <th>2471</th>\n",
       "      <td>2011-07-15</td>\n",
       "      <td>Harry Potter and the Deathly Hallows: Part 2</td>\n",
       "      <td>8.1</td>\n",
       "      <td>11567</td>\n",
       "      <td>07</td>\n",
       "    </tr>\n",
       "    <tr>\n",
       "      <th>...</th>\n",
       "      <td>...</td>\n",
       "      <td>...</td>\n",
       "      <td>...</td>\n",
       "      <td>...</td>\n",
       "      <td>...</td>\n",
       "    </tr>\n",
       "    <tr>\n",
       "      <th>14193</th>\n",
       "      <td>2015-06-12</td>\n",
       "      <td>Jurassic World</td>\n",
       "      <td>6.6</td>\n",
       "      <td>14056</td>\n",
       "      <td>06</td>\n",
       "    </tr>\n",
       "    <tr>\n",
       "      <th>5186</th>\n",
       "      <td>2012-07-04</td>\n",
       "      <td>The Amazing Spider-Man</td>\n",
       "      <td>6.5</td>\n",
       "      <td>10411</td>\n",
       "      <td>07</td>\n",
       "    </tr>\n",
       "    <tr>\n",
       "      <th>11068</th>\n",
       "      <td>2014-07-25</td>\n",
       "      <td>Lucy</td>\n",
       "      <td>6.3</td>\n",
       "      <td>10019</td>\n",
       "      <td>07</td>\n",
       "    </tr>\n",
       "    <tr>\n",
       "      <th>17437</th>\n",
       "      <td>2016-08-05</td>\n",
       "      <td>Suicide Squad</td>\n",
       "      <td>5.9</td>\n",
       "      <td>13533</td>\n",
       "      <td>08</td>\n",
       "    </tr>\n",
       "    <tr>\n",
       "      <th>17390</th>\n",
       "      <td>2016-03-25</td>\n",
       "      <td>Batman v Superman: Dawn of Justice</td>\n",
       "      <td>5.8</td>\n",
       "      <td>11991</td>\n",
       "      <td>03</td>\n",
       "    </tr>\n",
       "  </tbody>\n",
       "</table>\n",
       "<p>72 rows × 5 columns</p>\n",
       "</div>"
      ],
      "text/plain": [
       "      release_date                                         title  \\\n",
       "4       2010-07-16                                     Inception   \n",
       "23811   2018-04-27                        Avengers: Infinity War   \n",
       "11032   2014-11-05                                  Interstellar   \n",
       "2472    1994-06-23                                 The Lion King   \n",
       "2471    2011-07-15  Harry Potter and the Deathly Hallows: Part 2   \n",
       "...            ...                                           ...   \n",
       "14193   2015-06-12                                Jurassic World   \n",
       "5186    2012-07-04                        The Amazing Spider-Man   \n",
       "11068   2014-07-25                                          Lucy   \n",
       "17437   2016-08-05                                 Suicide Squad   \n",
       "17390   2016-03-25            Batman v Superman: Dawn of Justice   \n",
       "\n",
       "       vote_average  vote_count release_month  \n",
       "4               8.3       22186            07  \n",
       "23811           8.3       13948            04  \n",
       "11032           8.2       18597            11  \n",
       "2472            8.2       10160            06  \n",
       "2471            8.1       11567            07  \n",
       "...             ...         ...           ...  \n",
       "14193           6.6       14056            06  \n",
       "5186            6.5       10411            07  \n",
       "11068           6.3       10019            07  \n",
       "17437           5.9       13533            08  \n",
       "17390           5.8       11991            03  \n",
       "\n",
       "[72 rows x 5 columns]"
      ]
     },
     "execution_count": 664,
     "metadata": {},
     "output_type": "execute_result"
    }
   ],
   "source": [
    "highest_vote_average"
   ]
  },
  {
   "cell_type": "code",
   "execution_count": 665,
   "metadata": {},
   "outputs": [],
   "source": [
    "highest_vote_average['release_month'] = highest_vote_average['release_month'].replace(['02'], 'Feb')\n",
    "highest_vote_average['release_month'] = highest_vote_average['release_month'].replace(['03'], 'Mar')\n",
    "highest_vote_average['release_month'] = highest_vote_average['release_month'].replace(['04'], 'Apr')\n",
    "highest_vote_average['release_month'] = highest_vote_average['release_month'].replace(['05'], 'May')\n",
    "highest_vote_average['release_month'] = highest_vote_average['release_month'].replace(['06'], 'Jun')\n",
    "highest_vote_average['release_month'] = highest_vote_average['release_month'].replace(['07'], 'Jul')\n",
    "highest_vote_average['release_month'] = highest_vote_average['release_month'].replace(['08'], 'Aug')\n",
    "highest_vote_average['release_month'] = highest_vote_average['release_month'].replace(['09'], 'Sep')\n",
    "highest_vote_average['release_month'] = highest_vote_average['release_month'].replace(['10'], 'Oct')\n",
    "highest_vote_average['release_month'] = highest_vote_average['release_month'].replace(['11'], 'Nov')\n",
    "highest_vote_average['release_month'] = highest_vote_average['release_month'].replace(['12'], 'Dec')"
   ]
  },
  {
   "cell_type": "code",
   "execution_count": 666,
   "metadata": {},
   "outputs": [],
   "source": [
    "months_and_votes = highest_vote_average.groupby('release_month').mean()"
   ]
  },
  {
   "cell_type": "code",
   "execution_count": 667,
   "metadata": {},
   "outputs": [
    {
     "data": {
      "text/html": [
       "<div>\n",
       "<style scoped>\n",
       "    .dataframe tbody tr th:only-of-type {\n",
       "        vertical-align: middle;\n",
       "    }\n",
       "\n",
       "    .dataframe tbody tr th {\n",
       "        vertical-align: top;\n",
       "    }\n",
       "\n",
       "    .dataframe thead th {\n",
       "        text-align: right;\n",
       "    }\n",
       "</style>\n",
       "<table border=\"1\" class=\"dataframe\">\n",
       "  <thead>\n",
       "    <tr style=\"text-align: right;\">\n",
       "      <th></th>\n",
       "      <th>vote_average</th>\n",
       "      <th>vote_count</th>\n",
       "    </tr>\n",
       "    <tr>\n",
       "      <th>release_month</th>\n",
       "      <th></th>\n",
       "      <th></th>\n",
       "    </tr>\n",
       "  </thead>\n",
       "  <tbody>\n",
       "    <tr>\n",
       "      <th>Apr</th>\n",
       "      <td>8.000000</td>\n",
       "      <td>12491.000000</td>\n",
       "    </tr>\n",
       "    <tr>\n",
       "      <th>Aug</th>\n",
       "      <td>6.900000</td>\n",
       "      <td>15745.500000</td>\n",
       "    </tr>\n",
       "    <tr>\n",
       "      <th>Dec</th>\n",
       "      <td>7.636364</td>\n",
       "      <td>12431.818182</td>\n",
       "    </tr>\n",
       "    <tr>\n",
       "      <th>Feb</th>\n",
       "      <td>7.660000</td>\n",
       "      <td>13147.800000</td>\n",
       "    </tr>\n",
       "    <tr>\n",
       "      <th>Jul</th>\n",
       "      <td>7.277778</td>\n",
       "      <td>12724.111111</td>\n",
       "    </tr>\n",
       "    <tr>\n",
       "      <th>Jun</th>\n",
       "      <td>7.525000</td>\n",
       "      <td>12368.250000</td>\n",
       "    </tr>\n",
       "    <tr>\n",
       "      <th>Mar</th>\n",
       "      <td>6.900000</td>\n",
       "      <td>12482.750000</td>\n",
       "    </tr>\n",
       "    <tr>\n",
       "      <th>May</th>\n",
       "      <td>7.255556</td>\n",
       "      <td>13718.666667</td>\n",
       "    </tr>\n",
       "    <tr>\n",
       "      <th>Nov</th>\n",
       "      <td>7.472222</td>\n",
       "      <td>11386.444444</td>\n",
       "    </tr>\n",
       "    <tr>\n",
       "      <th>Oct</th>\n",
       "      <td>7.625000</td>\n",
       "      <td>11221.000000</td>\n",
       "    </tr>\n",
       "    <tr>\n",
       "      <th>Sep</th>\n",
       "      <td>7.175000</td>\n",
       "      <td>10715.750000</td>\n",
       "    </tr>\n",
       "  </tbody>\n",
       "</table>\n",
       "</div>"
      ],
      "text/plain": [
       "               vote_average    vote_count\n",
       "release_month                            \n",
       "Apr                8.000000  12491.000000\n",
       "Aug                6.900000  15745.500000\n",
       "Dec                7.636364  12431.818182\n",
       "Feb                7.660000  13147.800000\n",
       "Jul                7.277778  12724.111111\n",
       "Jun                7.525000  12368.250000\n",
       "Mar                6.900000  12482.750000\n",
       "May                7.255556  13718.666667\n",
       "Nov                7.472222  11386.444444\n",
       "Oct                7.625000  11221.000000\n",
       "Sep                7.175000  10715.750000"
      ]
     },
     "execution_count": 667,
     "metadata": {},
     "output_type": "execute_result"
    }
   ],
   "source": [
    "months_and_votes"
   ]
  },
  {
   "cell_type": "code",
   "execution_count": null,
   "metadata": {},
   "outputs": [],
   "source": []
  },
  {
   "cell_type": "code",
   "execution_count": null,
   "metadata": {},
   "outputs": [],
   "source": []
  },
  {
   "cell_type": "code",
   "execution_count": null,
   "metadata": {},
   "outputs": [],
   "source": []
  },
  {
   "cell_type": "code",
   "execution_count": null,
   "metadata": {},
   "outputs": [],
   "source": []
  },
  {
   "cell_type": "code",
   "execution_count": 668,
   "metadata": {},
   "outputs": [
    {
     "data": {
      "text/plain": [
       "Text(0, 0.5, 'Month')"
      ]
     },
     "execution_count": 668,
     "metadata": {},
     "output_type": "execute_result"
    },
    {
     "data": {
      "image/png": "[encoded data removed]",
      "text/plain": [
       "<Figure size 432x288 with 1 Axes>"
      ]
     },
     "metadata": {
      "needs_background": "light"
     },
     "output_type": "display_data"
    }
   ],
   "source": [
    "bar2 = plt.barh(highest_vote_average['release_month'], highest_vote_average['vote_average'])\n",
    "plt.title('Average Rating for each Month for Top 100 Movies')\n",
    "plt.xlabel('Rating')\n",
    "plt.ylabel('Month')"
   ]
  },
  {
   "cell_type": "code",
   "execution_count": 669,
   "metadata": {},
   "outputs": [],
   "source": [
    "##'SECOND TABLE'"
   ]
  },
  {
   "cell_type": "code",
   "execution_count": 670,
   "metadata": {},
   "outputs": [],
   "source": [
    "highest_worldwide_gross['release_month'] = highest_worldwide_gross['release_date']\n",
    "highest_worldwide_gross['release_month'] = highest_worldwide_gross['release_date'].str[0:4]"
   ]
  },
  {
   "cell_type": "code",
   "execution_count": 671,
   "metadata": {},
   "outputs": [],
   "source": [
    "highest_worldwide_gross = highest_worldwide_gross.sort_values('worldwide_gross', ascending = False)\n",
    "highest_worldwide_gross = highest_worldwide_gross.head(100)"
   ]
  },
  {
   "cell_type": "code",
   "execution_count": 672,
   "metadata": {},
   "outputs": [
    {
     "data": {
      "text/html": [
       "<div>\n",
       "<style scoped>\n",
       "    .dataframe tbody tr th:only-of-type {\n",
       "        vertical-align: middle;\n",
       "    }\n",
       "\n",
       "    .dataframe tbody tr th {\n",
       "        vertical-align: top;\n",
       "    }\n",
       "\n",
       "    .dataframe thead th {\n",
       "        text-align: right;\n",
       "    }\n",
       "</style>\n",
       "<table border=\"1\" class=\"dataframe\">\n",
       "  <thead>\n",
       "    <tr style=\"text-align: right;\">\n",
       "      <th></th>\n",
       "      <th>release_date</th>\n",
       "      <th>movie</th>\n",
       "      <th>production_budget</th>\n",
       "      <th>worldwide_gross</th>\n",
       "      <th>release_month</th>\n",
       "    </tr>\n",
       "  </thead>\n",
       "  <tbody>\n",
       "    <tr>\n",
       "      <th>0</th>\n",
       "      <td>Dec 18, 2009</td>\n",
       "      <td>Avatar</td>\n",
       "      <td>425000000</td>\n",
       "      <td>2776345279</td>\n",
       "      <td>Dec</td>\n",
       "    </tr>\n",
       "    <tr>\n",
       "      <th>42</th>\n",
       "      <td>Dec 19, 1997</td>\n",
       "      <td>Titanic</td>\n",
       "      <td>200000000</td>\n",
       "      <td>2208208395</td>\n",
       "      <td>Dec</td>\n",
       "    </tr>\n",
       "    <tr>\n",
       "      <th>5</th>\n",
       "      <td>Dec 18, 2015</td>\n",
       "      <td>Star Wars Ep. VII: The Force Awakens</td>\n",
       "      <td>306000000</td>\n",
       "      <td>2053311220</td>\n",
       "      <td>Dec</td>\n",
       "    </tr>\n",
       "    <tr>\n",
       "      <th>6</th>\n",
       "      <td>Apr 27, 2018</td>\n",
       "      <td>Avengers: Infinity War</td>\n",
       "      <td>300000000</td>\n",
       "      <td>2048134200</td>\n",
       "      <td>Apr</td>\n",
       "    </tr>\n",
       "    <tr>\n",
       "      <th>33</th>\n",
       "      <td>Jun 12, 2015</td>\n",
       "      <td>Jurassic World</td>\n",
       "      <td>215000000</td>\n",
       "      <td>1648854864</td>\n",
       "      <td>Jun</td>\n",
       "    </tr>\n",
       "    <tr>\n",
       "      <th>...</th>\n",
       "      <td>...</td>\n",
       "      <td>...</td>\n",
       "      <td>...</td>\n",
       "      <td>...</td>\n",
       "      <td>...</td>\n",
       "    </tr>\n",
       "    <tr>\n",
       "      <th>54</th>\n",
       "      <td>May 23, 2014</td>\n",
       "      <td>X-Men: Days of Future Past</td>\n",
       "      <td>200000000</td>\n",
       "      <td>747862775</td>\n",
       "      <td>May</td>\n",
       "    </tr>\n",
       "    <tr>\n",
       "      <th>196</th>\n",
       "      <td>Jun 8, 2012</td>\n",
       "      <td>Madagascar 3: Europe's Most Wanted</td>\n",
       "      <td>145000000</td>\n",
       "      <td>746921271</td>\n",
       "      <td>Jun</td>\n",
       "    </tr>\n",
       "    <tr>\n",
       "      <th>99</th>\n",
       "      <td>Aug 5, 2016</td>\n",
       "      <td>Suicide Squad</td>\n",
       "      <td>175000000</td>\n",
       "      <td>746059887</td>\n",
       "      <td>Aug</td>\n",
       "    </tr>\n",
       "    <tr>\n",
       "      <th>52</th>\n",
       "      <td>Jun 21, 2013</td>\n",
       "      <td>Monsters University</td>\n",
       "      <td>200000000</td>\n",
       "      <td>743588329</td>\n",
       "      <td>Jun</td>\n",
       "    </tr>\n",
       "    <tr>\n",
       "      <th>159</th>\n",
       "      <td>May 15, 2003</td>\n",
       "      <td>The Matrix Reloaded</td>\n",
       "      <td>150000000</td>\n",
       "      <td>738576929</td>\n",
       "      <td>May</td>\n",
       "    </tr>\n",
       "  </tbody>\n",
       "</table>\n",
       "<p>100 rows × 5 columns</p>\n",
       "</div>"
      ],
      "text/plain": [
       "     release_date                                 movie  production_budget  \\\n",
       "0    Dec 18, 2009                                Avatar          425000000   \n",
       "42   Dec 19, 1997                               Titanic          200000000   \n",
       "5    Dec 18, 2015  Star Wars Ep. VII: The Force Awakens          306000000   \n",
       "6    Apr 27, 2018                Avengers: Infinity War          300000000   \n",
       "33   Jun 12, 2015                        Jurassic World          215000000   \n",
       "..            ...                                   ...                ...   \n",
       "54   May 23, 2014            X-Men: Days of Future Past          200000000   \n",
       "196   Jun 8, 2012    Madagascar 3: Europe's Most Wanted          145000000   \n",
       "99    Aug 5, 2016                         Suicide Squad          175000000   \n",
       "52   Jun 21, 2013                   Monsters University          200000000   \n",
       "159  May 15, 2003                   The Matrix Reloaded          150000000   \n",
       "\n",
       "     worldwide_gross release_month  \n",
       "0         2776345279          Dec   \n",
       "42        2208208395          Dec   \n",
       "5         2053311220          Dec   \n",
       "6         2048134200          Apr   \n",
       "33        1648854864          Jun   \n",
       "..               ...           ...  \n",
       "54         747862775          May   \n",
       "196        746921271          Jun   \n",
       "99         746059887          Aug   \n",
       "52         743588329          Jun   \n",
       "159        738576929          May   \n",
       "\n",
       "[100 rows x 5 columns]"
      ]
     },
     "execution_count": 672,
     "metadata": {},
     "output_type": "execute_result"
    }
   ],
   "source": [
    "highest_worldwide_gross"
   ]
  },
  {
   "cell_type": "code",
   "execution_count": 673,
   "metadata": {},
   "outputs": [],
   "source": [
    "months_and_worldwide_gross = highest_worldwide_gross.drop(columns=['release_date', 'movie'])"
   ]
  },
  {
   "cell_type": "code",
   "execution_count": 674,
   "metadata": {},
   "outputs": [],
   "source": [
    "months_and_worldwide_gross = highest_worldwide_gross.groupby('release_month').mean()"
   ]
  },
  {
   "cell_type": "code",
   "execution_count": 675,
   "metadata": {},
   "outputs": [
    {
     "data": {
      "text/html": [
       "<div>\n",
       "<style scoped>\n",
       "    .dataframe tbody tr th:only-of-type {\n",
       "        vertical-align: middle;\n",
       "    }\n",
       "\n",
       "    .dataframe tbody tr th {\n",
       "        vertical-align: top;\n",
       "    }\n",
       "\n",
       "    .dataframe thead th {\n",
       "        text-align: right;\n",
       "    }\n",
       "</style>\n",
       "<table border=\"1\" class=\"dataframe\">\n",
       "  <thead>\n",
       "    <tr style=\"text-align: right;\">\n",
       "      <th></th>\n",
       "      <th>production_budget</th>\n",
       "      <th>worldwide_gross</th>\n",
       "    </tr>\n",
       "    <tr>\n",
       "      <th>release_month</th>\n",
       "      <th></th>\n",
       "      <th></th>\n",
       "    </tr>\n",
       "  </thead>\n",
       "  <tbody>\n",
       "    <tr>\n",
       "      <th>Apr</th>\n",
       "      <td>2.287500e+08</td>\n",
       "      <td>1.441139e+09</td>\n",
       "    </tr>\n",
       "    <tr>\n",
       "      <th>Aug</th>\n",
       "      <td>1.725000e+08</td>\n",
       "      <td>7.584637e+08</td>\n",
       "    </tr>\n",
       "    <tr>\n",
       "      <th>Dec</th>\n",
       "      <td>2.111538e+08</td>\n",
       "      <td>1.338565e+09</td>\n",
       "    </tr>\n",
       "    <tr>\n",
       "      <th>Feb</th>\n",
       "      <td>1.290000e+08</td>\n",
       "      <td>1.074642e+09</td>\n",
       "    </tr>\n",
       "    <tr>\n",
       "      <th>Jul</th>\n",
       "      <td>1.517500e+08</td>\n",
       "      <td>9.508027e+08</td>\n",
       "    </tr>\n",
       "    <tr>\n",
       "      <th>Jun</th>\n",
       "      <td>1.571000e+08</td>\n",
       "      <td>9.979005e+08</td>\n",
       "    </tr>\n",
       "    <tr>\n",
       "      <th>Mar</th>\n",
       "      <td>1.870000e+08</td>\n",
       "      <td>1.058936e+09</td>\n",
       "    </tr>\n",
       "    <tr>\n",
       "      <th>May</th>\n",
       "      <td>1.826333e+08</td>\n",
       "      <td>9.219870e+08</td>\n",
       "    </tr>\n",
       "    <tr>\n",
       "      <th>Nov</th>\n",
       "      <td>1.554133e+08</td>\n",
       "      <td>9.023763e+08</td>\n",
       "    </tr>\n",
       "    <tr>\n",
       "      <th>Oct</th>\n",
       "      <td>1.160000e+08</td>\n",
       "      <td>8.536286e+08</td>\n",
       "    </tr>\n",
       "  </tbody>\n",
       "</table>\n",
       "</div>"
      ],
      "text/plain": [
       "               production_budget  worldwide_gross\n",
       "release_month                                    \n",
       "Apr                 2.287500e+08     1.441139e+09\n",
       "Aug                 1.725000e+08     7.584637e+08\n",
       "Dec                 2.111538e+08     1.338565e+09\n",
       "Feb                 1.290000e+08     1.074642e+09\n",
       "Jul                 1.517500e+08     9.508027e+08\n",
       "Jun                 1.571000e+08     9.979005e+08\n",
       "Mar                 1.870000e+08     1.058936e+09\n",
       "May                 1.826333e+08     9.219870e+08\n",
       "Nov                 1.554133e+08     9.023763e+08\n",
       "Oct                 1.160000e+08     8.536286e+08"
      ]
     },
     "execution_count": 675,
     "metadata": {},
     "output_type": "execute_result"
    }
   ],
   "source": [
    "months_and_worldwide_gross"
   ]
  },
  {
   "cell_type": "code",
   "execution_count": 676,
   "metadata": {},
   "outputs": [
    {
     "data": {
      "text/plain": [
       "Text(0, 0.5, 'Month')"
      ]
     },
     "execution_count": 676,
     "metadata": {},
     "output_type": "execute_result"
    },
    {
     "data": {
      "image/png": "[encoded data removed]",
      "text/plain": [
       "<Figure size 432x288 with 1 Axes>"
      ]
     },
     "metadata": {
      "needs_background": "light"
     },
     "output_type": "display_data"
    }
   ],
   "source": [
    "bar3 = plt.barh(highest_worldwide_gross['release_month'], highest_worldwide_gross['worldwide_gross'])\n",
    "plt.title('Average Worldwide Gross Revenue for each Month for Top 100 Movies')\n",
    "plt.xlabel('Gross Revenue (billion)')\n",
    "plt.ylabel('Month')"
   ]
  },
  {
   "cell_type": "code",
   "execution_count": null,
   "metadata": {},
   "outputs": [],
   "source": []
  },
  {
   "cell_type": "code",
   "execution_count": null,
   "metadata": {},
   "outputs": [],
   "source": []
  },
  {
   "cell_type": "code",
   "execution_count": null,
   "metadata": {},
   "outputs": [],
   "source": []
  },
  {
   "cell_type": "markdown",
   "metadata": {},
   "source": [
    "# Dataframe with Voting Information - Bar Chart:"
   ]
  },
  {
   "cell_type": "markdown",
   "metadata": {},
   "source": [
    "#### I will use my 'highest_vote_average' dataframe to create a helpful bar chart.  My bar chart is below:"
   ]
  },
  {
   "cell_type": "code",
   "execution_count": 677,
   "metadata": {},
   "outputs": [
    {
     "data": {
      "text/plain": [
       "<matplotlib.legend.Legend at 0x14f5edfdb50>"
      ]
     },
     "execution_count": 677,
     "metadata": {},
     "output_type": "execute_result"
    },
    {
     "data": {
      "image/png": "[encoded data removed]",
      "text/plain": [
       "<Figure size 432x288 with 1 Axes>"
      ]
     },
     "metadata": {
      "needs_background": "light"
     },
     "output_type": "display_data"
    }
   ],
   "source": [
    " bar1 = plt.barh(highest_vote_average.head(10)['title'], highest_vote_average.head(10)['vote_count'])\n",
    "bar1[9].set_color('black')\n",
    "bar1[8].set_color('black')\n",
    "bar1[7].set_color('b')\n",
    "bar1[6].set_color('black')\n",
    "bar1[5].set_color('g')\n",
    "bar1[4].set_color('g')\n",
    "bar1[3].set_color('c')\n",
    "bar1[2].set_color('g')\n",
    "bar1[1].set_color('g')\n",
    "bar1[0].set_color('g')\n",
    "plt.title('Vote Count for 10 Highest Rated Movies with MBA Ratings')\n",
    "plt.xlabel('Vote Count')\n",
    "plt.ylabel('Movie Title')\n",
    "\n",
    "cyan_patch = mpatches.Patch(color='c', label='G')\n",
    "blue_patch = mpatches.Patch(color='b', label='PG')\n",
    "green_patch = mpatches.Patch(color='g', label='PG-13')\n",
    "black_patch = mpatches.Patch(color='black', label='R')\n",
    "plt.legend(handles=[cyan_patch, blue_patch, green_patch, black_patch])"
   ]
  },
  {
   "cell_type": "markdown",
   "metadata": {},
   "source": [
    "#### My bar chart shows the movies that received the highest ratings and their respective vote counts.  You can also see the mpa rating for each movie in the legend.  From my bar chart, I conclude that movies"
   ]
  },
  {
   "cell_type": "code",
   "execution_count": 678,
   "metadata": {},
   "outputs": [],
   "source": [
    "df2 = pd.read_csv('data/zippedData/tn.movie_budgets.csv.gz')"
   ]
  },
  {
   "cell_type": "code",
   "execution_count": 679,
   "metadata": {},
   "outputs": [],
   "source": [
    "df2 = df2.drop(columns=['id', 'domestic_gross'])"
   ]
  },
  {
   "cell_type": "code",
   "execution_count": 680,
   "metadata": {},
   "outputs": [],
   "source": [
    "df2['production_budget'] = df2['production_budget'].astype(str)\n",
    "df2['production_budget'] = df2['production_budget'].str.replace(',','').str.replace('$','').astype('int64')\n",
    "df2['worldwide_gross'] = df2['worldwide_gross'].astype(str)\n",
    "df2['worldwide_gross'] = df2['worldwide_gross'].str.replace(',','').str.replace('$','').astype('int64')"
   ]
  },
  {
   "cell_type": "code",
   "execution_count": 681,
   "metadata": {},
   "outputs": [
    {
     "data": {
      "text/html": [
       "<div>\n",
       "<style scoped>\n",
       "    .dataframe tbody tr th:only-of-type {\n",
       "        vertical-align: middle;\n",
       "    }\n",
       "\n",
       "    .dataframe tbody tr th {\n",
       "        vertical-align: top;\n",
       "    }\n",
       "\n",
       "    .dataframe thead th {\n",
       "        text-align: right;\n",
       "    }\n",
       "</style>\n",
       "<table border=\"1\" class=\"dataframe\">\n",
       "  <thead>\n",
       "    <tr style=\"text-align: right;\">\n",
       "      <th></th>\n",
       "      <th>release_date</th>\n",
       "      <th>movie</th>\n",
       "      <th>production_budget</th>\n",
       "      <th>worldwide_gross</th>\n",
       "    </tr>\n",
       "  </thead>\n",
       "  <tbody>\n",
       "    <tr>\n",
       "      <th>0</th>\n",
       "      <td>Dec 18, 2009</td>\n",
       "      <td>Avatar</td>\n",
       "      <td>425000000</td>\n",
       "      <td>2776345279</td>\n",
       "    </tr>\n",
       "    <tr>\n",
       "      <th>42</th>\n",
       "      <td>Dec 19, 1997</td>\n",
       "      <td>Titanic</td>\n",
       "      <td>200000000</td>\n",
       "      <td>2208208395</td>\n",
       "    </tr>\n",
       "    <tr>\n",
       "      <th>5</th>\n",
       "      <td>Dec 18, 2015</td>\n",
       "      <td>Star Wars Ep. VII: The Force Awakens</td>\n",
       "      <td>306000000</td>\n",
       "      <td>2053311220</td>\n",
       "    </tr>\n",
       "    <tr>\n",
       "      <th>6</th>\n",
       "      <td>Apr 27, 2018</td>\n",
       "      <td>Avengers: Infinity War</td>\n",
       "      <td>300000000</td>\n",
       "      <td>2048134200</td>\n",
       "    </tr>\n",
       "    <tr>\n",
       "      <th>33</th>\n",
       "      <td>Jun 12, 2015</td>\n",
       "      <td>Jurassic World</td>\n",
       "      <td>215000000</td>\n",
       "      <td>1648854864</td>\n",
       "    </tr>\n",
       "    <tr>\n",
       "      <th>...</th>\n",
       "      <td>...</td>\n",
       "      <td>...</td>\n",
       "      <td>...</td>\n",
       "      <td>...</td>\n",
       "    </tr>\n",
       "    <tr>\n",
       "      <th>54</th>\n",
       "      <td>May 23, 2014</td>\n",
       "      <td>X-Men: Days of Future Past</td>\n",
       "      <td>200000000</td>\n",
       "      <td>747862775</td>\n",
       "    </tr>\n",
       "    <tr>\n",
       "      <th>196</th>\n",
       "      <td>Jun 8, 2012</td>\n",
       "      <td>Madagascar 3: Europe's Most Wanted</td>\n",
       "      <td>145000000</td>\n",
       "      <td>746921271</td>\n",
       "    </tr>\n",
       "    <tr>\n",
       "      <th>99</th>\n",
       "      <td>Aug 5, 2016</td>\n",
       "      <td>Suicide Squad</td>\n",
       "      <td>175000000</td>\n",
       "      <td>746059887</td>\n",
       "    </tr>\n",
       "    <tr>\n",
       "      <th>52</th>\n",
       "      <td>Jun 21, 2013</td>\n",
       "      <td>Monsters University</td>\n",
       "      <td>200000000</td>\n",
       "      <td>743588329</td>\n",
       "    </tr>\n",
       "    <tr>\n",
       "      <th>159</th>\n",
       "      <td>May 15, 2003</td>\n",
       "      <td>The Matrix Reloaded</td>\n",
       "      <td>150000000</td>\n",
       "      <td>738576929</td>\n",
       "    </tr>\n",
       "  </tbody>\n",
       "</table>\n",
       "<p>100 rows × 4 columns</p>\n",
       "</div>"
      ],
      "text/plain": [
       "     release_date                                 movie  production_budget  \\\n",
       "0    Dec 18, 2009                                Avatar          425000000   \n",
       "42   Dec 19, 1997                               Titanic          200000000   \n",
       "5    Dec 18, 2015  Star Wars Ep. VII: The Force Awakens          306000000   \n",
       "6    Apr 27, 2018                Avengers: Infinity War          300000000   \n",
       "33   Jun 12, 2015                        Jurassic World          215000000   \n",
       "..            ...                                   ...                ...   \n",
       "54   May 23, 2014            X-Men: Days of Future Past          200000000   \n",
       "196   Jun 8, 2012    Madagascar 3: Europe's Most Wanted          145000000   \n",
       "99    Aug 5, 2016                         Suicide Squad          175000000   \n",
       "52   Jun 21, 2013                   Monsters University          200000000   \n",
       "159  May 15, 2003                   The Matrix Reloaded          150000000   \n",
       "\n",
       "     worldwide_gross  \n",
       "0         2776345279  \n",
       "42        2208208395  \n",
       "5         2053311220  \n",
       "6         2048134200  \n",
       "33        1648854864  \n",
       "..               ...  \n",
       "54         747862775  \n",
       "196        746921271  \n",
       "99         746059887  \n",
       "52         743588329  \n",
       "159        738576929  \n",
       "\n",
       "[100 rows x 4 columns]"
      ]
     },
     "execution_count": 681,
     "metadata": {},
     "output_type": "execute_result"
    }
   ],
   "source": [
    "highest_worldwide_gross = df2.sort_values('worldwide_gross', ascending = False)\n",
    "highest_worldwide_gross = highest_worldwide_gross.head(100)\n",
    "highest_worldwide_gross"
   ]
  },
  {
   "cell_type": "code",
   "execution_count": 694,
   "metadata": {},
   "outputs": [
    {
     "data": {
      "image/png": "[encoded data removed]",
      "text/plain": [
       "<Figure size 432x288 with 1 Axes>"
      ]
     },
     "metadata": {
      "needs_background": "light"
     },
     "output_type": "display_data"
    }
   ],
   "source": [
    "data = highest_worldwide_gross[['production_budget', 'worldwide_gross']]\n",
    "x = data['production_budget']\n",
    "y = data['worldwide_gross']\n",
    "plt.scatter(x, y)\n",
    "\n",
    "z = np.polyfit(x, y, 1)\n",
    "p = np.poly1d(z)\n",
    "plt.plot(x,p(x),\"green\")\n",
    "\n",
    "plt.title('Budget for 100 Highest Grossing Movies')\n",
    "plt.xlabel('Production Budget (hundred million)')\n",
    "plt.ylabel('Worldwide Gross (hundred million)')\n",
    "\n",
    "plt.axvline(highest_worldwide_gross['production_budget'].mean(), color = 'orange')\n",
    "plt.axhline(highest_worldwide_gross['worldwide_gross'].mean(), color = 'red')\n",
    "\n",
    "\n",
    "mean_patch = mpatches.Patch(color='orange', label='Prod Budget Mean')\n",
    "mean2_patch = mpatches.Patch(color='red', label='Worldwide Gross Mean')\n",
    "trend_patch = mpatches.Patch(color='green', label='Trend Line')\n",
    "plt.legend(handles=[mean_patch, mean2_patch, trend_patch])\n",
    "\n",
    "plt.show()"
   ]
  },
  {
   "cell_type": "code",
   "execution_count": null,
   "metadata": {},
   "outputs": [],
   "source": []
  },
  {
   "cell_type": "code",
   "execution_count": null,
   "metadata": {},
   "outputs": [],
   "source": []
  },
  {
   "cell_type": "code",
   "execution_count": null,
   "metadata": {},
   "outputs": [],
   "source": []
  },
  {
   "cell_type": "code",
   "execution_count": null,
   "metadata": {},
   "outputs": [],
   "source": []
  }
 ],
 "metadata": {
  "kernelspec": {
   "display_name": "learn-env",
   "language": "python",
   "name": "learn-env"
  },
  "language_info": {
   "codemirror_mode": {
    "name": "ipython",
    "version": 3
   },
   "file_extension": ".py",
   "mimetype": "text/x-python",
   "name": "python",
   "nbconvert_exporter": "python",
   "pygments_lexer": "ipython3",
   "version": "3.8.5"
  }
 },
 "nbformat": 4,
 "nbformat_minor": 4
}
